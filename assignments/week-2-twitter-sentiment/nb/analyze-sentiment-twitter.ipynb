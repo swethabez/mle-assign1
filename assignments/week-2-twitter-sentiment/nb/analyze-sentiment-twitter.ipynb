{
 "cells": [
  {
   "cell_type": "markdown",
   "id": "24d097db",
   "metadata": {},
   "source": [
    "<p align = \"center\" draggable=”false” ><img src=\"https://user-images.githubusercontent.com/37101144/161836199-fdb0219d-0361-4988-bf26-48b0fad160a3.png\"\n",
    "     width=\"200px\"\n",
    "     height=\"auto\"/>\n",
    "</p>\n",
    "\n",
    "# <h1 align=\"center\" id=\"heading\">Sentiment Analysis of Twitter Data</h1>\n",
    "\n",
    "<hr>\n",
    "\n",
    "\n",
    "### ☑️ Objectives\n",
    "At the end of this session, you will be able to:\n",
    "- [ ] Understand how to find and run pre-trained models\n",
    "- [ ] Evaluate results from pre-trained models\n",
    "- [ ] Run a pre-trained model using real twitter data\n",
    "\n",
    "\n",
    "### 🔨 Pre-Assignment\n",
    "\n",
    "Create a new Conda environment for sentiment anaylsis (sa)\n",
    "\n",
    "```bash\n",
    "  conda create -n sa python=3.8 jupyter -y\n",
    "```\n",
    "\n",
    "Activate your new environment\n",
    "```bash\n",
    "  conda activate sa\n",
    "```\n",
    "\n",
    "Open the jupyter-notebook\n",
    "```bash\n",
    "  jupyter-notebook\n",
    "```\n",
    "\n",
    "Navigate through the repo in the notebook to find `imports.ipynb` for this week and open it.\n",
    "\n",
    "Run all of the cells in the notebook.\n",
    "\n",
    "\n",
    "### Background\n",
    "Please review the weekly narrative [here](https://www.notion.so/Week-2-Data-Centric-AI-the-AI-Product-Lifecycle-72a84c1517b44fcbb3e6bd11d47477dc#2b73937612bb46559f5b91dc2bf55e7d)\n",
    "\n",
    "\n"
   ]
  },
  {
   "cell_type": "markdown",
   "id": "b3934e6e",
   "metadata": {},
   "source": [
    "<hr>"
   ]
  },
  {
   "cell_type": "markdown",
   "id": "d1a5ab14",
   "metadata": {},
   "source": [
    "## 🚀 Let's Get Started"
   ]
  },
  {
   "cell_type": "markdown",
   "id": "bea542cb",
   "metadata": {},
   "source": [
    "Let's first start with our imports"
   ]
  },
  {
   "cell_type": "code",
   "execution_count": 1,
   "id": "f67dcb2b",
   "metadata": {
    "scrolled": true
   },
   "outputs": [],
   "source": [
    "import csv # Allows us to read and write csv files\n",
    "from pprint import pprint # Make our print functions easier to read\n",
    "\n",
    "from transformers import pipeline # Hugging face pipeline to load online models"
   ]
  },
  {
   "cell_type": "markdown",
   "id": "62d4028f",
   "metadata": {},
   "source": [
    "🤗 Transformers provides thousands of pretrained models to perform tasks on different modalities such as text, vision, and audio.\n",
    "\n",
    "These models can be applied on:\n",
    "- 📝 Text, for tasks like text classification, information extraction, question answering, summarization, translation, text generation, in over 100 languages.\n",
    "\n",
    "- 🖼️ Images, for tasks like image classification, object detection, and segmentation.\n",
    "- 🗣️ Audio, for tasks like speech recognition and audio classification.\n",
    "\n",
    "This is the pipeline method in transformers that we'll be using to analyze our sentiment data. Since we're not specifying a pretrained model, the pipeline has a default sentiment analysis model called [distilbert-base-uncased-finetuned-sst-2-english](https://huggingface.co/distilbert-base-uncased-finetuned-sst-2-english)."
   ]
  },
  {
   "cell_type": "code",
   "execution_count": 2,
   "id": "9c3e6e41",
   "metadata": {},
   "outputs": [
    {
     "name": "stderr",
     "output_type": "stream",
     "text": [
      "No model was supplied, defaulted to distilbert-base-uncased-finetuned-sst-2-english and revision af0f99b (https://huggingface.co/distilbert-base-uncased-finetuned-sst-2-english).\n",
      "Using a pipeline without specifying a model name and revision in production is not recommended.\n"
     ]
    },
    {
     "data": {
      "text/plain": "Downloading config.json:   0%|          | 0.00/629 [00:00<?, ?B/s]",
      "application/vnd.jupyter.widget-view+json": {
       "version_major": 2,
       "version_minor": 0,
       "model_id": "5249adde681642d59bb4229cc74ccc9e"
      },
      "application/json": {
       "n": 0,
       "total": 629,
       "elapsed": 0.055262088775634766,
       "ncols": null,
       "nrows": null,
       "prefix": "Downloading config.json",
       "ascii": false,
       "unit": "B",
       "unit_scale": true,
       "rate": null,
       "bar_format": null,
       "postfix": null,
       "unit_divisor": 1024,
       "initial": 0,
       "colour": null
      }
     },
     "metadata": {},
     "output_type": "display_data"
    },
    {
     "data": {
      "text/plain": "Downloading pytorch_model.bin:   0%|          | 0.00/255M [00:00<?, ?B/s]",
      "application/vnd.jupyter.widget-view+json": {
       "version_major": 2,
       "version_minor": 0,
       "model_id": "81ad6a5a4d1741bd8898e4858f222362"
      },
      "application/json": {
       "n": 0,
       "total": 267844284,
       "elapsed": 0.018893957138061523,
       "ncols": null,
       "nrows": null,
       "prefix": "Downloading pytorch_model.bin",
       "ascii": false,
       "unit": "B",
       "unit_scale": true,
       "rate": null,
       "bar_format": null,
       "postfix": null,
       "unit_divisor": 1024,
       "initial": 0,
       "colour": null
      }
     },
     "metadata": {},
     "output_type": "display_data"
    },
    {
     "data": {
      "text/plain": "Downloading tokenizer_config.json:   0%|          | 0.00/48.0 [00:00<?, ?B/s]",
      "application/vnd.jupyter.widget-view+json": {
       "version_major": 2,
       "version_minor": 0,
       "model_id": "5cda5dabcaff4aa4addb5278a3bf3d52"
      },
      "application/json": {
       "n": 0,
       "total": 48,
       "elapsed": 0.029675006866455078,
       "ncols": null,
       "nrows": null,
       "prefix": "Downloading tokenizer_config.json",
       "ascii": false,
       "unit": "B",
       "unit_scale": true,
       "rate": null,
       "bar_format": null,
       "postfix": null,
       "unit_divisor": 1024,
       "initial": 0,
       "colour": null
      }
     },
     "metadata": {},
     "output_type": "display_data"
    },
    {
     "data": {
      "text/plain": "Downloading vocab.txt:   0%|          | 0.00/226k [00:00<?, ?B/s]",
      "application/vnd.jupyter.widget-view+json": {
       "version_major": 2,
       "version_minor": 0,
       "model_id": "1c2eac3ef5e54b01a969c2d6e78a578b"
      },
      "application/json": {
       "n": 0,
       "total": 231508,
       "elapsed": 0.037214040756225586,
       "ncols": null,
       "nrows": null,
       "prefix": "Downloading vocab.txt",
       "ascii": false,
       "unit": "B",
       "unit_scale": true,
       "rate": null,
       "bar_format": null,
       "postfix": null,
       "unit_divisor": 1024,
       "initial": 0,
       "colour": null
      }
     },
     "metadata": {},
     "output_type": "display_data"
    }
   ],
   "source": [
    "sentiment_pipeline = pipeline(\"sentiment-analysis\")"
   ]
  },
  {
   "cell_type": "markdown",
   "id": "e30b34b2",
   "metadata": {},
   "source": [
    "In this example, we'll supply two polar sentiments and test out the model pipeline."
   ]
  },
  {
   "cell_type": "code",
   "execution_count": 3,
   "id": "de41c494",
   "metadata": {},
   "outputs": [
    {
     "data": {
      "text/plain": "[{'label': 'POSITIVE', 'score': 0.9998694658279419},\n {'label': 'NEGATIVE', 'score': 0.994263231754303}]"
     },
     "execution_count": 3,
     "metadata": {},
     "output_type": "execute_result"
    }
   ],
   "source": [
    "data = [\"This is great!\", \"Oh no!\"]\n",
    "sentiment_pipeline(data)"
   ]
  },
  {
   "cell_type": "markdown",
   "id": "39d04139",
   "metadata": {},
   "source": [
    "The `label` in this case indicates the prediction for the sentiment type.\n",
    "\n",
    "The `score` indicates the confidence of the prediction (between 0 and 1).\n",
    "\n",
    "Since our sentiments were very polar, it was easier for the model to predict the sentiment type.\n",
    "\n",
    "Let's see what happens when we use a less clear example:"
   ]
  },
  {
   "cell_type": "code",
   "execution_count": 4,
   "id": "c077f881",
   "metadata": {},
   "outputs": [
    {
     "data": {
      "text/plain": "[{'label': 'NEGATIVE', 'score': 0.9955561757087708},\n {'label': 'NEGATIVE', 'score': 0.9860844016075134}]"
     },
     "execution_count": 4,
     "metadata": {},
     "output_type": "execute_result"
    }
   ],
   "source": [
    "challenging_sentiments = [\"I don't think freddriq should leave, he's been helpful.\",\n",
    "                          \"Is that the lake we went to last month?\"]\n",
    "sentiment_pipeline(challenging_sentiments)"
   ]
  },
  {
   "cell_type": "markdown",
   "id": "c64b62d4",
   "metadata": {},
   "source": [
    "<hr>\n",
    "\n",
    "### Loading the Twitter Data\n",
    "\n",
    "Let's play with some twitter data. We'll be using a modified version of the [Elon Musk twitter dataset on Kaggle](https://www.kaggle.com/datasets/andradaolteanu/all-elon-musks-tweets)."
   ]
  },
  {
   "cell_type": "code",
   "execution_count": 5,
   "id": "4c1a44d0",
   "metadata": {},
   "outputs": [
    {
     "name": "stdout",
     "output_type": "stream",
     "text": [
      "['@vincent13031925 For now. Costs are decreasing rapidly.',\n",
      " 'Love this beautiful shot',\n",
      " '@agnostoxxx @CathieDWood @ARKInvest Trust the shrub',\n",
      " 'The art In Cyberpunk is incredible',\n",
      " '@itsALLrisky 🤣🤣',\n",
      " '@seinfeldguru @WholeMarsBlog Nope haha',\n",
      " '@WholeMarsBlog If you don’t say anything &amp; engage Autopilot, it will '\n",
      " 'soon guess based on time of day, taking you home or to work or to what’s on '\n",
      " 'your calendar',\n",
      " '@DeltavPhotos @PortCanaveral That rocket is a hardcore veteran of many '\n",
      " 'missions',\n",
      " 'Blimps rock  https://t.co/e8cu5FkNOI',\n",
      " '@engineers_feed Due to lower gravity, you can travel from surface of Mars to '\n",
      " 'surface of Earth fairly easily with a single stage rocket. Earth to Mars is '\n",
      " 'vastly harder.',\n",
      " '@DrPhiltill Good thread',\n",
      " '@alexellisuk Pretty much',\n",
      " '@tesla_adri @WholeMarsBlog These things are best thought of as '\n",
      " 'probabilities. There are 5 forward-facing cameras. It is highly likely that '\n",
      " 'at least one of them will see multiple cars ahead.',\n",
      " '@WholeMarsBlog Sensors are a bitstream and cameras have several orders of '\n",
      " 'magnitude more bits/sec than radar (or lidar).   Radar must meaningfully '\n",
      " 'increase signal/noise of bitstream to be worth complexity of integrating '\n",
      " 'it.   As vision processing gets better, it just leaves radar far behind.',\n",
      " '@WholeMarsBlog When radar and vision disagree, which one do you believe? '\n",
      " 'Vision has much more precision, so better to double down on vision than do '\n",
      " 'sensor fusion.',\n",
      " '@WholeMarsBlog This is a major problem!',\n",
      " 'Just needs some legs',\n",
      " 'The Starship launch tower that catches the giant rocket booster is basically '\n",
      " 'Mechazilla',\n",
      " 'But wait how is the core of the earth lit by the sun? Stop asking '\n",
      " 'questions!!',\n",
      " 'Kong vs Godzilla has record for most meth ever consumed in a writer’s room',\n",
      " '@itsALLrisky 💯',\n",
      " '… going to moon very soon',\n",
      " '@Matsu_Kusarine @jagarikin Actually happened to me in Cyberpunk haha',\n",
      " '@TimBirks1 @Erdayastronaut @SpaceX Pretty much',\n",
      " '@memescryptor !',\n",
      " 'Where is Shrek 5!?  https://t.co/PqAZ5Mg8Es',\n",
      " '@AustinTeslaClub @OwenSparks_ @WholeMarsBlog Good point.   Next major '\n",
      " 'software rev will do much better with automating wipers, seat heating &amp; '\n",
      " 'defrost.   Probable seat settings just based on occupant mass distribution '\n",
      " 'should be possible.',\n",
      " '@Adamklotz_ @OwenSparks_ @WholeMarsBlog Yup',\n",
      " '@teslaownersSV @neuralink Turns out 🐒 love video games &amp; snacks just '\n",
      " 'like us!',\n",
      " 'It’s all about the cufflinks  https://t.co/elccqC0Zuf',\n",
      " '@chicago_glenn I feel like this sometimes',\n",
      " '@OwenSparks_ @WholeMarsBlog It will',\n",
      " '@OwenSparks_ @WholeMarsBlog Remove',\n",
      " '@w00ki33 @SpaceX @SuperclusterHQ Simulation is improving rendering '\n",
      " 'resolution  …',\n",
      " '@cleantechnica Congrats to NIO. That is a tough milestone.',\n",
      " '@WholeMarsBlog Almost ready with FSD Beta V9.0. Step change improvement is '\n",
      " 'massive, especially for weird corner cases &amp; bad weather. Pure vision, '\n",
      " 'no radar.',\n",
      " 'Thanks to all that helped SpaceX!',\n",
      " 'Just read it. Book is accurate.',\n",
      " '@TeslaGong Yeah',\n",
      " '@mikevanbus @TrungTPhan @neuralink Pretty much',\n",
      " ' https://t.co/XeQursZpvq',\n",
      " 'Soon our monkey will be on twitch &amp; discord haha',\n",
      " '@thenewsoncnbc @contessabrewer Good piece!',\n",
      " '@Kyler_Knoll @neuralink Comes with wireless charging baseball cap',\n",
      " '@TarekWaked @TechCrunch @etherington Pretty much 🤣🤣 Great episode!',\n",
      " 'A monkey is literally playing a video game telepathically using a brain '\n",
      " 'chip!!',\n",
      " '@lexfridman @neuralink Yes',\n",
      " 'The device is implanted flush with skull &amp; charges wirelessly, so you '\n",
      " 'look &amp; feel totally normal',\n",
      " '@IheartTesla Absolutely doable. Possibly as soon as Neuralink device version '\n",
      " '2, highly likely by version 3.',\n",
      " 'Later versions will be able to shunt signals from Neuralinks in brain to '\n",
      " 'Neuralinks in body motor/sensory neuron clusters, thus enabling, for '\n",
      " 'example, paraplegics to walk again',\n",
      " '@mindofkacper @neuralink Yes',\n",
      " 'First @Neuralink product will enable someone with paralysis to use a '\n",
      " 'smartphone with their mind faster than someone using thumbs',\n",
      " '@IheartTesla @neuralink Hopefully, later this year',\n",
      " '@tobyliiiiiiiiii Sure',\n",
      " 'Monkey plays Pong with his mind',\n",
      " '@dogeofficialceo @WatchersTank @SpaceX Looking at pups soon!',\n",
      " '@jordanxmajel @WatchersTank @SpaceX Shock absorption is built into tower '\n",
      " 'arms. Since tower is ground side, it can use a lot more mass to arrest '\n",
      " 'booster downward momentum.',\n",
      " '@jordanxmajel @WatchersTank @SpaceX Load points just below the grid fins',\n",
      " '@WatchersTank @SpaceX Just one skyscraper catching another nbd haha',\n",
      " 'Thanks Tesla suppliers for providing us with critical parts!',\n",
      " '@MarkJam93765764 @IvanEscobosa A tidal wave of vaccine is being produced!',\n",
      " '@jgrano305 Probably J&amp;J, but BioNtech &amp; Moderna are good too. Some '\n",
      " 'debate imo as to whether a second synthetic mRNA shot is really needed, but '\n",
      " 'the first is a no-brainer.',\n",
      " '@IvanEscobosa Latter',\n",
      " 'To be clear, I do support vaccines in general &amp; covid vaccines '\n",
      " 'specifically. The science is unequivocal.   In very rare cases, there is an '\n",
      " 'allergic reaction, but this is easily addressed with an EpiPen.',\n",
      " '@DavidWillisSLS @_Jevis_ @PPathole Needs legs for moon &amp; Mars',\n",
      " '@SciGuySpace Global payload to orbit is the key metric',\n",
      " '@Julius_Burton @Erdayastronaut @DJSnM @NASASpaceflight @ChrisG_NSF '\n",
      " '@thejackbeyer @FelixSchlang Nice',\n",
      " '@_Jevis_ @PPathole Ideal scenario imo is catching Starship in horizontal '\n",
      " '“glide” with no landing burn, although that is quite a challenge for the '\n",
      " 'tower! Next best is catching with tower, with emergency pad landing mode on '\n",
      " 'skirt (no legs).',\n",
      " '@PPathole Starship booster, largest flying object ever designed, will be '\n",
      " 'caught out of sky by launch tower. Big step forward, as reflight can be done '\n",
      " 'in under an hour.',\n",
      " '@WholeMarsBlog Well-written and fair, much like his articles on space',\n",
      " '@louisssdev @flcnhvy Coming soon. Crazy number of launches this year!',\n",
      " '@flcnhvy They will be recovered from the water &amp; reused',\n",
      " '“Tanks for the memery!” – Panzer of the Lake',\n",
      " '@CathieDWood @wintonARK @ARKInvest What do you think of the unusually high '\n",
      " 'ratio of S&amp;P market cap to GDP?',\n",
      " '@ID_AA_Carmack Some kind of ELO level, updated once or twice a year based on '\n",
      " 'what someone actually got done, might be most effective. Important that it '\n",
      " 'go both up *and* down.',\n",
      " '@Thomas38697956 New &amp; improved version!',\n",
      " '@Teslarati @ResidentSponge Special mention of Tesla China',\n",
      " '@shbzz Obv',\n",
      " '@Teslarati @ResidentSponge Great work by Tesla team!',\n",
      " '@EvaFoxU Nice',\n",
      " 'The Earth is not flat, it’s a hollow globe &amp; Donkey King lives there!',\n",
      " '@EvaFoxU Those two really could have come in handy for the stuck ship!',\n",
      " '@EvaFoxU Last Kingdom vs Vikings',\n",
      " '@spacex360 Ascent phase, transition to horizontal &amp; control during free '\n",
      " 'fall were good.   A (relatively) small CH4 leak led to fire on engine 2 '\n",
      " '&amp; fried part of avionics, causing hard start attempting landing burn in '\n",
      " 'CH4 turbopump.   This is getting fixed 6 ways to Sunday.',\n",
      " 'Godzilla vs Kong is so amaze much wow! Most insane movie I’ve ever seen! '\n",
      " 'Love letter to conspiracy theorists! And yet heartwarming in the end.',\n",
      " '@TerminalCount The Starships feast in Valhalla!',\n",
      " '@TerminalCount One of the greatest things I’ve ever seen',\n",
      " '@floko12022021 @HamblinZeke @katlinegrey Ich habe ein Semester Deutsch an '\n",
      " 'der Universität studiert usw',\n",
      " '@HamblinZeke @katlinegrey Haha Falcon? Nein!',\n",
      " '@tobyliiiiiiiiii @katlinegrey I recommend propulsive landing, as that is '\n",
      " 'extensible to planets, moons &amp; asteroids. Wings &amp; runways are '\n",
      " 'limited to Earth.',\n",
      " '@PPathole @katlinegrey For practical purposes, there is no limit. It will '\n",
      " 'just get increasingly difficult to service.',\n",
      " '@katlinegrey This a good path, but I recommend aiming for full reusability',\n",
      " 'Urgent need to build more housing in greater Austin area!',\n",
      " 'Austin++',\n",
      " 'No it doesn’t hurt at all 🩸  https://t.co/NnL6o1si0V',\n",
      " '@allrocketsboi True',\n",
      " '@GerberKawasaki I fried a lot of neurons on that problem!',\n",
      " 'Me in my sick new car (left him the money)  https://t.co/EGaY1FVfHm',\n",
      " '@TrungTPhan Had no money to invest in Zip2, but my founder equity yielded '\n",
      " '~$15M after tax. Of that, I rolled ~$10M into PayPal, which yielded ~$180M, '\n",
      " 'then …   Basic principle is that I would not ask investors to risk money on '\n",
      " 'my company if I would not also do so.',\n",
      " '@Gfilche Major new Supercharger station coming to Santa Monica soon! Hoping '\n",
      " 'to have 50’s diner &amp; 100 best movie clips playing too. Thanks Santa '\n",
      " 'Monica city!']\n"
     ]
    }
   ],
   "source": [
    "with open('../data/elonmusk_tweets.csv', newline='', encoding='utf8') as f:\n",
    "    tweets=[]\n",
    "    reader = csv.reader(f)\n",
    "    twitter_data = list(reader)\n",
    "    for tweet in twitter_data:\n",
    "        tweets.append(tweet[0])\n",
    "\n",
    "pprint(tweets[:100])"
   ]
  },
  {
   "cell_type": "markdown",
   "id": "e630a8f1",
   "metadata": {},
   "source": [
    "First things first - let's look at the sentiment as determined by the [distilbert-base-uncased-finetuned-sst-2-english](https://huggingface.co/distilbert-base-uncased-finetuned-sst-2-english) (default model) in the pipeline."
   ]
  },
  {
   "cell_type": "code",
   "execution_count": 6,
   "id": "42b10279",
   "metadata": {},
   "outputs": [],
   "source": [
    "distil_sentiment = sentiment_pipeline(tweets[0:100])"
   ]
  },
  {
   "cell_type": "code",
   "execution_count": 7,
   "outputs": [
    {
     "data": {
      "text/plain": "[{'label': 'NEGATIVE', 'score': 0.9963656663894653},\n {'label': 'POSITIVE', 'score': 0.9998824596405029},\n {'label': 'NEGATIVE', 'score': 0.84983229637146},\n {'label': 'POSITIVE', 'score': 0.9998857975006104},\n {'label': 'NEGATIVE', 'score': 0.9839497804641724},\n {'label': 'NEGATIVE', 'score': 0.9933285713195801},\n {'label': 'NEGATIVE', 'score': 0.9917682409286499},\n {'label': 'POSITIVE', 'score': 0.9983181953430176},\n {'label': 'NEGATIVE', 'score': 0.9937851428985596},\n {'label': 'NEGATIVE', 'score': 0.9840983748435974},\n {'label': 'POSITIVE', 'score': 0.9970496892929077},\n {'label': 'POSITIVE', 'score': 0.996302604675293},\n {'label': 'NEGATIVE', 'score': 0.9142526388168335},\n {'label': 'NEGATIVE', 'score': 0.9978026747703552},\n {'label': 'NEGATIVE', 'score': 0.9946601986885071},\n {'label': 'NEGATIVE', 'score': 0.9995997548103333},\n {'label': 'NEGATIVE', 'score': 0.9987119436264038},\n {'label': 'NEGATIVE', 'score': 0.9935503005981445},\n {'label': 'NEGATIVE', 'score': 0.9984368681907654},\n {'label': 'POSITIVE', 'score': 0.6216012239456177},\n {'label': 'NEGATIVE', 'score': 0.9839497804641724},\n {'label': 'POSITIVE', 'score': 0.9950076341629028},\n {'label': 'NEGATIVE', 'score': 0.9860664010047913},\n {'label': 'POSITIVE', 'score': 0.9893965125083923},\n {'label': 'POSITIVE', 'score': 0.9468769431114197},\n {'label': 'NEGATIVE', 'score': 0.9977408647537231},\n {'label': 'NEGATIVE', 'score': 0.9840652346611023},\n {'label': 'NEGATIVE', 'score': 0.9497255086898804},\n {'label': 'POSITIVE', 'score': 0.9946696162223816},\n {'label': 'NEGATIVE', 'score': 0.9904018044471741},\n {'label': 'POSITIVE', 'score': 0.9829171299934387},\n {'label': 'POSITIVE', 'score': 0.9969479441642761},\n {'label': 'NEGATIVE', 'score': 0.9996249675750732},\n {'label': 'POSITIVE', 'score': 0.9960028529167175},\n {'label': 'NEGATIVE', 'score': 0.5542927980422974},\n {'label': 'NEGATIVE', 'score': 0.9983391761779785},\n {'label': 'POSITIVE', 'score': 0.9997740387916565},\n {'label': 'POSITIVE', 'score': 0.9998230338096619},\n {'label': 'POSITIVE', 'score': 0.9405807256698608},\n {'label': 'POSITIVE', 'score': 0.7976471781730652},\n {'label': 'NEGATIVE', 'score': 0.9930617213249207},\n {'label': 'NEGATIVE', 'score': 0.777532696723938},\n {'label': 'POSITIVE', 'score': 0.9995044469833374},\n {'label': 'NEGATIVE', 'score': 0.9503060579299927},\n {'label': 'POSITIVE', 'score': 0.9991528987884521},\n {'label': 'NEGATIVE', 'score': 0.9828632473945618},\n {'label': 'POSITIVE', 'score': 0.9900367259979248},\n {'label': 'NEGATIVE', 'score': 0.976280152797699},\n {'label': 'POSITIVE', 'score': 0.9892715215682983},\n {'label': 'POSITIVE', 'score': 0.966812789440155},\n {'label': 'POSITIVE', 'score': 0.9911525845527649},\n {'label': 'NEGATIVE', 'score': 0.9954861998558044},\n {'label': 'POSITIVE', 'score': 0.9487372040748596},\n {'label': 'POSITIVE', 'score': 0.995344340801239},\n {'label': 'POSITIVE', 'score': 0.9260281920433044},\n {'label': 'POSITIVE', 'score': 0.7323382496833801},\n {'label': 'NEGATIVE', 'score': 0.6798863410949707},\n {'label': 'NEGATIVE', 'score': 0.9970796704292297},\n {'label': 'POSITIVE', 'score': 0.9031768441200256},\n {'label': 'POSITIVE', 'score': 0.9992316961288452},\n {'label': 'NEGATIVE', 'score': 0.8981125354766846},\n {'label': 'POSITIVE', 'score': 0.9446038007736206},\n {'label': 'NEGATIVE', 'score': 0.9267995357513428},\n {'label': 'NEGATIVE', 'score': 0.9591715335845947},\n {'label': 'NEGATIVE', 'score': 0.9956945180892944},\n {'label': 'POSITIVE', 'score': 0.963007390499115},\n {'label': 'NEGATIVE', 'score': 0.9263049960136414},\n {'label': 'POSITIVE', 'score': 0.9692283272743225},\n {'label': 'POSITIVE', 'score': 0.9859390258789062},\n {'label': 'POSITIVE', 'score': 0.9997627139091492},\n {'label': 'POSITIVE', 'score': 0.9982032775878906},\n {'label': 'NEGATIVE', 'score': 0.9948424696922302},\n {'label': 'NEGATIVE', 'score': 0.9875005483627319},\n {'label': 'NEGATIVE', 'score': 0.9403652548789978},\n {'label': 'NEGATIVE', 'score': 0.5397629141807556},\n {'label': 'POSITIVE', 'score': 0.9978938698768616},\n {'label': 'POSITIVE', 'score': 0.9549607038497925},\n {'label': 'NEGATIVE', 'score': 0.9856399297714233},\n {'label': 'POSITIVE', 'score': 0.9990309476852417},\n {'label': 'POSITIVE', 'score': 0.9986646175384521},\n {'label': 'NEGATIVE', 'score': 0.8099899888038635},\n {'label': 'NEGATIVE', 'score': 0.9986506104469299},\n {'label': 'NEGATIVE', 'score': 0.76192706823349},\n {'label': 'NEGATIVE', 'score': 0.9876651763916016},\n {'label': 'POSITIVE', 'score': 0.9997739195823669},\n {'label': 'POSITIVE', 'score': 0.9990227222442627},\n {'label': 'POSITIVE', 'score': 0.9997355341911316},\n {'label': 'NEGATIVE', 'score': 0.9928374886512756},\n {'label': 'NEGATIVE', 'score': 0.9968679547309875},\n {'label': 'POSITIVE', 'score': 0.9927840232849121},\n {'label': 'NEGATIVE', 'score': 0.9995256662368774},\n {'label': 'POSITIVE', 'score': 0.9894473552703857},\n {'label': 'POSITIVE', 'score': 0.9878185987472534},\n {'label': 'POSITIVE', 'score': 0.9987744688987732},\n {'label': 'POSITIVE', 'score': 0.9457864761352539},\n {'label': 'POSITIVE', 'score': 0.9979986548423767},\n {'label': 'NEGATIVE', 'score': 0.9920915365219116},\n {'label': 'NEGATIVE', 'score': 0.998769223690033},\n {'label': 'NEGATIVE', 'score': 0.9957597851753235},\n {'label': 'POSITIVE', 'score': 0.9988223910331726}]"
     },
     "execution_count": 7,
     "metadata": {},
     "output_type": "execute_result"
    }
   ],
   "source": [
    "distil_sentiment"
   ],
   "metadata": {
    "collapsed": false,
    "pycharm": {
     "name": "#%%\n"
    }
   }
  },
  {
   "cell_type": "markdown",
   "id": "8ce3fefd",
   "metadata": {},
   "source": [
    "Let's check out the distribution of positive/negative Tweets and see the breakdown using Python's 🐍 standard library `collections.Counter`!"
   ]
  },
  {
   "cell_type": "code",
   "execution_count": 8,
   "id": "971a841d",
   "metadata": {},
   "outputs": [
    {
     "name": "stdout",
     "output_type": "stream",
     "text": [
      "49 (49.00%) of the tweets classified are positive.\n",
      "51 (51.00%) of the tweets classified are negative.\n"
     ]
    }
   ],
   "source": [
    "from collections import Counter\n",
    "\n",
    "tweet_distro = Counter([x['label'] for x in distil_sentiment])\n",
    "pos_sent_count = tweet_distro['POSITIVE']\n",
    "neg_sent_count = tweet_distro['NEGATIVE']\n",
    "total_sent_count = sum(tweet_distro.values())\n",
    "\n",
    "print(f\"{pos_sent_count} ({pos_sent_count / total_sent_count * 100:.2f}%) of the tweets classified are positive.\")\n",
    "print(f\"{neg_sent_count} ({neg_sent_count / total_sent_count * 100:.2f}%) of the tweets classified are negative.\")"
   ]
  },
  {
   "cell_type": "markdown",
   "id": "42155a0c",
   "metadata": {},
   "source": [
    "Let's do that process again, but use a model with an additional potential label \"NEUTRAL\" called [bertweet-sentiment-analysis](https://huggingface.co/finiteautomata/bertweet-base-sentiment-analysis)\n",
    "\n",
    "To start - we'll build a pipeline with the new model by using the 🤗 Hugging Face address: `finiteautomata/bertweet-base-sentiment-analysis`"
   ]
  },
  {
   "cell_type": "code",
   "execution_count": 9,
   "id": "3fd6e37f",
   "metadata": {},
   "outputs": [
    {
     "data": {
      "text/plain": "Downloading:   0%|          | 0.00/1.13k [00:00<?, ?B/s]",
      "application/vnd.jupyter.widget-view+json": {
       "version_major": 2,
       "version_minor": 0,
       "model_id": "8ad1816ec840428a856c036b11db6a8b"
      },
      "application/json": {
       "n": 0,
       "total": 1160,
       "elapsed": 0.016218185424804688,
       "ncols": null,
       "nrows": null,
       "prefix": "Downloading",
       "ascii": false,
       "unit": "B",
       "unit_scale": true,
       "rate": null,
       "bar_format": null,
       "postfix": null,
       "unit_divisor": 1024,
       "initial": 0,
       "colour": null
      }
     },
     "metadata": {},
     "output_type": "display_data"
    }
   ],
   "source": [
    "bertweet_pipeline = pipeline(model=\"finiteautomata/bertweet-base-sentiment-analysis\")"
   ]
  },
  {
   "cell_type": "markdown",
   "id": "7025127d",
   "metadata": {},
   "source": [
    "Next, and the same as before, let's run the analysis on 100 of Elon's tweets."
   ]
  },
  {
   "cell_type": "code",
   "execution_count": 10,
   "id": "5daa650d",
   "metadata": {},
   "outputs": [],
   "source": [
    "bert_sentiment = bertweet_pipeline(tweets[0:100])"
   ]
  },
  {
   "cell_type": "markdown",
   "id": "6d8a316d",
   "metadata": {},
   "source": [
    "And then, let's check out the breakdown of positive, negative, AND neutral sentiments!"
   ]
  },
  {
   "cell_type": "code",
   "execution_count": 11,
   "id": "6996cc58",
   "metadata": {},
   "outputs": [
    {
     "name": "stdout",
     "output_type": "stream",
     "text": [
      "29 (29.00%) of the tweets classified are positive.\n",
      "64 (64.00%) of the tweets classified are neutral.\n",
      "7 (7.00%) of the tweets classified are negative.\n"
     ]
    }
   ],
   "source": [
    "from collections import Counter\n",
    "\n",
    "tweet_distro = Counter([x['label'] for x in bert_sentiment])\n",
    "pos_sent_count = tweet_distro['POS']\n",
    "neu_sent_count = tweet_distro['NEU']\n",
    "neg_sent_count = tweet_distro['NEG']\n",
    "total_sent_count = sum(tweet_distro.values())\n",
    "\n",
    "print(f\"{pos_sent_count} ({pos_sent_count / total_sent_count * 100:.2f}%) of the tweets classified are positive.\")\n",
    "print(f\"{neu_sent_count} ({neu_sent_count / total_sent_count * 100:.2f}%) of the tweets classified are neutral.\")\n",
    "print(f\"{neg_sent_count} ({neg_sent_count / total_sent_count * 100:.2f}%) of the tweets classified are negative.\")"
   ]
  },
  {
   "cell_type": "markdown",
   "id": "8185798d",
   "metadata": {},
   "source": [
    "❓ What do you notice about the difference in the results?\n",
    "Significant uptick in neutral tweets percentage (64%) which were otherwise classified as positive or negative by distilbert.\n",
    "\n",
    "❓ Do the results for the `bertweet-base` model look better, or worse, than the results for the `distilbert-base` model? Why?\n",
    "Bertweet model certainly does better than distilbert in classifying tweets with the added neutral category, however certain instances like pure emojis (tweets #5: 🤣🤣- classified negative) and tweets \"First @Neuralink product will enable someone with paralysis to use a smartphone with their mind faster than someone using thumbs\" classified negative are up for debate."
   ]
  },
  {
   "cell_type": "code",
   "id": "6684f9ae",
   "metadata": {
    "pycharm": {
     "name": "#%%\n"
    }
   },
   "source": [
    "i=0\n",
    "for tweet in tweets[0:100]:\n",
    "    pprint(bert_sentiment[i])\n",
    "    print(tweet)\n",
    "    i=i+1"
   ],
   "execution_count": 21,
   "outputs": [
    {
     "name": "stdout",
     "output_type": "stream",
     "text": [
      "{'label': 'NEU', 'score': 0.9523929953575134}\n",
      "@vincent13031925 For now. Costs are decreasing rapidly.\n",
      "{'label': 'POS', 'score': 0.9909942746162415}\n",
      "Love this beautiful shot\n",
      "{'label': 'NEU', 'score': 0.9733855128288269}\n",
      "@agnostoxxx @CathieDWood @ARKInvest Trust the shrub\n",
      "{'label': 'POS', 'score': 0.9824264049530029}\n",
      "The art In Cyberpunk is incredible\n",
      "{'label': 'NEG', 'score': 0.9627320766448975}\n",
      "@itsALLrisky 🤣🤣\n",
      "{'label': 'NEU', 'score': 0.8657803535461426}\n",
      "@seinfeldguru @WholeMarsBlog Nope haha\n",
      "{'label': 'NEU', 'score': 0.926353394985199}\n",
      "@WholeMarsBlog If you don’t say anything &amp; engage Autopilot, it will soon guess based on time of day, taking you home or to work or to what’s on your calendar\n",
      "{'label': 'NEU', 'score': 0.7412322759628296}\n",
      "@DeltavPhotos @PortCanaveral That rocket is a hardcore veteran of many missions\n",
      "{'label': 'POS', 'score': 0.6090269684791565}\n",
      "Blimps rock  https://t.co/e8cu5FkNOI\n",
      "{'label': 'NEU', 'score': 0.9455981254577637}\n",
      "@engineers_feed Due to lower gravity, you can travel from surface of Mars to surface of Earth fairly easily with a single stage rocket. Earth to Mars is vastly harder.\n",
      "{'label': 'POS', 'score': 0.9056947231292725}\n",
      "@DrPhiltill Good thread\n",
      "{'label': 'NEU', 'score': 0.8189749121665955}\n",
      "@alexellisuk Pretty much\n",
      "{'label': 'NEU', 'score': 0.9333982467651367}\n",
      "@tesla_adri @WholeMarsBlog These things are best thought of as probabilities. There are 5 forward-facing cameras. It is highly likely that at least one of them will see multiple cars ahead.\n",
      "{'label': 'NEU', 'score': 0.9051194190979004}\n",
      "@WholeMarsBlog Sensors are a bitstream and cameras have several orders of magnitude more bits/sec than radar (or lidar).   Radar must meaningfully increase signal/noise of bitstream to be worth complexity of integrating it.   As vision processing gets better, it just leaves radar far behind.\n",
      "{'label': 'NEU', 'score': 0.8837268352508545}\n",
      "@WholeMarsBlog When radar and vision disagree, which one do you believe? Vision has much more precision, so better to double down on vision than do sensor fusion.\n",
      "{'label': 'NEG', 'score': 0.980315089225769}\n",
      "@WholeMarsBlog This is a major problem!\n",
      "{'label': 'NEU', 'score': 0.9573647379875183}\n",
      "Just needs some legs\n",
      "{'label': 'NEU', 'score': 0.9655560255050659}\n",
      "The Starship launch tower that catches the giant rocket booster is basically Mechazilla\n",
      "{'label': 'NEG', 'score': 0.8051016926765442}\n",
      "But wait how is the core of the earth lit by the sun? Stop asking questions!!\n",
      "{'label': 'NEG', 'score': 0.7630400061607361}\n",
      "Kong vs Godzilla has record for most meth ever consumed in a writer’s room\n",
      "{'label': 'NEG', 'score': 0.9622056484222412}\n",
      "@itsALLrisky 💯\n",
      "{'label': 'NEU', 'score': 0.8779993057250977}\n",
      "… going to moon very soon\n",
      "{'label': 'NEU', 'score': 0.6798219084739685}\n",
      "@Matsu_Kusarine @jagarikin Actually happened to me in Cyberpunk haha\n",
      "{'label': 'NEU', 'score': 0.8584961295127869}\n",
      "@TimBirks1 @Erdayastronaut @SpaceX Pretty much\n",
      "{'label': 'POS', 'score': 0.5795772075653076}\n",
      "@memescryptor !\n",
      "{'label': 'NEU', 'score': 0.9601941108703613}\n",
      "Where is Shrek 5!?  https://t.co/PqAZ5Mg8Es\n",
      "{'label': 'POS', 'score': 0.8940476775169373}\n",
      "@AustinTeslaClub @OwenSparks_ @WholeMarsBlog Good point.   Next major software rev will do much better with automating wipers, seat heating &amp; defrost.   Probable seat settings just based on occupant mass distribution should be possible.\n",
      "{'label': 'NEU', 'score': 0.9327384829521179}\n",
      "@Adamklotz_ @OwenSparks_ @WholeMarsBlog Yup\n",
      "{'label': 'POS', 'score': 0.9861819744110107}\n",
      "@teslaownersSV @neuralink Turns out 🐒 love video games &amp; snacks just like us!\n",
      "{'label': 'NEU', 'score': 0.9572324752807617}\n",
      "It’s all about the cufflinks  https://t.co/elccqC0Zuf\n",
      "{'label': 'NEU', 'score': 0.9797588586807251}\n",
      "@chicago_glenn I feel like this sometimes\n",
      "{'label': 'NEU', 'score': 0.9614052772521973}\n",
      "@OwenSparks_ @WholeMarsBlog It will\n",
      "{'label': 'NEU', 'score': 0.7799426913261414}\n",
      "@OwenSparks_ @WholeMarsBlog Remove\n",
      "{'label': 'POS', 'score': 0.8899651765823364}\n",
      "@w00ki33 @SpaceX @SuperclusterHQ Simulation is improving rendering resolution  …\n",
      "{'label': 'POS', 'score': 0.9890507459640503}\n",
      "@cleantechnica Congrats to NIO. That is a tough milestone.\n",
      "{'label': 'NEU', 'score': 0.5329093933105469}\n",
      "@WholeMarsBlog Almost ready with FSD Beta V9.0. Step change improvement is massive, especially for weird corner cases &amp; bad weather. Pure vision, no radar.\n",
      "{'label': 'POS', 'score': 0.9875401854515076}\n",
      "Thanks to all that helped SpaceX!\n",
      "{'label': 'POS', 'score': 0.9889892935752869}\n",
      "Just read it. Book is accurate.\n",
      "{'label': 'NEU', 'score': 0.7121552228927612}\n",
      "@TeslaGong Yeah\n",
      "{'label': 'NEU', 'score': 0.93071448802948}\n",
      "@mikevanbus @TrungTPhan @neuralink Pretty much\n",
      "{'label': 'NEU', 'score': 0.9159067869186401}\n",
      " https://t.co/XeQursZpvq\n",
      "{'label': 'POS', 'score': 0.5059619545936584}\n",
      "Soon our monkey will be on twitch &amp; discord haha\n",
      "{'label': 'POS', 'score': 0.9562188982963562}\n",
      "@thenewsoncnbc @contessabrewer Good piece!\n",
      "{'label': 'NEU', 'score': 0.7741280794143677}\n",
      "@Kyler_Knoll @neuralink Comes with wireless charging baseball cap\n",
      "{'label': 'POS', 'score': 0.9852230548858643}\n",
      "@TarekWaked @TechCrunch @etherington Pretty much 🤣🤣 Great episode!\n",
      "{'label': 'NEU', 'score': 0.6408334374427795}\n",
      "A monkey is literally playing a video game telepathically using a brain chip!!\n",
      "{'label': 'NEU', 'score': 0.8659394979476929}\n",
      "@lexfridman @neuralink Yes\n",
      "{'label': 'NEU', 'score': 0.670344889163971}\n",
      "The device is implanted flush with skull &amp; charges wirelessly, so you look &amp; feel totally normal\n",
      "{'label': 'POS', 'score': 0.8802766799926758}\n",
      "@IheartTesla Absolutely doable. Possibly as soon as Neuralink device version 2, highly likely by version 3.\n",
      "{'label': 'NEU', 'score': 0.9263619780540466}\n",
      "Later versions will be able to shunt signals from Neuralinks in brain to Neuralinks in body motor/sensory neuron clusters, thus enabling, for example, paraplegics to walk again\n",
      "{'label': 'NEU', 'score': 0.8623093366622925}\n",
      "@mindofkacper @neuralink Yes\n",
      "{'label': 'NEG', 'score': 0.7609983682632446}\n",
      "First @Neuralink product will enable someone with paralysis to use a smartphone with their mind faster than someone using thumbs\n",
      "{'label': 'POS', 'score': 0.8809718489646912}\n",
      "@IheartTesla @neuralink Hopefully, later this year\n",
      "{'label': 'NEU', 'score': 0.9572345018386841}\n",
      "@tobyliiiiiiiiii Sure\n",
      "{'label': 'NEU', 'score': 0.9370954036712646}\n",
      "Monkey plays Pong with his mind\n",
      "{'label': 'NEU', 'score': 0.5094823837280273}\n",
      "@dogeofficialceo @WatchersTank @SpaceX Looking at pups soon!\n",
      "{'label': 'NEU', 'score': 0.9527355432510376}\n",
      "@jordanxmajel @WatchersTank @SpaceX Shock absorption is built into tower arms. Since tower is ground side, it can use a lot more mass to arrest booster downward momentum.\n",
      "{'label': 'NEU', 'score': 0.9719712734222412}\n",
      "@jordanxmajel @WatchersTank @SpaceX Load points just below the grid fins\n",
      "{'label': 'NEU', 'score': 0.9115900993347168}\n",
      "@WatchersTank @SpaceX Just one skyscraper catching another nbd haha\n",
      "{'label': 'POS', 'score': 0.9904115796089172}\n",
      "Thanks Tesla suppliers for providing us with critical parts!\n",
      "{'label': 'NEU', 'score': 0.9082376956939697}\n",
      "@MarkJam93765764 @IvanEscobosa A tidal wave of vaccine is being produced!\n",
      "{'label': 'POS', 'score': 0.8017067909240723}\n",
      "@jgrano305 Probably J&amp;J, but BioNtech &amp; Moderna are good too. Some debate imo as to whether a second synthetic mRNA shot is really needed, but the first is a no-brainer.\n",
      "{'label': 'NEU', 'score': 0.9780844449996948}\n",
      "@IvanEscobosa Latter\n",
      "{'label': 'NEU', 'score': 0.8754068613052368}\n",
      "To be clear, I do support vaccines in general &amp; covid vaccines specifically. The science is unequivocal.   In very rare cases, there is an allergic reaction, but this is easily addressed with an EpiPen.\n",
      "{'label': 'NEU', 'score': 0.9730634689331055}\n",
      "@DavidWillisSLS @_Jevis_ @PPathole Needs legs for moon &amp; Mars\n",
      "{'label': 'NEU', 'score': 0.9624126553535461}\n",
      "@SciGuySpace Global payload to orbit is the key metric\n",
      "{'label': 'POS', 'score': 0.790553092956543}\n",
      "@Julius_Burton @Erdayastronaut @DJSnM @NASASpaceflight @ChrisG_NSF @thejackbeyer @FelixSchlang Nice\n",
      "{'label': 'NEU', 'score': 0.9228432178497314}\n",
      "@_Jevis_ @PPathole Ideal scenario imo is catching Starship in horizontal “glide” with no landing burn, although that is quite a challenge for the tower! Next best is catching with tower, with emergency pad landing mode on skirt (no legs).\n",
      "{'label': 'NEU', 'score': 0.9050136804580688}\n",
      "@PPathole Starship booster, largest flying object ever designed, will be caught out of sky by launch tower. Big step forward, as reflight can be done in under an hour.\n",
      "{'label': 'POS', 'score': 0.9424034357070923}\n",
      "@WholeMarsBlog Well-written and fair, much like his articles on space\n",
      "{'label': 'POS', 'score': 0.9405857920646667}\n",
      "@louisssdev @flcnhvy Coming soon. Crazy number of launches this year!\n",
      "{'label': 'NEU', 'score': 0.9104922413825989}\n",
      "@flcnhvy They will be recovered from the water &amp; reused\n",
      "{'label': 'NEU', 'score': 0.9803816080093384}\n",
      "“Tanks for the memery!” – Panzer of the Lake\n",
      "{'label': 'NEU', 'score': 0.9454332590103149}\n",
      "@CathieDWood @wintonARK @ARKInvest What do you think of the unusually high ratio of S&amp;P market cap to GDP?\n",
      "{'label': 'NEU', 'score': 0.7208716869354248}\n",
      "@ID_AA_Carmack Some kind of ELO level, updated once or twice a year based on what someone actually got done, might be most effective. Important that it go both up *and* down.\n",
      "{'label': 'POS', 'score': 0.9761384725570679}\n",
      "@Thomas38697956 New &amp; improved version!\n",
      "{'label': 'NEU', 'score': 0.8484973311424255}\n",
      "@Teslarati @ResidentSponge Special mention of Tesla China\n",
      "{'label': 'NEU', 'score': 0.9745896458625793}\n",
      "@shbzz Obv\n",
      "{'label': 'POS', 'score': 0.981088399887085}\n",
      "@Teslarati @ResidentSponge Great work by Tesla team!\n",
      "{'label': 'POS', 'score': 0.9509233236312866}\n",
      "@EvaFoxU Nice\n",
      "{'label': 'NEU', 'score': 0.9548094272613525}\n",
      "The Earth is not flat, it’s a hollow globe &amp; Donkey King lives there!\n",
      "{'label': 'NEU', 'score': 0.6648339033126831}\n",
      "@EvaFoxU Those two really could have come in handy for the stuck ship!\n",
      "{'label': 'NEU', 'score': 0.9772308468818665}\n",
      "@EvaFoxU Last Kingdom vs Vikings\n",
      "{'label': 'NEU', 'score': 0.8111086487770081}\n",
      "@spacex360 Ascent phase, transition to horizontal &amp; control during free fall were good.   A (relatively) small CH4 leak led to fire on engine 2 &amp; fried part of avionics, causing hard start attempting landing burn in CH4 turbopump.   This is getting fixed 6 ways to Sunday.\n",
      "{'label': 'POS', 'score': 0.9927785992622375}\n",
      "Godzilla vs Kong is so amaze much wow! Most insane movie I’ve ever seen! Love letter to conspiracy theorists! And yet heartwarming in the end.\n",
      "{'label': 'NEU', 'score': 0.9673355221748352}\n",
      "@TerminalCount The Starships feast in Valhalla!\n",
      "{'label': 'POS', 'score': 0.9925035238265991}\n",
      "@TerminalCount One of the greatest things I’ve ever seen\n",
      "{'label': 'NEU', 'score': 0.9792494177818298}\n",
      "@floko12022021 @HamblinZeke @katlinegrey Ich habe ein Semester Deutsch an der Universität studiert usw\n",
      "{'label': 'NEU', 'score': 0.8873393535614014}\n",
      "@HamblinZeke @katlinegrey Haha Falcon? Nein!\n",
      "{'label': 'NEU', 'score': 0.608757734298706}\n",
      "@tobyliiiiiiiiii @katlinegrey I recommend propulsive landing, as that is extensible to planets, moons &amp; asteroids. Wings &amp; runways are limited to Earth.\n",
      "{'label': 'NEU', 'score': 0.8221349716186523}\n",
      "@PPathole @katlinegrey For practical purposes, there is no limit. It will just get increasingly difficult to service.\n",
      "{'label': 'POS', 'score': 0.9090052843093872}\n",
      "@katlinegrey This a good path, but I recommend aiming for full reusability\n",
      "{'label': 'NEU', 'score': 0.9443233013153076}\n",
      "Urgent need to build more housing in greater Austin area!\n",
      "{'label': 'NEU', 'score': 0.972324013710022}\n",
      "Austin++\n",
      "{'label': 'POS', 'score': 0.6009994745254517}\n",
      "No it doesn’t hurt at all 🩸  https://t.co/NnL6o1si0V\n",
      "{'label': 'NEU', 'score': 0.902167797088623}\n",
      "@allrocketsboi True\n",
      "{'label': 'NEG', 'score': 0.9605843424797058}\n",
      "@GerberKawasaki I fried a lot of neurons on that problem!\n",
      "{'label': 'NEU', 'score': 0.7682678699493408}\n",
      "Me in my sick new car (left him the money)  https://t.co/EGaY1FVfHm\n",
      "{'label': 'NEU', 'score': 0.9131141304969788}\n",
      "@TrungTPhan Had no money to invest in Zip2, but my founder equity yielded ~$15M after tax. Of that, I rolled ~$10M into PayPal, which yielded ~$180M, then …   Basic principle is that I would not ask investors to risk money on my company if I would not also do so.\n",
      "{'label': 'POS', 'score': 0.9880056977272034}\n",
      "@Gfilche Major new Supercharger station coming to Santa Monica soon! Hoping to have 50’s diner &amp; 100 best movie clips playing too. Thanks Santa Monica city!\n"
     ]
    }
   ]
  },
  {
   "cell_type": "markdown",
   "source": [
    "<hr>\n",
    "\n",
    "### Partner Exercise\n",
    "\n",
    "With your partner, try and determine what the following tweets might be classified as. Try to classify them into the same groups as both of the model pipelines we saw today - and try adding a few of your own sentences/Tweets! "
   ],
   "metadata": {
    "collapsed": false
   }
  },
  {
   "cell_type": "code",
   "execution_count": 14,
   "id": "dcc55db9",
   "metadata": {},
   "outputs": [],
   "source": [
    "example_difficult_tweets = [\n",
    "    \"Kong vs Godzilla has record for most meth ever consumed in a writer's room\",\n",
    "    \"@ashleevance Battery energy density is the key to electric aircraft. Autonomy for aircraft could have been done a long time ago. Modern airliners are very close to autonomous.\",\n",
    "    \"Tesla's action is not directly reflective of my opinion. Having some Bitcoin, which is simply a less dumb form of liquidity than cash, is adventurous enough for an S&P500 company.\",\n",
    "    \"Google is training its robots to be more like humans\",\n",
    "    \"U.S. is at 'effectively peak employment,' bringing hot wage growth into focus\",\n",
    "]"
   ]
  },
  {
   "cell_type": "markdown",
   "id": "324e3837",
   "metadata": {},
   "source": [
    "The `distilbert-base` model:"
   ]
  },
  {
   "cell_type": "code",
   "execution_count": 15,
   "id": "3fd3d5a9",
   "metadata": {},
   "outputs": [
    {
     "name": "stdout",
     "output_type": "stream",
     "text": [
      "[{'label': 'POSITIVE', 'score': 0.5429084897041321}]\n",
      "Kong vs Godzilla has record for most meth ever consumed in a writer's room\n",
      "\n",
      "[{'label': 'NEGATIVE', 'score': 0.6348373889923096}]\n",
      "@ashleevance Battery energy density is the key to electric aircraft. Autonomy for aircraft could have been done a long time ago. Modern airliners are very close to autonomous.\n",
      "\n",
      "[{'label': 'POSITIVE', 'score': 0.9419695138931274}]\n",
      "Tesla's action is not directly reflective of my opinion. Having some Bitcoin, which is simply a less dumb form of liquidity than cash, is adventurous enough for an S&P500 company.\n",
      "\n",
      "[{'label': 'NEGATIVE', 'score': 0.9967387318611145}]\n",
      "Google is training its robots to be more like humans\n",
      "\n",
      "[{'label': 'POSITIVE', 'score': 0.9993935823440552}]\n",
      "U.S. is at 'effectively peak employment,' bringing hot wage growth into focus\n",
      "\n"
     ]
    }
   ],
   "source": [
    "for tweet in example_difficult_tweets[0:1000]:\n",
    "    pprint(sentiment_pipeline(tweet))\n",
    "    print(tweet + '\\n')"
   ]
  },
  {
   "cell_type": "markdown",
   "id": "61230295",
   "metadata": {},
   "source": [
    "The `bertweet-base` model:"
   ]
  },
  {
   "cell_type": "code",
   "execution_count": 16,
   "id": "82f2d3e2",
   "metadata": {},
   "outputs": [
    {
     "name": "stdout",
     "output_type": "stream",
     "text": [
      "[{'label': 'NEG', 'score': 0.7213014960289001}]\n",
      "Kong vs Godzilla has record for most meth ever consumed in a writer's room\n",
      "\n",
      "[{'label': 'NEU', 'score': 0.8023842573165894}]\n",
      "@ashleevance Battery energy density is the key to electric aircraft. Autonomy for aircraft could have been done a long time ago. Modern airliners are very close to autonomous.\n",
      "\n",
      "[{'label': 'NEU', 'score': 0.8843539357185364}]\n",
      "Tesla's action is not directly reflective of my opinion. Having some Bitcoin, which is simply a less dumb form of liquidity than cash, is adventurous enough for an S&P500 company.\n",
      "\n",
      "[{'label': 'NEU', 'score': 0.8345044255256653}]\n",
      "Google is training its robots to be more like humans\n",
      "\n",
      "[{'label': 'NEG', 'score': 0.5765505433082581}]\n",
      "U.S. is at 'effectively peak employment,' bringing hot wage growth into focus\n",
      "\n"
     ]
    }
   ],
   "source": [
    "for tweet in example_difficult_tweets[0:1000]:\n",
    "    pprint(bertweet_pipeline(tweet))\n",
    "    print(tweet + '\\n')"
   ]
  },
  {
   "cell_type": "markdown",
   "id": "97f2c1c5",
   "metadata": {},
   "source": [
    "❓ How did you do? Did you find any surprising results?\n",
    "❓ Are there any instances where the two models gave different predictions for the same tweet?\n",
    "The differences between the models in this small sample are astounding. Distilbert picked up 'peak employment' as positive while bert classified this tweet to be negative drawing more focus to the fact that 'hot wage growth' is being studied. Along similar lines, distilbert understood \"most meth ever consumed in a writer's room\" to be positive while bert understood the true intent of this not being positive.\n",
    "Bert does marginally better in understanding the sentiment of tweets."
   ]
  }
 ],
 "metadata": {
  "kernelspec": {
   "display_name": "Python 3.9.12 ('fourthbrain')",
   "language": "python",
   "name": "python3"
  },
  "language_info": {
   "codemirror_mode": {
    "name": "ipython",
    "version": 3
   },
   "file_extension": ".py",
   "mimetype": "text/x-python",
   "name": "python",
   "nbconvert_exporter": "python",
   "pygments_lexer": "ipython3",
   "version": "3.9.12"
  },
  "vscode": {
   "interpreter": {
    "hash": "635e31ff34c0350df6e9d804eda70786d94f48b17fcc73c378df4ea6ec0d01fd"
   }
  }
 },
 "nbformat": 4,
 "nbformat_minor": 5
}