{
 "cells": [
  {
   "cell_type": "code",
   "execution_count": 1,
   "id": "dd8ca316",
   "metadata": {},
   "outputs": [
    {
     "name": "stdout",
     "output_type": "stream",
     "text": [
      "Collecting transformers\r\n",
      "  Using cached transformers-4.21.1-py3-none-any.whl (4.7 MB)\r\n",
      "Collecting torch\r\n",
      "  Using cached torch-1.12.1-cp39-none-macosx_10_9_x86_64.whl (133.8 MB)\r\n",
      "Collecting filelock\r\n",
      "  Using cached filelock-3.8.0-py3-none-any.whl (10 kB)\r\n",
      "Collecting requests\r\n",
      "  Using cached requests-2.28.1-py3-none-any.whl (62 kB)\r\n",
      "Collecting huggingface-hub<1.0,>=0.1.0\r\n",
      "  Using cached huggingface_hub-0.8.1-py3-none-any.whl (101 kB)\r\n",
      "Collecting numpy>=1.17\r\n",
      "  Using cached numpy-1.23.2-cp39-cp39-macosx_10_9_x86_64.whl (18.1 MB)\r\n",
      "Collecting tqdm>=4.27\r\n",
      "  Using cached tqdm-4.64.0-py2.py3-none-any.whl (78 kB)\r\n",
      "Collecting tokenizers!=0.11.3,<0.13,>=0.11.1\r\n",
      "  Using cached tokenizers-0.12.1-cp39-cp39-macosx_10_11_x86_64.whl (3.6 MB)\r\n",
      "Collecting pyyaml>=5.1\r\n",
      "  Using cached PyYAML-6.0-cp39-cp39-macosx_10_9_x86_64.whl (197 kB)\r\n",
      "Requirement already satisfied: packaging>=20.0 in /Users/sbezawada/.virtualenvs/week-2-twitter-sentiment/lib/python3.9/site-packages (from transformers) (21.3)\r\n",
      "Collecting regex!=2019.12.17\r\n",
      "  Downloading regex-2022.8.17-cp39-cp39-macosx_10_9_x86_64.whl (290 kB)\r\n",
      "\u001B[2K     \u001B[90m━━━━━━━━━━━━━━━━━━━━━━━━━━━━━━━━━━━━━━━\u001B[0m \u001B[32m290.1/290.1 kB\u001B[0m \u001B[31m2.4 MB/s\u001B[0m eta \u001B[36m0:00:00\u001B[0ma \u001B[36m0:00:01\u001B[0m\r\n",
      "\u001B[?25hCollecting typing-extensions\r\n",
      "  Using cached typing_extensions-4.3.0-py3-none-any.whl (25 kB)\r\n",
      "Requirement already satisfied: pyparsing!=3.0.5,>=2.0.2 in /Users/sbezawada/.virtualenvs/week-2-twitter-sentiment/lib/python3.9/site-packages (from packaging>=20.0->transformers) (3.0.9)\r\n",
      "Collecting certifi>=2017.4.17\r\n",
      "  Using cached certifi-2022.6.15-py3-none-any.whl (160 kB)\r\n",
      "Collecting urllib3<1.27,>=1.21.1\r\n",
      "  Using cached urllib3-1.26.11-py2.py3-none-any.whl (139 kB)\r\n",
      "Collecting idna<4,>=2.5\r\n",
      "  Using cached idna-3.3-py3-none-any.whl (61 kB)\r\n",
      "Collecting charset-normalizer<3,>=2\r\n",
      "  Using cached charset_normalizer-2.1.0-py3-none-any.whl (39 kB)\r\n",
      "Installing collected packages: tokenizers, urllib3, typing-extensions, tqdm, regex, pyyaml, numpy, idna, filelock, charset-normalizer, certifi, torch, requests, huggingface-hub, transformers\r\n",
      "Successfully installed certifi-2022.6.15 charset-normalizer-2.1.0 filelock-3.8.0 huggingface-hub-0.8.1 idna-3.3 numpy-1.23.2 pyyaml-6.0 regex-2022.8.17 requests-2.28.1 tokenizers-0.12.1 torch-1.12.1 tqdm-4.64.0 transformers-4.21.1 typing-extensions-4.3.0 urllib3-1.26.11\r\n",
      "Collecting emoji==0.6.0\r\n",
      "  Using cached emoji-0.6.0.tar.gz (51 kB)\r\n",
      "  Preparing metadata (setup.py) ... \u001B[?25l-\b \bdone\r\n",
      "\u001B[?25hUsing legacy 'setup.py install' for emoji, since package 'wheel' is not installed.\r\n",
      "Installing collected packages: emoji\r\n",
      "  Running setup.py install for emoji ... \u001B[?25l-\b \b\\\b \bdone\r\n",
      "\u001B[?25hSuccessfully installed emoji-0.6.0\r\n"
     ]
    },
    {
     "data": {
      "text/plain": "Downloading:   0%|          | 0.00/1.13k [00:00<?, ?B/s]",
      "application/vnd.jupyter.widget-view+json": {
       "version_major": 2,
       "version_minor": 0,
       "model_id": "700fbb9fffac44fc8b991f0a522beb6e"
      },
      "application/json": {
       "n": 0,
       "total": 1160,
       "elapsed": 0.051384925842285156,
       "ncols": null,
       "nrows": null,
       "prefix": "Downloading",
       "ascii": false,
       "unit": "B",
       "unit_scale": true,
       "rate": null,
       "bar_format": null,
       "postfix": null,
       "unit_divisor": 1024,
       "initial": 0,
       "colour": null
      }
     },
     "metadata": {},
     "output_type": "display_data"
    }
   ],
   "source": [
    "!pip install transformers torch\n",
    "!pip install emoji==0.6.0\n",
    "\n",
    "from transformers import pipeline\n",
    "\n",
    "pinstall = pipeline(model=\"finiteautomata/bertweet-base-sentiment-analysis\")"
   ]
  },
  {
   "cell_type": "code",
   "execution_count": null,
   "outputs": [],
   "source": [],
   "metadata": {
    "collapsed": false,
    "pycharm": {
     "name": "#%%\n"
    }
   }
  }
 ],
 "metadata": {
  "kernelspec": {
   "display_name": "Python 3 (ipykernel)",
   "language": "python",
   "name": "python3"
  },
  "language_info": {
   "codemirror_mode": {
    "name": "ipython",
    "version": 3
   },
   "file_extension": ".py",
   "mimetype": "text/x-python",
   "name": "python",
   "nbconvert_exporter": "python",
   "pygments_lexer": "ipython3",
   "version": "3.8.13"
  }
 },
 "nbformat": 4,
 "nbformat_minor": 5
}