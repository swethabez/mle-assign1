{
  "cells": [
    {
      "cell_type": "markdown",
      "id": "TfzL6S25dL6j",
      "metadata": {
        "id": "TfzL6S25dL6j"
      },
      "source": [
        "<p align = \"center\" draggable=”false” ><img src=\"https://user-images.githubusercontent.com/37101144/161836199-fdb0219d-0361-4988-bf26-48b0fad160a3.png\" \n",
        "     width=\"200px\"\n",
        "     height=\"auto\"/>\n",
        "</p>"
      ]
    },
    {
      "cell_type": "markdown",
      "id": "cd6727ba",
      "metadata": {
        "id": "cd6727ba"
      },
      "source": [
        "# News Article Classification\n"
      ]
    },
    {
      "cell_type": "markdown",
      "id": "1dd0ce8d",
      "metadata": {
        "id": "1dd0ce8d"
      },
      "source": [
        "Today, you are a machine learning engineer at [Upday](https://www.upday.com/home), a news app. The engine behind the app processes almost 100k news articles every day in many languages and context. In order to connect people with the right content, we need to know what the articles are about. \n",
        "\n",
        "The job here is to build a classifier that identify the category of an article accurately that will be fed into the recommendation algorithms of the app for better personalized content for the readers. \n",
        "\n",
        "You will first train a Transformer from scratch; then fine-tune a pre-trained Transformer model for text classification using 🤗; and compare performances using the same test data set."
      ]
    },
    {
      "cell_type": "markdown",
      "id": "c979a92b",
      "metadata": {
        "id": "c979a92b"
      },
      "source": [
        "## Learning objectives\n"
      ]
    },
    {
      "cell_type": "markdown",
      "id": "4f6bcf51",
      "metadata": {
        "id": "4f6bcf51"
      },
      "source": [
        "By the end of this session, you will be able to:\n",
        "- Understand how Transformer models work\n",
        "- Build a Transformer model for text classification from scratch\n",
        "- Fine-tune a pre-trained Transformer model for text classification using 🤗 "
      ]
    },
    {
      "cell_type": "markdown",
      "id": "64724518",
      "metadata": {
        "id": "64724518"
      },
      "source": [
        "# Task 1. Prepare the data"
      ]
    },
    {
      "cell_type": "markdown",
      "id": "48a57962",
      "metadata": {
        "id": "48a57962"
      },
      "source": [
        "1. [20 news groups data](http://qwone.com/~jason/20Newsgroups/) is one of the standard datasets in the `scikit-learn`. The 20 newsgroups dataset comprises around 18k newsgroups posts on 20 topics split in two subsets: one for training (or development) and the other one for testing (or for performance evaluation). The split between the two datasets is based upon messages posted before and after a specific date.\n",
        "\n",
        "    Take a read on its [usage](https://scikit-learn.org/stable/datasets/real_world.html#newsgroups-dataset) and load the training and testing datasets into `train` and `test` respectively via `fetch_20newsgroups`."
      ]
    },
    {
      "cell_type": "code",
      "execution_count": 1,
      "id": "1f4d54b2",
      "metadata": {
        "id": "1f4d54b2"
      },
      "outputs": [],
      "source": [
        "NUM_LABELS = 20"
      ]
    },
    {
      "cell_type": "code",
      "execution_count": 2,
      "id": "511c1fd2",
      "metadata": {
        "id": "511c1fd2"
      },
      "outputs": [],
      "source": [
        "from sklearn.datasets import fetch_20newsgroups\n",
        "\n",
        "train = fetch_20newsgroups( subset='train', shuffle=True, random_state=42)\n",
        "test = fetch_20newsgroups( subset='test', shuffle=True, random_state=42)"
      ]
    },
    {
      "cell_type": "markdown",
      "id": "dd0ed320",
      "metadata": {
        "id": "dd0ed320"
      },
      "source": [
        "1. Explore the data. For example, what is the data type of `train` and `test`? What is the data type of `train['data']`? What is in `train['target_names']`? \n",
        "\n",
        "    YOUR ANSWER HERE"
      ]
    },
    {
      "cell_type": "code",
      "execution_count": 3,
      "id": "ZPOTA3xuvouF",
      "metadata": {
        "colab": {
          "base_uri": "https://localhost:8080/"
        },
        "id": "ZPOTA3xuvouF",
        "outputId": "60bc3fe9-fe02-4214-c261-3eb7360a468e"
      },
      "outputs": [
        {
          "data": {
            "text/plain": [
              "sklearn.utils.Bunch"
            ]
          },
          "execution_count": 3,
          "metadata": {},
          "output_type": "execute_result"
        }
      ],
      "source": [
        "type(train)"
      ]
    },
    {
      "cell_type": "code",
      "execution_count": 4,
      "id": "0I7tigOZx4hx",
      "metadata": {
        "colab": {
          "base_uri": "https://localhost:8080/"
        },
        "id": "0I7tigOZx4hx",
        "outputId": "ce507e74-fc03-422f-b0ba-fb8a26a6bf6e"
      },
      "outputs": [
        {
          "data": {
            "text/plain": [
              "list"
            ]
          },
          "execution_count": 4,
          "metadata": {},
          "output_type": "execute_result"
        }
      ],
      "source": [
        "#import pandas as pd\n",
        "#train = pd.DataFrame(train)\n",
        "type(train['data'])"
      ]
    },
    {
      "cell_type": "markdown",
      "id": "685b52dd",
      "metadata": {
        "id": "685b52dd"
      },
      "source": [
        "1. Train / validation / test splits. \n",
        "\n",
        "    There are four keys in each data set and we need \"data\" (the text) and \"target\" (the category). Extract the \"data\" and create a `pd.Series` named `X`; and extract the \"target\" and create a `pd.Series` named `y`. Do the same for the `test` data set, named `X_test` and `y_test`, respectively."
      ]
    },
    {
      "cell_type": "code",
      "execution_count": 5,
      "id": "4a044fbf",
      "metadata": {
        "id": "4a044fbf"
      },
      "outputs": [],
      "source": [
        "import pandas as pd\n",
        "\n",
        "X, y = pd.Series(train['data']),pd.Series(train['target'])  #\n",
        "X_test, y_test = pd.Series(test['data']),pd.Series(test['target'])  #train_test_split(, test_size=0.20, random_state=42)"
      ]
    },
    {
      "cell_type": "code",
      "execution_count": 6,
      "id": "_cBT-eezz8GG",
      "metadata": {
        "colab": {
          "base_uri": "https://localhost:8080/"
        },
        "id": "_cBT-eezz8GG",
        "outputId": "e633662a-098e-4587-fc54-dc3efd038509"
      },
      "outputs": [
        {
          "data": {
            "text/plain": [
              "(7532,)"
            ]
          },
          "execution_count": 6,
          "metadata": {},
          "output_type": "execute_result"
        }
      ],
      "source": [
        "y_test.shape"
      ]
    },
    {
      "cell_type": "markdown",
      "id": "ad6b5518",
      "metadata": {
        "id": "ad6b5518"
      },
      "source": [
        "Now split `X` and `y` into training and validation sets. Use `train_test_split` from `sklearn.model_selection` to split the data; save 10% of the data for validation and set the random state to 19."
      ]
    },
    {
      "cell_type": "code",
      "execution_count": 7,
      "id": "5b792fff",
      "metadata": {
        "id": "5b792fff"
      },
      "outputs": [],
      "source": [
        "from sklearn.model_selection import train_test_split \n",
        "X_train, X_valid, y_train, y_valid = train_test_split(X, y, test_size=0.10, random_state=19)\n"
      ]
    },
    {
      "cell_type": "code",
      "execution_count": 8,
      "id": "17b97380",
      "metadata": {
        "id": "17b97380"
      },
      "outputs": [],
      "source": [
        "assert y_train.shape == (10182,)\n",
        "assert y_valid.shape == (1132,)\n",
        "assert y_test.shape == (7532,)"
      ]
    },
    {
      "cell_type": "markdown",
      "id": "8e3d71a0",
      "metadata": {
        "id": "8e3d71a0"
      },
      "source": [
        "1. Convert categorical labels into dummy variables. \n",
        "\n",
        "    Use `pd.get_dummies` to convert labels into dummy variables for `y_train`, `y_valid`, `y_test`."
      ]
    },
    {
      "cell_type": "code",
      "execution_count": 9,
      "id": "72e335c2",
      "metadata": {
        "id": "72e335c2"
      },
      "outputs": [],
      "source": [
        "y_train = pd.get_dummies(y_train)# YOUR CODE HERE\n",
        "y_valid = pd.get_dummies(y_valid)# YOUR CODE HERE\n",
        "y_test = pd.get_dummies(y_test)# YOUR CODE HERE"
      ]
    },
    {
      "cell_type": "code",
      "execution_count": 10,
      "id": "ee3a80ca",
      "metadata": {
        "id": "ee3a80ca"
      },
      "outputs": [],
      "source": [
        "assert y_train.shape == (10182, NUM_LABELS)\n",
        "assert y_valid.shape == (1132, NUM_LABELS)\n",
        "assert y_test.shape == (7532, NUM_LABELS)"
      ]
    },
    {
      "cell_type": "markdown",
      "id": "9603eb10",
      "metadata": {
        "id": "9603eb10"
      },
      "source": [
        "\n",
        "# Task 2. Attention is all you need"
      ]
    },
    {
      "cell_type": "markdown",
      "id": "9c39db15",
      "metadata": {
        "id": "9c39db15"
      },
      "source": [
        "Recently most of the natural language processing tasks are being dominated by the `Transformer` architecture, introduced in [Attention Is All You Need](https://arxiv.org/abs/1706.03762), which used a simple mechanism called `Neural Attention` as one of its building blocks. As the title suggests this architecture didn't require any recurrent layer. We now build a text classification using Attention and Positional Embeddings."
      ]
    },
    {
      "cell_type": "markdown",
      "id": "fb0fa502",
      "metadata": {
        "id": "fb0fa502"
      },
      "source": [
        "1. Transformer (attention) Block. \n",
        "\n",
        "    The concept of `Neural Attention` is fairly simple; i.e., not all input information seen by a model is equally important to the task at hand. Although this concept has been utilized at various different places as well, e.g., max pooling in ConvNets, but the kind of attention we are looking for should be `context aware`.\n",
        "\n",
        "    The attention mechanism allows output to focus attention on input while producing output while the self-attention model allows inputs to interact with each other; in other words, calculate attention of all other inputs with respect to one input.\n",
        "\n",
        "    In the paper, the authors proposed another type of attention mechanism called multi-headed attention which refers to the fact that the outer space of the self attention layer gets factored into a set of independent sub-spaces learned separately, where each subspace is called a \"head\". **You need to implement the multi-head attention layer**, supplying values for two parameters: `num_heads` and `key_dim`.\n",
        "\n",
        "    There is a learnable dense projection present after the multi-head attention which enables the layer to actually learn something, as opposed to being a purely stateless transformation. **You need to implement `dense_proj`**, use the `tf.keras.Sequential` to stack two dense layers: \n",
        "    \n",
        "        1. first dense layer with `dense_dim` units and activation function `relu`;\n",
        "        2. second dense layer with `embed_dim` units and no activation function."
      ]
    },
    {
      "cell_type": "code",
      "execution_count": 11,
      "id": "cc578b76",
      "metadata": {
        "id": "cc578b76"
      },
      "outputs": [],
      "source": [
        "from tensorflow.keras import layers as L\n",
        "import tensorflow as tf\n",
        "from tensorflow import keras\n",
        "\n",
        "class TransformerBlock(L.Layer):\n",
        "    def __init__(self, embed_dim, dense_dim, num_heads, **kwargs):\n",
        "        self.embed_dim = embed_dim\n",
        "        self.dense_dim = dense_dim\n",
        "        self.num_heads = num_heads\n",
        "        self.attention = L.MultiHeadAttention(num_heads=num_heads, key_dim=embed_dim)  # YOUR CODE HERE\n",
        "        self.dense_proj = keras.Sequential([L.Dense(dense_dim,activation=tf.nn.relu),L.Dense(embed_dim),])# YOUR CODE HERE\n",
        "        self.layernorm1 = L.LayerNormalization()\n",
        "        self.layernorm2 = L.LayerNormalization()\n",
        "        super().__init__(**kwargs)\n",
        "    \n",
        "    def call(self, inputs, mask=None):\n",
        "        if mask is not None:\n",
        "            mask = mask[: tf.newaxis, :]\n",
        "        attention_output = self.attention(inputs, inputs, attention_mask=mask)\n",
        "        proj_input = self.layernorm1(inputs + attention_output)\n",
        "        proj_output = self.dense_proj(proj_input)\n",
        "        return self.layernorm2(proj_input + proj_output)\n",
        "    \n",
        "    def get_config(self):\n",
        "        config = super().get_config()\n",
        "        config.update({\n",
        "            \"embed_dim\": self.embed_dim,\n",
        "            \"num_heads\": self.num_heads,\n",
        "            \"dense_dim\": self.dense_dim\n",
        "        })\n",
        "        return config"
      ]
    },
    {
      "cell_type": "markdown",
      "id": "e1cb0ce3",
      "metadata": {
        "id": "e1cb0ce3"
      },
      "source": [
        "1. Positional embedding. \n",
        "\n",
        "    The idea behind Positional Encoding is fairly simple as well: to give the model access to token order information, therefore we are going to add the token's position in the sentence to each word embedding.\n",
        "\n",
        "    Thus, one input word embedding will have two components: the usual token vector representing the token independent of any specific context, and a position vector representing the position of the token in the current sequence."
      ]
    },
    {
      "cell_type": "code",
      "execution_count": 12,
      "id": "2db9b3dd",
      "metadata": {
        "id": "2db9b3dd"
      },
      "outputs": [],
      "source": [
        "class PositionalEmbedding(L.Layer):\n",
        "    def __init__(self, sequence_length, input_dim, output_dim, **kwargs):\n",
        "        self.token_embeddings = L.Embedding(input_dim, output_dim)# YOUR CODE HERE\n",
        "        self.position_embeddings = L.Embedding(sequence_length, output_dim) # YOUR CODE HERE\n",
        "        self.sequence_length = sequence_length\n",
        "        self.input_dim = input_dim\n",
        "        self.output_dim = output_dim\n",
        "        super().__init__(**kwargs)\n",
        "        \n",
        "    def call(self, inputs):\n",
        "        length = tf.shape(inputs)[-1]\n",
        "        positions = tf.range(start=0, limit=length, delta=1)\n",
        "        embedded_tokens = self.token_embeddings(inputs)\n",
        "        embedded_positions = self.position_embeddings(positions)\n",
        "        return embedded_tokens + embedded_positions\n",
        "        \n",
        "    def get_config(self):\n",
        "        config = super().get_config()\n",
        "        config.update({\n",
        "            \"output_dim\": self.output_dim,\n",
        "            \"sequence_length\": self.sequence_length,\n",
        "            \"input_dim\": self.input_dim,\n",
        "        })\n",
        "        return config"
      ]
    },
    {
      "cell_type": "markdown",
      "id": "afde9c93",
      "metadata": {
        "id": "afde9c93"
      },
      "source": [
        "1. Define some constants to parameterize the model."
      ]
    },
    {
      "cell_type": "code",
      "execution_count": 13,
      "id": "280fe4c7",
      "metadata": {
        "id": "280fe4c7"
      },
      "outputs": [],
      "source": [
        "VOCAB_SIZE = 10_000\n",
        "EMBED_DIM = 256\n",
        "DENSE_DIM = 32\n",
        "NUM_HEADS = 2\n",
        "MAX_LEN = 256"
      ]
    },
    {
      "cell_type": "markdown",
      "id": "9ecb3a8d",
      "metadata": {
        "id": "9ecb3a8d"
      },
      "source": [
        "1. Tokenizer. \n",
        "    \n",
        "    The tokenizer is a simple tool to convert a text into a sequence of tokens. It is used to convert the training data into a sequence of integers, which are then used as input to the model. \n",
        "\n",
        "    Use `Tokenizer` to create a tokenizer for the training data. Set the `num_words` parameter to the number of words to keep in the vocabulary, and `oov_token` to be `\"<unk>\"`."
      ]
    },
    {
      "cell_type": "code",
      "execution_count": 14,
      "id": "17d66cfc",
      "metadata": {
        "id": "17d66cfc"
      },
      "outputs": [],
      "source": [
        "from keras.preprocessing.text import Tokenizer\n",
        "tokenizer = Tokenizer(num_words= MAX_LEN ,oov_token=\"<unk>\") # YOUR CODE HERE\n",
        "tokenizer.fit_on_texts(X_train)"
      ]
    },
    {
      "cell_type": "markdown",
      "id": "eab4b7a0",
      "metadata": {
        "id": "eab4b7a0"
      },
      "source": [
        "1. Pad the sequences. \n",
        "    \n",
        "    The tokenizer outputs a sequence of integers, which are then used as input to the model. However, the model expects a sequence of fixed length. To pad the sequences to the same length, use `sequence.pad_sequences` from `keras.preprocessing`.\n",
        "\n",
        "    Complete function `preprocess` below to 1) tokenize the texts 2) pad the sequences to the same length."
      ]
    },
    {
      "cell_type": "code",
      "execution_count": 15,
      "id": "5GyEyhfuDybK",
      "metadata": {
        "id": "5GyEyhfuDybK"
      },
      "outputs": [],
      "source": [
        "#from keras.preprocessing import sequence\n",
        "from keras.utils import pad_sequences\n",
        "\n",
        "def preprocess(texts, tokenizer, maxlen:int = MAX_LEN):\n",
        "    seqs = tokenizer.texts_to_sequences(texts)  # YOUR CODE HERE\n",
        "    tokenized_text = pad_sequences(seqs, maxlen=MAX_LEN) # YOUR CODE HERE\n",
        "    return tokenized_text"
      ]
    },
    {
      "cell_type": "markdown",
      "id": "8f4f3291",
      "metadata": {
        "id": "8f4f3291"
      },
      "source": [
        "1. Preprocess the data. \n",
        "    \n",
        "    Use `preprocess` to preprocess the training, validation, and test data."
      ]
    },
    {
      "cell_type": "code",
      "execution_count": 16,
      "id": "041570a5",
      "metadata": {
        "id": "041570a5"
      },
      "outputs": [],
      "source": [
        "X_train = preprocess(X_train, tokenizer,MAX_LEN)# YOUR CODE HERE\n",
        "X_valid = preprocess(X_valid, tokenizer,MAX_LEN)# YOUR CODE HERE\n",
        "X_test  = preprocess(X_test, tokenizer,MAX_LEN)# YOUR CODE HERE"
      ]
    },
    {
      "cell_type": "code",
      "execution_count": 17,
      "id": "A3c2Tnsg5yAG",
      "metadata": {
        "colab": {
          "base_uri": "https://localhost:8080/"
        },
        "id": "A3c2Tnsg5yAG",
        "outputId": "92bdf349-0d75-4c97-d1ba-67e744564149"
      },
      "outputs": [
        {
          "data": {
            "text/plain": [
              "array([[ 0,  0,  0, ..., 14,  1,  1],\n",
              "       [ 0,  0,  0, ..., 50,  1,  1],\n",
              "       [ 0,  0,  0, ...,  1, 13,  1],\n",
              "       ...,\n",
              "       [ 0,  0,  0, ..., 23,  1,  1],\n",
              "       [ 0,  0,  0, ...,  1,  1,  1],\n",
              "       [ 1,  2,  1, ...,  1,  1, 32]], dtype=int32)"
            ]
          },
          "execution_count": 17,
          "metadata": {},
          "output_type": "execute_result"
        }
      ],
      "source": [
        "X_train"
      ]
    },
    {
      "cell_type": "markdown",
      "id": "6f65487a",
      "metadata": {
        "id": "6f65487a"
      },
      "source": [
        "1. Define the model with the following architecture: \n",
        "\n",
        "    * Input Layer\n",
        "    * Positional Embeddings\n",
        "    * Transformer Block\n",
        "    * Pooling\n",
        "    * Dropout\n",
        "    * Output Layer\n",
        "\n",
        "    If you are not familiar with keras functional API, take a read [here](https://keras.io/guides/functional_api/)."
      ]
    },
    {
      "cell_type": "code",
      "execution_count": 18,
      "id": "141d4968",
      "metadata": {
        "id": "141d4968"
      },
      "outputs": [],
      "source": [
        "inputs = keras.Input(shape=(None, ), dtype=\"int64\")\n",
        "\n",
        "x = PositionalEmbedding(sequence_length = MAX_LEN, input_dim = VOCAB_SIZE, output_dim =EMBED_DIM)(inputs)\n",
        "x = TransformerBlock(EMBED_DIM, DENSE_DIM,num_heads=NUM_HEADS)(x)\n",
        " \n",
        "x = L.GlobalMaxPooling1D()(x)\n",
        "x = L.Dropout(0.5)(x)\n",
        "outputs = L.Dense(20, activation='softmax')(x)\n",
        "\n",
        "model = keras.Model(inputs, outputs)"
      ]
    },
    {
      "cell_type": "code",
      "execution_count": 19,
      "id": "0-jqUnR8LpO-",
      "metadata": {
        "colab": {
          "base_uri": "https://localhost:8080/"
        },
        "id": "0-jqUnR8LpO-",
        "outputId": "5241dcf5-dd7c-405b-ad69-afc576f89052"
      },
      "outputs": [
        {
          "name": "stdout",
          "output_type": "stream",
          "text": [
            "Model: \"model\"\n",
            "_________________________________________________________________\n",
            " Layer (type)                Output Shape              Param #   \n",
            "=================================================================\n",
            " input_1 (InputLayer)        [(None, None)]            0         \n",
            "                                                                 \n",
            " positional_embedding (Posit  (None, None, 256)        2625536   \n",
            " ionalEmbedding)                                                 \n",
            "                                                                 \n",
            " transformer_block (Transfor  (None, None, 256)        543776    \n",
            " merBlock)                                                       \n",
            "                                                                 \n",
            " global_max_pooling1d (Globa  (None, 256)              0         \n",
            " lMaxPooling1D)                                                  \n",
            "                                                                 \n",
            " dropout (Dropout)           (None, 256)               0         \n",
            "                                                                 \n",
            " dense_2 (Dense)             (None, 20)                5140      \n",
            "                                                                 \n",
            "=================================================================\n",
            "Total params: 3,174,452\n",
            "Trainable params: 3,174,452\n",
            "Non-trainable params: 0\n",
            "_________________________________________________________________\n"
          ]
        }
      ],
      "source": [
        "model.summary()"
      ]
    },
    {
      "cell_type": "markdown",
      "id": "7329eef2",
      "metadata": {
        "id": "7329eef2"
      },
      "source": [
        "1. Compile model. \n",
        "\n",
        "    Use 'adam' for the optimizer and accuracy for metrics, supply the correct value for loss. "
      ]
    },
    {
      "cell_type": "code",
      "execution_count": 20,
      "id": "f6491748",
      "metadata": {
        "id": "f6491748"
      },
      "outputs": [],
      "source": [
        "model.compile(\n",
        "    optimizer='adam', # YOUR CODE HERE\n",
        "    loss='categorical_crossentropy', # YOUR CODE HERE\n",
        "    metrics='accuracy' # YOUR CODE HERE\n",
        ")"
      ]
    },
    {
      "cell_type": "markdown",
      "id": "ZN4agZCL7E6e",
      "metadata": {
        "id": "ZN4agZCL7E6e"
      },
      "source": [
        "1. Add [EarlyStopping](https://keras.io/api/callbacks/early_stopping/) and [ReduceLROnPlateau](https://keras.io/api/callbacks/reduce_lr_on_plateau/) to stop training if the model does not improve a set metric after a given number of epochs. \n",
        "\n",
        "    Create an `EarlyStopping` object named `es` to stop training if the validation loss does not improve after 5 epochs. Set verbose to display messages when the callback takes an action and set `restore_best_weights` to restore model weights from the epoch with the best value of the monitored metric.\n",
        "    \n",
        "    Use `ReduceLROnPlateau` to reduce the learning rate if the validation loss does not improve after 3 epochs. Set verbose to display messages when the callback takes an action and use default values for other parameters.\n",
        "    "
      ]
    },
    {
      "cell_type": "code",
      "execution_count": 21,
      "id": "220efe0c",
      "metadata": {
        "id": "220efe0c"
      },
      "outputs": [],
      "source": [
        "es = tf.keras.callbacks.EarlyStopping(monitor=\"val_loss\",patience=5,verbose=1,restore_best_weights=True)# YOUR CODE HERE\n",
        "rlp = tf.keras.callbacks.ReduceLROnPlateau(monitor='val_loss', patience=3, verbose=1)# YOUR CODE HERE"
      ]
    },
    {
      "cell_type": "markdown",
      "id": "58c75279",
      "metadata": {
        "id": "58c75279"
      },
      "source": [
        "1. Train the model. \n",
        "    \n",
        "    Supply both `EarlyStopping` and `ReduceLROnPlateau` for `callbacks`. Set `epochs` to 100."
      ]
    },
    {
      "cell_type": "code",
      "execution_count": 22,
      "id": "1c8d14d0",
      "metadata": {
        "colab": {
          "base_uri": "https://localhost:8080/"
        },
        "id": "1c8d14d0",
        "outputId": "6bd8c503-3a28-4a36-e282-50d1da2961b5"
      },
      "outputs": [
        {
          "name": "stdout",
          "output_type": "stream",
          "text": [
            "Epoch 1/100\n",
            "319/319 [==============================] - 12s 26ms/step - loss: 3.4152 - accuracy: 0.0907 - val_loss: 2.5206 - val_accuracy: 0.2482 - lr: 0.0010\n",
            "Epoch 2/100\n",
            "319/319 [==============================] - 7s 22ms/step - loss: 2.4517 - accuracy: 0.2372 - val_loss: 2.1354 - val_accuracy: 0.3012 - lr: 0.0010\n",
            "Epoch 3/100\n",
            "319/319 [==============================] - 7s 23ms/step - loss: 2.0933 - accuracy: 0.3325 - val_loss: 2.0169 - val_accuracy: 0.3516 - lr: 0.0010\n",
            "Epoch 4/100\n",
            "319/319 [==============================] - 7s 23ms/step - loss: 1.8855 - accuracy: 0.4015 - val_loss: 1.8896 - val_accuracy: 0.4090 - lr: 0.0010\n",
            "Epoch 5/100\n",
            "319/319 [==============================] - 7s 23ms/step - loss: 1.7341 - accuracy: 0.4467 - val_loss: 1.8106 - val_accuracy: 0.4240 - lr: 0.0010\n",
            "Epoch 6/100\n",
            "319/319 [==============================] - 8s 25ms/step - loss: 1.6168 - accuracy: 0.4894 - val_loss: 1.7719 - val_accuracy: 0.4382 - lr: 0.0010\n",
            "Epoch 7/100\n",
            "319/319 [==============================] - 9s 29ms/step - loss: 1.5135 - accuracy: 0.5184 - val_loss: 1.7548 - val_accuracy: 0.4541 - lr: 0.0010\n",
            "Epoch 8/100\n",
            "319/319 [==============================] - 9s 29ms/step - loss: 1.4316 - accuracy: 0.5465 - val_loss: 1.7526 - val_accuracy: 0.4567 - lr: 0.0010\n",
            "Epoch 9/100\n",
            "319/319 [==============================] - 10s 31ms/step - loss: 1.3526 - accuracy: 0.5658 - val_loss: 1.7355 - val_accuracy: 0.4567 - lr: 0.0010\n",
            "Epoch 10/100\n",
            "319/319 [==============================] - 8s 25ms/step - loss: 1.2888 - accuracy: 0.5951 - val_loss: 1.8027 - val_accuracy: 0.4514 - lr: 0.0010\n",
            "Epoch 11/100\n",
            "319/319 [==============================] - 7s 23ms/step - loss: 1.2252 - accuracy: 0.6131 - val_loss: 1.8273 - val_accuracy: 0.4567 - lr: 0.0010\n",
            "Epoch 12/100\n",
            "319/319 [==============================] - ETA: 0s - loss: 1.1544 - accuracy: 0.6300\n",
            "Epoch 12: ReduceLROnPlateau reducing learning rate to 0.00010000000474974513.\n",
            "319/319 [==============================] - 7s 23ms/step - loss: 1.1544 - accuracy: 0.6300 - val_loss: 1.8750 - val_accuracy: 0.4417 - lr: 0.0010\n",
            "Epoch 13/100\n",
            "319/319 [==============================] - 7s 23ms/step - loss: 0.8992 - accuracy: 0.7153 - val_loss: 1.8718 - val_accuracy: 0.4620 - lr: 1.0000e-04\n",
            "Epoch 14/100\n",
            "319/319 [==============================] - ETA: 0s - loss: 0.8417 - accuracy: 0.7322Restoring model weights from the end of the best epoch: 9.\n",
            "319/319 [==============================] - 7s 23ms/step - loss: 0.8417 - accuracy: 0.7322 - val_loss: 1.8624 - val_accuracy: 0.4682 - lr: 1.0000e-04\n",
            "Epoch 14: early stopping\n"
          ]
        }
      ],
      "source": [
        "history = model.fit(\n",
        "    X_train, y_train, \n",
        "    validation_data=(X_valid, y_valid),\n",
        "    callbacks= [es,rlp], # YOUR CODE HERE\n",
        "    epochs=100\n",
        ")"
      ]
    },
    {
      "cell_type": "markdown",
      "id": "4cd54e08",
      "metadata": {
        "id": "4cd54e08"
      },
      "source": [
        "1. Evaluate the trained model on the test data. \n",
        "    \n",
        "    Use `evaluate` to evaluate the model on the test data (accuracy will be around 0.77)."
      ]
    },
    {
      "cell_type": "code",
      "execution_count": 23,
      "id": "HCVwNQ0UqH_x",
      "metadata": {
        "colab": {
          "base_uri": "https://localhost:8080/"
        },
        "id": "HCVwNQ0UqH_x",
        "outputId": "0f1b739f-9581-4909-bc88-75daf9fb954b"
      },
      "outputs": [
        {
          "name": "stdout",
          "output_type": "stream",
          "text": [
            "236/236 [==============================] - 2s 10ms/step - loss: 2.0521 - accuracy: 0.3849\n"
          ]
        },
        {
          "data": {
            "text/plain": [
              "[2.0520617961883545, 0.3848911225795746]"
            ]
          },
          "execution_count": 23,
          "metadata": {},
          "output_type": "execute_result"
        }
      ],
      "source": [
        "model.evaluate(X_test, y_test)# YOUR CODE HERE"
      ]
    },
    {
      "cell_type": "markdown",
      "id": "3f3bc7bf",
      "metadata": {
        "id": "3f3bc7bf"
      },
      "source": [
        "1. Visualize both loss and accuracy curves for the training and validation data. "
      ]
    },
    {
      "cell_type": "code",
      "execution_count": 24,
      "id": "20fdf465",
      "metadata": {
        "colab": {
          "base_uri": "https://localhost:8080/",
          "height": 295
        },
        "id": "20fdf465",
        "outputId": "4d2a8bb1-0259-4c05-f196-8ad621245822"
      },
      "outputs": [
        {
          "data": {
            "image/png": "[encoded data removed]",
            "text/plain": [
              "<Figure size 432x288 with 1 Axes>"
            ]
          },
          "metadata": {
            "needs_background": "light"
          },
          "output_type": "display_data"
        }
      ],
      "source": [
        "# YOUR CODE HERE\n",
        "import matplotlib.pyplot as plt\n",
        "plt.plot(history.history['loss'])\n",
        "plt.plot(history.history['val_loss'])\n",
        "plt.title('model loss')\n",
        "plt.ylabel('loss')\n",
        "plt.xlabel('epochs')\n",
        "plt.legend(['train','test'], loc='upper right')\n",
        "plt.show()"
      ]
    },
    {
      "cell_type": "markdown",
      "id": "e_aWlv8RYI-4",
      "metadata": {
        "id": "e_aWlv8RYI-4"
      },
      "source": [
        "# Task 3. Fine-tune pre-trained model via 🤗"
      ]
    },
    {
      "cell_type": "markdown",
      "id": "5490667e",
      "metadata": {
        "id": "5490667e"
      },
      "source": [
        "Substantial gains can be achieved by pre-training on a large corpus of text followed by fine-tuning a specific task. In this task, we will take advantage of [DistilBERT, a distilled version of BERT: smaller, faster, cheaper and lighter](https://arxiv.org/pdf/1910.01108.pdf), [`distillbert-uncased`](https://huggingface.co/distilbert-base-uncased) specifically, and fine-tune it on the 20 Newsgroups dataset."
      ]
    },
    {
      "cell_type": "markdown",
      "id": "b24afd2f",
      "metadata": {
        "id": "b24afd2f"
      },
      "source": [
        "1. Install [`Transformers`](https://huggingface.co/docs/transformers) and [`datasets`](https://huggingface.co/docs/datasets/index)."
      ]
    },
    {
      "cell_type": "code",
      "execution_count": 25,
      "id": "st1OGgI4HmqS",
      "metadata": {
        "id": "st1OGgI4HmqS"
      },
      "outputs": [],
      "source": [
        "! pip install -U -q transformers datasets"
      ]
    },
    {
      "cell_type": "markdown",
      "id": "vC5O5FiWYPHe",
      "metadata": {
        "id": "vC5O5FiWYPHe"
      },
      "source": [
        "1. Import the library and check its version.\n"
      ]
    },
    {
      "cell_type": "code",
      "execution_count": 26,
      "id": "maGzeTY8Ht85",
      "metadata": {
        "colab": {
          "base_uri": "https://localhost:8080/",
          "height": 121,
          "referenced_widgets": [
            "898f1efe2ad94193bdc7a5e9e1618faf",
            "d34b2fcd18c64eed99f80a1ee3f5928e",
            "f981e83031374b4993ee335797c0e183",
            "af24c072274a476ba3c033bcce92b6e8",
            "6a00bb99b6844e2a95b036c47b35b10e",
            "c3c94bccacda4aa6a8fce467699fdf10",
            "52b7e32d537f4bcaac005847e37c16cd",
            "3cb7def7a35d4b7e8a1ae0a68ecb9825",
            "25d88605786a49b2aa8ac2ff897f70ed",
            "7d203017862a44bcbd5588b60db59880",
            "7bfde8f26446409bb093bce1381c0731"
          ]
        },
        "id": "maGzeTY8Ht85",
        "outputId": "2435805b-a2f1-4c64-8622-1927c67794c9"
      },
      "outputs": [
        {
          "name": "stderr",
          "output_type": "stream",
          "text": [
            "The cache for model files in Transformers v4.22.0 has been updated. Migrating your old cache. This is a one-time only operation. You can interrupt this and resume the migration later on by calling `transformers.utils.move_cache()`.\n"
          ]
        },
        {
          "name": "stdout",
          "output_type": "stream",
          "text": [
            "Moving 0 files to the new cache system\n"
          ]
        },
        {
          "data": {
            "application/vnd.jupyter.widget-view+json": {
              "model_id": "898f1efe2ad94193bdc7a5e9e1618faf",
              "version_major": 2,
              "version_minor": 0
            },
            "text/plain": [
              "0it [00:00, ?it/s]"
            ]
          },
          "metadata": {},
          "output_type": "display_data"
        },
        {
          "name": "stdout",
          "output_type": "stream",
          "text": [
            "4.23.1\n"
          ]
        }
      ],
      "source": [
        "import transformers\n",
        "print(transformers.__version__)"
      ]
    },
    {
      "cell_type": "code",
      "execution_count": 27,
      "id": "qKgbRQhrjnlf",
      "metadata": {
        "colab": {
          "base_uri": "https://localhost:8080/"
        },
        "id": "qKgbRQhrjnlf",
        "outputId": "3c53deef-5cc6-4f79-d810-3cf1b0ce91e4"
      },
      "outputs": [
        {
          "data": {
            "text/plain": [
              "sklearn.utils.Bunch"
            ]
          },
          "execution_count": 27,
          "metadata": {},
          "output_type": "execute_result"
        }
      ],
      "source": [
        "#pd.DataFrame(train['data'],train['target'], columns=['text','label']).head()\n",
        "type(train)"
      ]
    },
    {
      "cell_type": "markdown",
      "id": "0dc75685",
      "metadata": {
        "id": "0dc75685"
      },
      "source": [
        "1. Create `Dataset` objects for train / validation / test sets that are better compatible with the `Transformers` API.\n",
        "\n",
        "    You can first create a `pd.DataFrame` with two fields: `text` and `label` with `data` and `target` from `train`. Then, call the `Dataset.from_pandas()` method to create a `Dataset` object and save it to `train_ds`. \n",
        "\n",
        "    Do the same for test set. "
      ]
    },
    {
      "cell_type": "code",
      "execution_count": 28,
      "id": "RnLjbcxvHl7u",
      "metadata": {
        "id": "RnLjbcxvHl7u"
      },
      "outputs": [],
      "source": [
        "from datasets import Dataset\n",
        "\n",
        "df= pd.DataFrame()\n",
        "df['text'] = train['data']\n",
        "df['label'] =train['target']\n",
        "\n",
        "train_ds = Dataset.from_pandas(df)# YOUR CODE HERE\n",
        "\n",
        "df= pd.DataFrame()\n",
        "df['text'] = test['data']\n",
        "df['label'] =test['target']\n",
        "\n",
        "test_ds  = Dataset.from_pandas(df)# YOUR CODE HERE"
      ]
    },
    {
      "cell_type": "markdown",
      "id": "6699275d",
      "metadata": {
        "id": "6699275d"
      },
      "source": [
        "1. Cast column `label` as `datasets.features.ClassLabel` object using [`class_encode_column`](https://huggingface.co/docs/datasets/package_reference/main_classes#datasets.Dataset.class_encode_column) for both `train_ds` and `test_ds`."
      ]
    },
    {
      "cell_type": "code",
      "execution_count": 29,
      "id": "wwmqiDg8H9W7",
      "metadata": {
        "colab": {
          "base_uri": "https://localhost:8080/",
          "height": 209,
          "referenced_widgets": [
            "559e8a84f4ff4696ba4d9cffc5de1639",
            "9c71a8f43f9a4384964dd998464ab2fc",
            "d6675a2db7d840a096daf445155deb85",
            "b607066f2b8b4ebbb54f02ff8f9fc6e9",
            "9ac6408cf07248bb8e31479e639ef70c",
            "f836eaa47dba4547ace913f57ecdf068",
            "cc29642d973f467fbfd1db551c72bbee",
            "60bd4593507543db96d1631f074e533a",
            "c399e38357824dfcab93bea70105dc23",
            "50adc9d49b46452ea5d865958c6eb0fe",
            "c1686c9bb8fb4555a361fb50ade1ba63",
            "d77dcf52bd7347bfb0ee810c7a1e0445",
            "39f3871b37b545e6a88f25bc09017e11",
            "4c209e4d0447415bbf3102ec3d6df341",
            "1ffedb69cb5c48d98c315cd3cc052d5b",
            "6590cd22cd094f979faaddf023a37d5e",
            "2804821c21554832a0cae32c1338830f",
            "eea1ec2a27a64515b387a00395e545a1",
            "9334df1e1b8043d09688788cdb359ad4",
            "61b49ca8e3a14e64add3cc89d33eb0ee",
            "54c4f8f9054b4b1297bc925927530a12",
            "969656a91cab446cb3289475498854e6",
            "63d780aa45994807885d86f5cede29c3",
            "41af04881aba4c79a988adbaaf3ddecd",
            "152fdbd1f56049c6abefbd21495e1971",
            "8c8b7aa5a43948c5a65dea47cfb0eb9a",
            "57cd82ff33bc47798b2e8f311455072a",
            "57c6c20c003a4b9da3f76d697d7fe65d",
            "7261fe2dac524d0dbad1c29812946135",
            "d0514d110f644f18b219d7025fe8a4e2",
            "d49b8bafd2ad4660853ee023c78f5236",
            "5de7e538488f4122b993c8f58d99d90e",
            "4caea73f722d42d8b48984b87ab91316",
            "ed2baf6a482943e1b15422b71f8804cb",
            "2fd7303a8abe447dac7c37bf1fa96024",
            "7ee08530fbc1459c8eab3e31dcedb316",
            "a09a429ae7fe4483ae0af4c9e06896b9",
            "a3318fd7b9f84de3b80292419d164af2",
            "593d5359dbd44d7ca79e03752e60779c",
            "63e616c5cdda4d509b6625c9431c0a3f",
            "580a0f4bde5c43dd8143127744a27c42",
            "579fd17934e842cfb5d829def3729843",
            "71afedf6d8804ed1b4c70f4865177fb0",
            "5cf37b06c8b648668c71ac07bf5fc95e",
            "af192af14bc84e7b86734020429d68e6",
            "7fd72d9369814d4c87de2ea7b47f144c",
            "c947f062601347ab92b63d5e42d80732",
            "97d3feb545054616a182916168d281cb",
            "e81593a8c134416e823f530e9fc61b31",
            "ce6f446d03f14efebf3b9a09a4a63476",
            "1e0b173772a641ccad09daae9d75276e",
            "52e3ab97764c4ed98184e2cad388ca22",
            "dbdca39db4394395bdb820e006abd50c",
            "a6d4e44aeada453ea0777b8334fd4fda",
            "cae9b3a956a14586a92a5bf843bcb770",
            "5ebb24770ab44abdaa7135a97f252036",
            "ecd8bc24d95c4769bdd33deb7cd7b1c0",
            "b10e3e7261374f05ab3fbac35da1555b",
            "a55e5e5b435d4491a702d9d6bf0c8912",
            "c82fee80d24f4b4b9cda72b38701618c",
            "b3f3c26860f840b58138da3e2ad0e8f6",
            "d2cbbac0771e49e4a2fe3b09bdb946b0",
            "6df03e439792411aa807810640a53a3c",
            "7962f4972bf746319c74fb74d9fdd888",
            "26679d6930664b328532572830939822",
            "267dad16309d4b05b155847cec8ce38d"
          ]
        },
        "id": "wwmqiDg8H9W7",
        "outputId": "c14d928e-e78a-43be-b0e6-78150e2c9d8d"
      },
      "outputs": [
        {
          "data": {
            "application/vnd.jupyter.widget-view+json": {
              "model_id": "559e8a84f4ff4696ba4d9cffc5de1639",
              "version_major": 2,
              "version_minor": 0
            },
            "text/plain": [
              "Stringifying the column:   0%|          | 0/12 [00:00<?, ?ba/s]"
            ]
          },
          "metadata": {},
          "output_type": "display_data"
        },
        {
          "data": {
            "application/vnd.jupyter.widget-view+json": {
              "model_id": "d77dcf52bd7347bfb0ee810c7a1e0445",
              "version_major": 2,
              "version_minor": 0
            },
            "text/plain": [
              "Casting to class labels:   0%|          | 0/12 [00:00<?, ?ba/s]"
            ]
          },
          "metadata": {},
          "output_type": "display_data"
        },
        {
          "data": {
            "application/vnd.jupyter.widget-view+json": {
              "model_id": "63d780aa45994807885d86f5cede29c3",
              "version_major": 2,
              "version_minor": 0
            },
            "text/plain": [
              "Casting the dataset:   0%|          | 0/2 [00:00<?, ?ba/s]"
            ]
          },
          "metadata": {},
          "output_type": "display_data"
        },
        {
          "data": {
            "application/vnd.jupyter.widget-view+json": {
              "model_id": "ed2baf6a482943e1b15422b71f8804cb",
              "version_major": 2,
              "version_minor": 0
            },
            "text/plain": [
              "Stringifying the column:   0%|          | 0/8 [00:00<?, ?ba/s]"
            ]
          },
          "metadata": {},
          "output_type": "display_data"
        },
        {
          "data": {
            "application/vnd.jupyter.widget-view+json": {
              "model_id": "af192af14bc84e7b86734020429d68e6",
              "version_major": 2,
              "version_minor": 0
            },
            "text/plain": [
              "Casting to class labels:   0%|          | 0/8 [00:00<?, ?ba/s]"
            ]
          },
          "metadata": {},
          "output_type": "display_data"
        },
        {
          "data": {
            "application/vnd.jupyter.widget-view+json": {
              "model_id": "5ebb24770ab44abdaa7135a97f252036",
              "version_major": 2,
              "version_minor": 0
            },
            "text/plain": [
              "Casting the dataset:   0%|          | 0/1 [00:00<?, ?ba/s]"
            ]
          },
          "metadata": {},
          "output_type": "display_data"
        }
      ],
      "source": [
        "train_ds = train_ds.class_encode_column('label')# YOUR CODE HERE\n",
        "test_ds = test_ds.class_encode_column('label') # YOUR CODE HERE"
      ]
    },
    {
      "cell_type": "code",
      "execution_count": 30,
      "id": "NzUCLcL5mez-",
      "metadata": {
        "colab": {
          "base_uri": "https://localhost:8080/"
        },
        "id": "NzUCLcL5mez-",
        "outputId": "62fa5487-ab10-4427-d69e-4bd267284624"
      },
      "outputs": [
        {
          "data": {
            "text/plain": [
              "{'text': Value(dtype='string', id=None),\n",
              " 'label': ClassLabel(names=['0', '1', '10', '11', '12', '13', '14', '15', '16', '17', '18', '19', '2', '3', '4', '5', '6', '7', '8', '9'], id=None)}"
            ]
          },
          "execution_count": 30,
          "metadata": {},
          "output_type": "execute_result"
        }
      ],
      "source": [
        "train_ds.features"
      ]
    },
    {
      "cell_type": "markdown",
      "id": "1fa82ebb",
      "metadata": {
        "id": "1fa82ebb"
      },
      "source": [
        "1. Create the validation set by apply [`train_ds.train_test_split()`](https://huggingface.co/docs/datasets/package_reference/main_classes#datasets.Dataset.train_test_split). Similarly, set the test size to 0.1, and set the random state to 19. Make sure the split is stratified by column `label`. Save the result to `train_dsd` as the result is a DatasetDict object.\n",
        "\n",
        "    Here's another way to do train / validation / test split: [ref](https://discuss.huggingface.co/t/how-to-split-main-dataset-into-train-dev-test-as-datasetdict/1090/2)"
      ]
    },
    {
      "cell_type": "code",
      "execution_count": 31,
      "id": "VvDkzSZsIEHx",
      "metadata": {
        "id": "VvDkzSZsIEHx"
      },
      "outputs": [],
      "source": [
        "train_dsd = train_ds.train_test_split(test_size=0.1, seed=19, stratify_by_column=\"label\") # YOUR CODE HERE"
      ]
    },
    {
      "cell_type": "code",
      "execution_count": 32,
      "id": "o3XIsj3Z94wi",
      "metadata": {
        "colab": {
          "base_uri": "https://localhost:8080/"
        },
        "id": "o3XIsj3Z94wi",
        "outputId": "a772be92-93bf-4058-e8fa-494bab12ebe2"
      },
      "outputs": [
        {
          "data": {
            "text/plain": [
              "DatasetDict({\n",
              "    train: Dataset({\n",
              "        features: ['text', 'label'],\n",
              "        num_rows: 10182\n",
              "    })\n",
              "    test: Dataset({\n",
              "        features: ['text', 'label'],\n",
              "        num_rows: 1132\n",
              "    })\n",
              "})"
            ]
          },
          "execution_count": 32,
          "metadata": {},
          "output_type": "execute_result"
        }
      ],
      "source": [
        "train_dsd"
      ]
    },
    {
      "cell_type": "markdown",
      "id": "bf61e97c",
      "metadata": {
        "id": "bf61e97c"
      },
      "source": [
        "1. Yet the 'test' set inside `train_dsd` is meant for validation, the following code will rename the test set to validation and add a new DataSet object for the test set."
      ]
    },
    {
      "cell_type": "code",
      "execution_count": 33,
      "id": "Zwq78iZiIUxE",
      "metadata": {
        "id": "Zwq78iZiIUxE"
      },
      "outputs": [],
      "source": [
        "train_dsd['validation'] = train_dsd['test']\n",
        "train_dsd['test'] = test_ds"
      ]
    },
    {
      "cell_type": "code",
      "execution_count": 34,
      "id": "AkW4gXlqIhdq",
      "metadata": {
        "colab": {
          "base_uri": "https://localhost:8080/"
        },
        "id": "AkW4gXlqIhdq",
        "outputId": "4e9b1641-4179-4366-f15d-83883c557001"
      },
      "outputs": [
        {
          "data": {
            "text/plain": [
              "DatasetDict({\n",
              "    train: Dataset({\n",
              "        features: ['text', 'label'],\n",
              "        num_rows: 10182\n",
              "    })\n",
              "    test: Dataset({\n",
              "        features: ['text', 'label'],\n",
              "        num_rows: 7532\n",
              "    })\n",
              "    validation: Dataset({\n",
              "        features: ['text', 'label'],\n",
              "        num_rows: 1132\n",
              "    })\n",
              "})"
            ]
          },
          "execution_count": 34,
          "metadata": {},
          "output_type": "execute_result"
        }
      ],
      "source": [
        "train_dsd"
      ]
    },
    {
      "cell_type": "markdown",
      "id": "8ab80c71",
      "metadata": {
        "id": "8ab80c71"
      },
      "source": [
        "1. Load the DistilBERT tokenizer to process the text. \n",
        "    \n",
        "    Use [`AutoTokenizer`](https://huggingface.co/docs/transformers/v4.20.1/en/model_doc/auto#transformers.AutoTokenizer) to load the tokenizer for the given `model_checkpoint`. "
      ]
    },
    {
      "cell_type": "code",
      "execution_count": 35,
      "id": "Xhq4BycpLjwj",
      "metadata": {
        "id": "Xhq4BycpLjwj"
      },
      "outputs": [],
      "source": [
        "from transformers import AutoTokenizer\n",
        "model_checkpoint = \"distilbert-base-uncased\"\n",
        "tokenizer = AutoTokenizer.from_pretrained(model_checkpoint) # YOUR CODE HERE"
      ]
    },
    {
      "cell_type": "markdown",
      "id": "d0a26945",
      "metadata": {
        "id": "d0a26945"
      },
      "source": [
        "1. Create a preprocessing function to tokenize text, truncate and pad sequences to be no longer than DistilBERT’s maximum input length:"
      ]
    },
    {
      "cell_type": "code",
      "execution_count": 36,
      "id": "6hnc5JOejihx",
      "metadata": {
        "id": "6hnc5JOejihx"
      },
      "outputs": [],
      "source": [
        "def preprocess_function(examples):\n",
        "    return tokenizer(examples['text'], truncation=True, padding=True, max_length=MAX_LEN)"
      ]
    },
    {
      "cell_type": "markdown",
      "id": "f8cc46b6",
      "metadata": {
        "id": "f8cc46b6"
      },
      "source": [
        "1. Use 🤗 Datasets [map](https://huggingface.co/docs/datasets/package_reference/main_classes#datasets.Dataset.map) function to apply the preprocessing function over the entire dataset. You can speed up the map function by setting `batched=True` to process multiple elements of the dataset at once:"
      ]
    },
    {
      "cell_type": "code",
      "execution_count": 37,
      "id": "6KWmC63UImNZ",
      "metadata": {
        "colab": {
          "base_uri": "https://localhost:8080/",
          "height": 113,
          "referenced_widgets": [
            "0ef2268796cb443ab5aa14f8d8dc36b7",
            "a816140ef1f141a7a70f4b979cad9353",
            "586b7c40d0824dd59decbfef6ec09f84",
            "732d48a7c6394da6a24e76671a3f1eca",
            "eec528a42e3543609a2d73bdb1171ff5",
            "cefb14d67b0e43a2ad1bd262aaaf6c8e",
            "72afd588903647ff9ad926e5f91dafb9",
            "75abd76f0dc347158fa06287c3374f17",
            "ce2bc08fec7c454c902acd82c7ac9399",
            "cadc2cdf7054483381d563b80cf3e1ac",
            "7827c95df8e04a92a9bc6f887df5d037",
            "27ad74f0a8674c96bd3068c880fb43d5",
            "3cd8b5685e6e4aa68b521c225613c85a",
            "6df166b30de746a3b5f0644262c8dc86",
            "004e39e077b44057b34cec6a7e693b9c",
            "d4a46687e71a497bbe363242b82132f3",
            "399bef1e016b4887976fd1e3b03278d4",
            "ceec4b7f80be489e90d67e39786605c5",
            "fea87187ec9b478889f940897e51f41f",
            "41bd23ed82b34ea8a5f59069285be5f5",
            "74da21dac8ca495baf6b110b2d8fbf40",
            "27620b19418a4e63b043191fe9279600",
            "35296e54297242efb672394dbfafc7d4",
            "de102c7c2762467a946167ab046cde5d",
            "fb7bb4ffb3d54d96be05bf2280bbd899",
            "164762d0ce924ade9aa8ee3985356ce3",
            "8bc5fa252e894025b72c2a6851173847",
            "a5dceacbcca243809520910e9c18d9c3",
            "db65a5e36dc04958adfedb5b201c50a2",
            "bed66f83b3cf4b07ac240ca181d8e450",
            "b00661f016fe4f7d82cbca9989b53e0a",
            "656869f332ff4879a814643d02de640b",
            "bee420573109476bbabbcb827b48b0e0"
          ]
        },
        "id": "6KWmC63UImNZ",
        "outputId": "57aa4cb7-aae1-4917-9461-5b101c0c6ddf"
      },
      "outputs": [
        {
          "data": {
            "application/vnd.jupyter.widget-view+json": {
              "model_id": "0ef2268796cb443ab5aa14f8d8dc36b7",
              "version_major": 2,
              "version_minor": 0
            },
            "text/plain": [
              "  0%|          | 0/11 [00:00<?, ?ba/s]"
            ]
          },
          "metadata": {},
          "output_type": "display_data"
        },
        {
          "data": {
            "application/vnd.jupyter.widget-view+json": {
              "model_id": "27ad74f0a8674c96bd3068c880fb43d5",
              "version_major": 2,
              "version_minor": 0
            },
            "text/plain": [
              "  0%|          | 0/8 [00:00<?, ?ba/s]"
            ]
          },
          "metadata": {},
          "output_type": "display_data"
        },
        {
          "data": {
            "application/vnd.jupyter.widget-view+json": {
              "model_id": "35296e54297242efb672394dbfafc7d4",
              "version_major": 2,
              "version_minor": 0
            },
            "text/plain": [
              "  0%|          | 0/2 [00:00<?, ?ba/s]"
            ]
          },
          "metadata": {},
          "output_type": "display_data"
        }
      ],
      "source": [
        "tokenized_text = train_dsd.map(preprocess_function, batched =True) # YOUR CODE HERE"
      ]
    },
    {
      "cell_type": "code",
      "execution_count": 38,
      "id": "3WvXKDqENoqa",
      "metadata": {
        "colab": {
          "base_uri": "https://localhost:8080/"
        },
        "id": "3WvXKDqENoqa",
        "outputId": "f38cb21d-269b-44c3-f8e1-09dce0cdc2c1"
      },
      "outputs": [
        {
          "data": {
            "text/plain": [
              "DatasetDict({\n",
              "    train: Dataset({\n",
              "        features: ['text', 'label', 'input_ids', 'attention_mask'],\n",
              "        num_rows: 10182\n",
              "    })\n",
              "    test: Dataset({\n",
              "        features: ['text', 'label', 'input_ids', 'attention_mask'],\n",
              "        num_rows: 7532\n",
              "    })\n",
              "    validation: Dataset({\n",
              "        features: ['text', 'label', 'input_ids', 'attention_mask'],\n",
              "        num_rows: 1132\n",
              "    })\n",
              "})"
            ]
          },
          "execution_count": 38,
          "metadata": {},
          "output_type": "execute_result"
        }
      ],
      "source": [
        "tokenized_text"
      ]
    },
    {
      "cell_type": "markdown",
      "id": "78e1e59d",
      "metadata": {
        "id": "78e1e59d"
      },
      "source": [
        "1. Use [DataCollatorWithPadding](https://huggingface.co/docs/transformers/v4.20.1/en/main_classes/data_collator#transformers.DataCollatorWithPadding) to create a batch of examples. Set the type of Tensor to return as 'tf' as we will fine-tune the model in TensorFlow."
      ]
    },
    {
      "cell_type": "code",
      "execution_count": 43,
      "id": "D8xk28M1O4GO",
      "metadata": {
        "id": "D8xk28M1O4GO"
      },
      "outputs": [],
      "source": [
        "from transformers import DataCollatorWithPadding\n",
        "data_collator = DataCollatorWithPadding(tokenizer,return_tensors = 'tf') # YOUR CODE HERE\n"
      ]
    },
    {
      "cell_type": "code",
      "execution_count": 44,
      "id": "TKuzLnP6JjFd",
      "metadata": {
        "colab": {
          "base_uri": "https://localhost:8080/"
        },
        "id": "TKuzLnP6JjFd",
        "outputId": "eb150ea4-c378-40d1-dcda-67c57110bd33"
      },
      "outputs": [
        {
          "data": {
            "text/plain": [
              "{'text': Value(dtype='string', id=None),\n",
              " 'label': ClassLabel(names=['0', '1', '10', '11', '12', '13', '14', '15', '16', '17', '18', '19', '2', '3', '4', '5', '6', '7', '8', '9'], id=None),\n",
              " 'input_ids': Sequence(feature=Value(dtype='int32', id=None), length=-1, id=None),\n",
              " 'attention_mask': Sequence(feature=Value(dtype='int8', id=None), length=-1, id=None)}"
            ]
          },
          "execution_count": 44,
          "metadata": {},
          "output_type": "execute_result"
        }
      ],
      "source": [
        "tokenized_text[\"train\"].features"
      ]
    },
    {
      "cell_type": "code",
      "execution_count": 45,
      "id": "KYe-c13KKf37",
      "metadata": {
        "colab": {
          "base_uri": "https://localhost:8080/"
        },
        "id": "KYe-c13KKf37",
        "outputId": "257ce0bc-e380-49a1-9f2c-5c3bae8dda98"
      },
      "outputs": [
        {
          "data": {
            "text/plain": [
              "DataCollatorWithPadding(tokenizer=PreTrainedTokenizerFast(name_or_path='distilbert-base-uncased', vocab_size=30522, model_max_len=512, is_fast=True, padding_side='right', truncation_side='right', special_tokens={'unk_token': '[UNK]', 'sep_token': '[SEP]', 'pad_token': '[PAD]', 'cls_token': '[CLS]', 'mask_token': '[MASK]'}), padding=True, max_length=None, pad_to_multiple_of=None, return_tensors='tf')"
            ]
          },
          "execution_count": 45,
          "metadata": {},
          "output_type": "execute_result"
        }
      ],
      "source": [
        "data_collator"
      ]
    },
    {
      "cell_type": "markdown",
      "id": "bc0fe020",
      "metadata": {
        "id": "bc0fe020"
      },
      "source": [
        "1. To fine-tune a model in TensorFlow, start by converting datasets to the `tf.data.Dataset` format with `to_tf_dataset`. \n",
        "\n",
        "    Specify inputs and labels in columns, whether to shuffle the dataset order, batch size, and the data collator:"
      ]
    },
    {
      "cell_type": "code",
      "execution_count": 46,
      "id": "25fh9ZxkIsI4",
      "metadata": {
        "colab": {
          "base_uri": "https://localhost:8080/"
        },
        "id": "25fh9ZxkIsI4",
        "outputId": "833b4cda-2732-42a8-b0d9-246255a6413e"
      },
      "outputs": [
        {
          "name": "stderr",
          "output_type": "stream",
          "text": [
            "You're using a DistilBertTokenizerFast tokenizer. Please note that with a fast tokenizer, using the `__call__` method is faster than using a method to encode the text followed by a call to the `pad` method to get a padded encoding.\n"
          ]
        }
      ],
      "source": [
        "BATCH_SIZE = 16\n",
        "\n",
        "tf_train_set = tokenized_text[\"train\"].to_tf_dataset(\n",
        "    columns= [ 'input_ids', 'attention_mask'],  # YOUR CODE HERE\n",
        "    label_cols=[\"label\"],\n",
        "    shuffle= True,  # YOUR CODE HERE\n",
        "    batch_size=BATCH_SIZE,\n",
        "    collate_fn=data_collator,\n",
        ")\n",
        "tf_validation_set = tokenized_text[\"validation\"].to_tf_dataset(\n",
        "    columns= [  'input_ids', 'attention_mask'],    # YOUR CODE HERE\n",
        "    label_cols=[\"label\"],\n",
        "    shuffle= False,    # YOUR CODE HERE\n",
        "    batch_size=BATCH_SIZE,\n",
        "    collate_fn=data_collator,\n",
        "    )\n",
        "tf_test_set = tokenized_text[\"test\"].to_tf_dataset(\n",
        "    columns= ['input_ids', 'attention_mask'],   # YOUR CODE HERE\n",
        "    label_cols=[\"label\"],\n",
        "    shuffle= False,   # YOUR CODE HERE\n",
        "    batch_size=BATCH_SIZE,\n",
        "    collate_fn=data_collator,\n",
        "    )"
      ]
    },
    {
      "cell_type": "markdown",
      "id": "e475a9f9",
      "metadata": {
        "id": "e475a9f9"
      },
      "source": [
        "1. Set up an optimizer function, learning rate schedule, and some training hyperparameters:"
      ]
    },
    {
      "cell_type": "code",
      "execution_count": 47,
      "id": "6ZJblOkpW27x",
      "metadata": {
        "id": "6ZJblOkpW27x"
      },
      "outputs": [],
      "source": [
        "from transformers import create_optimizer\n",
        "\n",
        "EPOCHS = 5\n",
        "batches_per_epoch = len(tokenized_text[\"train\"]) // BATCH_SIZE\n",
        "total_train_steps = int(batches_per_epoch * EPOCHS)\n",
        "optimizer, schedule = create_optimizer(init_lr=2e-5, num_warmup_steps=0, num_train_steps=total_train_steps)"
      ]
    },
    {
      "cell_type": "markdown",
      "id": "f2997fc2",
      "metadata": {
        "id": "f2997fc2"
      },
      "source": [
        "1. Load DistilBERT with  [TFAutoModelForSequenceClassification](https://huggingface.co/docs/transformers/v4.20.1/en/model_doc/auto#transformers.TFAutoModelForSequenceClassification) along with the number of expected labels:"
      ]
    },
    {
      "cell_type": "code",
      "execution_count": 51,
      "id": "vCnl8FHEYanJ",
      "metadata": {
        "colab": {
          "base_uri": "https://localhost:8080/",
          "height": 156,
          "referenced_widgets": [
            "b67a6145985f45d7ab309bd482146f91",
            "d29c144246064474838338ad36b77dfc",
            "62d521d150d640a3961f8070fff92cc6",
            "545a7f029dc5434fbfdbdd39e9d16eb7",
            "b6cb364e82414559a248454e76a469aa",
            "f1d3e625e48e4863b185d24902699d4e",
            "61a5767afdbb4b2fb0da25ae784c5310",
            "7743501703c34eb7a3002255e8b5a269",
            "fa8039637b7640569de9e65289149390",
            "3a48bff37395432ba9bb0ef420ce9f3e",
            "431158a65cfb4d98858b0d7eb43d9ca9"
          ]
        },
        "id": "vCnl8FHEYanJ",
        "outputId": "43d3d0c6-6345-4992-9bb2-6e4bab96b222"
      },
      "outputs": [
        {
          "data": {
            "application/vnd.jupyter.widget-view+json": {
              "model_id": "b67a6145985f45d7ab309bd482146f91",
              "version_major": 2,
              "version_minor": 0
            },
            "text/plain": [
              "Downloading:   0%|          | 0.00/363M [00:00<?, ?B/s]"
            ]
          },
          "metadata": {},
          "output_type": "display_data"
        },
        {
          "name": "stderr",
          "output_type": "stream",
          "text": [
            "Some layers from the model checkpoint at distilbert-base-uncased were not used when initializing TFDistilBertForSequenceClassification: ['vocab_projector', 'vocab_transform', 'vocab_layer_norm', 'activation_13']\n",
            "- This IS expected if you are initializing TFDistilBertForSequenceClassification from the checkpoint of a model trained on another task or with another architecture (e.g. initializing a BertForSequenceClassification model from a BertForPreTraining model).\n",
            "- This IS NOT expected if you are initializing TFDistilBertForSequenceClassification from the checkpoint of a model that you expect to be exactly identical (initializing a BertForSequenceClassification model from a BertForSequenceClassification model).\n",
            "Some layers of TFDistilBertForSequenceClassification were not initialized from the model checkpoint at distilbert-base-uncased and are newly initialized: ['dropout_20', 'pre_classifier', 'classifier']\n",
            "You should probably TRAIN this model on a down-stream task to be able to use it for predictions and inference.\n"
          ]
        }
      ],
      "source": [
        "from transformers import TFAutoModelForSequenceClassification\n",
        "\n",
        "my_bert = TFAutoModelForSequenceClassification.from_pretrained(model_checkpoint, num_labels=NUM_LABELS)"
      ]
    },
    {
      "cell_type": "markdown",
      "id": "97cb0e7b",
      "metadata": {
        "id": "97cb0e7b"
      },
      "source": [
        "1. Don't forget to configure the model for training with [`compile`](https://keras.io/api/models/model_training_apis/#compile-method):"
      ]
    },
    {
      "cell_type": "code",
      "execution_count": 52,
      "id": "s7HGL_nCYfba",
      "metadata": {
        "colab": {
          "base_uri": "https://localhost:8080/"
        },
        "id": "s7HGL_nCYfba",
        "outputId": "884e7c54-cdfe-4712-eb5b-d3db59e87af7"
      },
      "outputs": [
        {
          "name": "stderr",
          "output_type": "stream",
          "text": [
            "No loss specified in compile() - the model's internal loss computation will be used as the loss. Don't panic - this is a common way to train TensorFlow models in Transformers! To disable this behaviour please pass a loss argument, or explicitly pass `loss=None` if you do not want your model to compute a loss.\n"
          ]
        }
      ],
      "source": [
        "my_bert.compile(optimizer=optimizer,  metrics=['accuracy'])"
      ]
    },
    {
      "cell_type": "markdown",
      "id": "QifyGkqhofwB",
      "metadata": {
        "id": "QifyGkqhofwB"
      },
      "source": [
        "1. Finally, let the fine-tuning start!\n",
        "\n",
        "    You may run into CoLab's usage limit, feel free to lower the parameter `epochs` to 3; even so, it could take ~10 minutes. "
      ]
    },
    {
      "cell_type": "code",
      "execution_count": 53,
      "id": "cJjfKl0TY0A0",
      "metadata": {
        "colab": {
          "base_uri": "https://localhost:8080/"
        },
        "id": "cJjfKl0TY0A0",
        "outputId": "3de48232-6f01-45f2-f848-aa7f01dc2887"
      },
      "outputs": [
        {
          "name": "stdout",
          "output_type": "stream",
          "text": [
            "Epoch 1/3\n",
            "637/637 [==============================] - 295s 446ms/step - loss: 1.3039 - accuracy: 0.6852 - val_loss: 0.5773 - val_accuracy: 0.8445\n",
            "Epoch 2/3\n",
            "637/637 [==============================] - 285s 447ms/step - loss: 0.4157 - accuracy: 0.8886 - val_loss: 0.4093 - val_accuracy: 0.8834\n",
            "Epoch 3/3\n",
            "637/637 [==============================] - 285s 447ms/step - loss: 0.2232 - accuracy: 0.9415 - val_loss: 0.3422 - val_accuracy: 0.9108\n",
            "CPU times: user 10min 26s, sys: 18.5 s, total: 10min 45s\n",
            "Wall time: 15min 39s\n"
          ]
        },
        {
          "data": {
            "text/plain": [
              "<keras.callbacks.History at 0x7fa6777e46d0>"
            ]
          },
          "execution_count": 53,
          "metadata": {},
          "output_type": "execute_result"
        }
      ],
      "source": [
        "%%time\n",
        "# YOUR CODE \n",
        "my_bert.fit(tf_train_set, validation_data=tf_validation_set, epochs=3)"
      ]
    },
    {
      "cell_type": "markdown",
      "id": "vPEoQlMw5VBq",
      "metadata": {
        "id": "vPEoQlMw5VBq"
      },
      "source": [
        "1. As you are waiting for the fine-tuning to finish, how many parameters does DistilBERT have? How about BERT? What is the world's largest open Multilingual Language Model as of July 2022? (hint: 🌸) \n",
        "\n",
        "    YOUR ANSWER HERE"
      ]
    },
    {
      "cell_type": "markdown",
      "id": "dNCQIb05DgvT",
      "metadata": {
        "id": "dNCQIb05DgvT"
      },
      "source": [
        "The BERT-Base is one-third of the BERT-Large containing 110M parameters, whereas DistilBERT is even 40% smaller than that. The largest language model with its 176 billion parameters is BLOOM - able to generate text in 46 natural languages and 13 programming languages. For almost all of them, such as Spanish, French and Arabic, BLOOM will be the first language model with over 100B parameters ever created. "
      ]
    },
    {
      "cell_type": "markdown",
      "id": "c4b23c02",
      "metadata": {
        "id": "c4b23c02"
      },
      "source": [
        "1. Evaluate the model on the test data. \n",
        "    \n",
        "    Use `evaluate` to evaluate the model on the test data (accuracy shall be around 0.84)."
      ]
    },
    {
      "cell_type": "code",
      "execution_count": 54,
      "id": "vyvGP0mY-4_x",
      "metadata": {
        "colab": {
          "base_uri": "https://localhost:8080/"
        },
        "id": "vyvGP0mY-4_x",
        "outputId": "72eec1c5-7170-4027-ca60-5c8a53d45ac5"
      },
      "outputs": [
        {
          "name": "stdout",
          "output_type": "stream",
          "text": [
            "471/471 [==============================] - 69s 146ms/step - loss: 0.5639 - accuracy: 0.8444\n"
          ]
        }
      ],
      "source": [
        "bert_loss, bert_acc = my_bert.evaluate(tf_test_set) # YOUR CODE HERE"
      ]
    },
    {
      "cell_type": "code",
      "execution_count": 55,
      "id": "BSXKPihlvQbz",
      "metadata": {
        "colab": {
          "base_uri": "https://localhost:8080/"
        },
        "id": "BSXKPihlvQbz",
        "outputId": "a66c855c-82bd-487a-efad-629dc37b1144"
      },
      "outputs": [
        {
          "data": {
            "text/plain": [
              "0.5639010667800903"
            ]
          },
          "execution_count": 55,
          "metadata": {},
          "output_type": "execute_result"
        }
      ],
      "source": [
        "bert_loss"
      ]
    },
    {
      "cell_type": "code",
      "execution_count": 56,
      "id": "UzjqjbH7vS23",
      "metadata": {
        "colab": {
          "base_uri": "https://localhost:8080/"
        },
        "id": "UzjqjbH7vS23",
        "outputId": "c4a0be8b-bb7a-4616-e8b3-143ae8d7b7d7"
      },
      "outputs": [
        {
          "data": {
            "text/plain": [
              "0.844397246837616"
            ]
          },
          "execution_count": 56,
          "metadata": {},
          "output_type": "execute_result"
        }
      ],
      "source": [
        "bert_acc"
      ]
    },
    {
      "cell_type": "markdown",
      "id": "ba3081e8",
      "metadata": {
        "id": "ba3081e8"
      },
      "source": [
        "1. Optional. If you are happy with the result, you can save the model to a file. \n",
        "    \n",
        "    One easy way to do it is to use [`save_pretrained()`](https://huggingface.co/docs/transformers/main_classes/model#transformers.PreTrainedModel.save_pretrained) to save the model to a file. Check [Export 🤗 Transformers Models](https://huggingface.co/docs/transformers/serialization) for deployment options."
      ]
    },
    {
      "cell_type": "code",
      "execution_count": 57,
      "id": "eRVcvYEcu7ZF",
      "metadata": {
        "id": "eRVcvYEcu7ZF"
      },
      "outputs": [],
      "source": [
        "tokenizer.save_pretrained(\"local-tf-checkpoint\")\n",
        "my_bert.save_pretrained(\"local-tf-checkpoint\")"
      ]
    },
    {
      "cell_type": "markdown",
      "id": "fCCd1CDOMWWU",
      "metadata": {
        "id": "fCCd1CDOMWWU"
      },
      "source": [
        "### **Essay Questions**"
      ]
    },
    {
      "cell_type": "markdown",
      "id": "c07wT1bsMcAu",
      "metadata": {
        "id": "c07wT1bsMcAu"
      },
      "source": [
        "1. In the transformer architecture in the paper \"Attention Is All You Need\", how does Multi-head Attention work?\n",
        "\n",
        "Transformers are powerful owing to their attention mechanism and the driving force for transformers are multi-head attention that is based on self- attention. Attention is where more weightage is given to certain key words rather than all words in an input sequence. In self attention, weightage is given to the context in which the word appears, while allowing for these words to interact with each other. \n",
        "![image.png](data:image/png;base64,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)\n",
        "\n",
        "In multi-head attention, the input & positional embedding is fed three times to 3 different linear layers- each representing 'query', 'key' & 'value' layers. Each of these 3 layers have their own distinct weights- this is where self-attention comes into play. The dot product of these matrices result in query, key & value matrices. A matrix multiplication of the Query & key matrix yields the attention filter on while the scaling (divide values by square root of key vector) and softmax tranformation (squash values between 0 and 1) is applied. Mulitplying this attention filter with the third value matrix yields a reduced dimension matrice with most important information/ eliminated noise. Tranformers don't learn just 1 attention filter but multiple, each learning different linguistic phenomena (in 'attention is all you need' the authors use a total of 8 attention heads but that can be computaionally expensive."
      ]
    },
    {
      "cell_type": "markdown",
      "id": "nnVn0eJPMlQm",
      "metadata": {
        "id": "nnVn0eJPMlQm"
      },
      "source": [
        "2. What is the main idea behind Positional Encoding?\n",
        "\n",
        "Positional encoding describes the location or position of an entity in a sequence so that each position is assigned a unique representation. While LSTM's were recurrent and the order of input indicated its position, transformers are much faster as they process inputs parrallely, which means they lose the positional information of the text. A simple index of position doesnt cut it as a word in 50'th position would ufairly enlarge the output vector owing to multiplication and the dot product of inverse position (so the max is always 1) doesnt cut it as well as sentences are always varying in length and position of 2 is not consistent with this method across sentences. The authors of this paper came up with a clever way of using both sine and cosine wave frequencies to denote positional embeddings as words far apart do fall on different frequencies."
      ]
    },
    {
      "cell_type": "markdown",
      "id": "fqDmbGCmMov3",
      "metadata": {
        "id": "fqDmbGCmMov3"
      },
      "source": [
        "3. What is EarlyStopping and why do we use it?\n",
        "\n",
        "Early stopping is a form of regularization used to avoid overfitting. Too many epochs can lead to overfitting of the training dataset, whereas too few may result in an underfit model. Early stopping allows us to specify an arbitrary number of training epochs and stop training once the model performance stops improving on a hold out validation dataset. Use Callbacks in Keras to enforce this functionality."
      ]
    },
    {
      "cell_type": "markdown",
      "id": "fZz3UuAn8M8C",
      "metadata": {
        "id": "fZz3UuAn8M8C"
      },
      "source": [
        "4. How would explain what a transformer model is to business stakeholders (at a high level)?\n",
        "\n",
        "The transformer consists of the encoder-decoder architecture but what sets the transformers apart is its attention-mechanism - look at an input sequence and decide at each step which other parts of the sequence are important, i.e., besides conveying the translation, keywords that are important to the semantics of the sentenceare provided to the decoder for more context. In short, the attention-mechanism takes into account several other inputs at the same time and decides which ones are important by attributing different weights to those inputs. The Decoder will then take as input the encoded sentence and the weights provided by the attention-mechanism.\n",
        "\n",
        "With Recurrent Neural Networks (RNN’s) we used to treat sequences sequentially to keep the order of the sentence in place. The computations were performed sequentially and hence slower. With transformers, the data is not sequential anymore, the inputs are now both input and position embeddings together fed three times spearately to linear matrices to obtain 'query', 'key' and 'value' matrices. The dot product, scaling and softmax transformed output yields a reduced dimension output that has only the pertinent information ready to pass to decoder. The process described above happens in the  mulit-head attention layer. The decoder takes both the output from encoder and output text as its input and we first have the masked multi head attention- as here in decoding stage, we predict one word (token) after another and so the self-attention layer needs to be modified in order to consider only the output sentence that has been generated so far (hence the mask). This mask will change for every new token we compute.\n",
        "\n",
        "Encoder-Decoder attention: The attention matrix generated by the encoder is passed to another attention layer alongside the result of the previous Masked Multi-head attention block in this stage. The intuition behind the encoder-decoder attention layer is to combine the input and output sentence. The encoder’s output encapsulates the final embedding of the input sentence and is similar to a database. So we will use the encoder output to produce the Key and Value matrices. On the other hand, the output of the Masked Multi-head attention block contains the so far generated new sentence and is represented as the Query matrix in the attention layer (akin to 'search' query in a database)."
      ]
    },
    {
      "cell_type": "markdown",
      "id": "uD3fV0qVn8qv",
      "metadata": {
        "id": "uD3fV0qVn8qv"
      },
      "source": [
        "# Acknowledgement & Reference"
      ]
    },
    {
      "cell_type": "markdown",
      "id": "TqTjj4qRoApb",
      "metadata": {
        "id": "TqTjj4qRoApb"
      },
      "source": [
        "- Part of the notebook is adapted from [Text Classification - Attention](https://www.kaggle.com/code/ritvik1909/text-classification-attention)\n",
        "- Part of the notebook is adapted from [Fine-tune a pretrained model with Hugging Face](https://huggingface.co/docs/transformers/training)\n",
        "- We used accuracy for metric, check out [Comprehensive Guide to Multiclass Classification Metrics](https://towardsdatascience.com/comprehensive-guide-on-multiclass-classification-metrics-af94cfb83fbd).\n",
        "- [BERT Explained: State of the art language model for NLP](https://towardsdatascience.com/bert-explained-state-of-the-art-language-model-for-nlp-f8b21a9b6270)\n",
        "- [Hugging Face: State-of-the-Art Natural Language Processing in ten lines of TensorFlow 2.0](https://medium.com/tensorflow/using-tensorflow-2-for-state-of-the-art-natural-language-processing-102445cda54a)\n",
        "- More readings on Transformers, check the Course Materials section on [CS25: Transformers United](https://web.stanford.edu/class/cs25/)\n"
      ]
    }
  ],
  "metadata": {
    "colab": {
      "collapsed_sections": [],
      "provenance": [],
      "toc_visible": true
    },
    "gpuClass": "standard",
    "kernelspec": {
      "display_name": "Python 3.9.2 ('weeklyopsthreshold')",
      "language": "python",
      "name": "python3"
    },
    "language_info": {
      "codemirror_mode": {
        "name": "ipython",
        "version": 3
      },
      "file_extension": ".py",
      "mimetype": "text/x-python",
      "name": "python",
      "nbconvert_exporter": "python",
      "pygments_lexer": "ipython3",
      "version": "3.9.2"
    },
    "papermill": {
      "default_parameters": {},
      "duration": 126.733939,
      "end_time": "2022-03-31T16:26:20.094746",
      "environment_variables": {},
      "exception": null,
      "input_path": "__notebook__.ipynb",
      "output_path": "__notebook__.ipynb",
      "parameters": {},
      "start_time": "2022-03-31T16:24:13.360807",
      "version": "2.3.3"
    },
    "toc": {
      "base_numbering": 1,
      "nav_menu": {},
      "number_sections": true,
      "sideBar": true,
      "skip_h1_title": false,
      "title_cell": "Table of Contents",
      "title_sidebar": "Contents",
      "toc_cell": false,
      "toc_position": {},
      "toc_section_display": true,
      "toc_window_display": false
    },
    "vscode": {
      "interpreter": {
        "hash": "792c25548fdf3b7627ca603e45d5c1588106938d1162623ee094890857a03a2e"
      }
    },
    "widgets": {
      "application/vnd.jupyter.widget-state+json": {
        "004e39e077b44057b34cec6a7e693b9c": {
          "model_module": "@jupyter-widgets/controls",
          "model_module_version": "1.5.0",
          "model_name": "HTMLModel",
          "state": {
            "_dom_classes": [],
            "_model_module": "@jupyter-widgets/controls",
            "_model_module_version": "1.5.0",
            "_model_name": "HTMLModel",
            "_view_count": null,
            "_view_module": "@jupyter-widgets/controls",
            "_view_module_version": "1.5.0",
            "_view_name": "HTMLView",
            "description": "",
            "description_tooltip": null,
            "layout": "IPY_MODEL_74da21dac8ca495baf6b110b2d8fbf40",
            "placeholder": "​",
            "style": "IPY_MODEL_27620b19418a4e63b043191fe9279600",
            "value": " 7/8 [00:11&lt;00:01,  1.49s/ba]"
          }
        },
        "0ef2268796cb443ab5aa14f8d8dc36b7": {
          "model_module": "@jupyter-widgets/controls",
          "model_module_version": "1.5.0",
          "model_name": "HBoxModel",
          "state": {
            "_dom_classes": [],
            "_model_module": "@jupyter-widgets/controls",
            "_model_module_version": "1.5.0",
            "_model_name": "HBoxModel",
            "_view_count": null,
            "_view_module": "@jupyter-widgets/controls",
            "_view_module_version": "1.5.0",
            "_view_name": "HBoxView",
            "box_style": "",
            "children": [
              "IPY_MODEL_a816140ef1f141a7a70f4b979cad9353",
              "IPY_MODEL_586b7c40d0824dd59decbfef6ec09f84",
              "IPY_MODEL_732d48a7c6394da6a24e76671a3f1eca"
            ],
            "layout": "IPY_MODEL_eec528a42e3543609a2d73bdb1171ff5"
          }
        },
        "152fdbd1f56049c6abefbd21495e1971": {
          "model_module": "@jupyter-widgets/controls",
          "model_module_version": "1.5.0",
          "model_name": "FloatProgressModel",
          "state": {
            "_dom_classes": [],
            "_model_module": "@jupyter-widgets/controls",
            "_model_module_version": "1.5.0",
            "_model_name": "FloatProgressModel",
            "_view_count": null,
            "_view_module": "@jupyter-widgets/controls",
            "_view_module_version": "1.5.0",
            "_view_name": "ProgressView",
            "bar_style": "danger",
            "description": "",
            "description_tooltip": null,
            "layout": "IPY_MODEL_d0514d110f644f18b219d7025fe8a4e2",
            "max": 2,
            "min": 0,
            "orientation": "horizontal",
            "style": "IPY_MODEL_d49b8bafd2ad4660853ee023c78f5236",
            "value": 1
          }
        },
        "164762d0ce924ade9aa8ee3985356ce3": {
          "model_module": "@jupyter-widgets/controls",
          "model_module_version": "1.5.0",
          "model_name": "HTMLModel",
          "state": {
            "_dom_classes": [],
            "_model_module": "@jupyter-widgets/controls",
            "_model_module_version": "1.5.0",
            "_model_name": "HTMLModel",
            "_view_count": null,
            "_view_module": "@jupyter-widgets/controls",
            "_view_module_version": "1.5.0",
            "_view_name": "HTMLView",
            "description": "",
            "description_tooltip": null,
            "layout": "IPY_MODEL_656869f332ff4879a814643d02de640b",
            "placeholder": "​",
            "style": "IPY_MODEL_bee420573109476bbabbcb827b48b0e0",
            "value": " 1/2 [00:02&lt;00:01,  1.97s/ba]"
          }
        },
        "1e0b173772a641ccad09daae9d75276e": {
          "model_module": "@jupyter-widgets/controls",
          "model_module_version": "1.5.0",
          "model_name": "DescriptionStyleModel",
          "state": {
            "_model_module": "@jupyter-widgets/controls",
            "_model_module_version": "1.5.0",
            "_model_name": "DescriptionStyleModel",
            "_view_count": null,
            "_view_module": "@jupyter-widgets/base",
            "_view_module_version": "1.2.0",
            "_view_name": "StyleView",
            "description_width": ""
          }
        },
        "1ffedb69cb5c48d98c315cd3cc052d5b": {
          "model_module": "@jupyter-widgets/controls",
          "model_module_version": "1.5.0",
          "model_name": "HTMLModel",
          "state": {
            "_dom_classes": [],
            "_model_module": "@jupyter-widgets/controls",
            "_model_module_version": "1.5.0",
            "_model_name": "HTMLModel",
            "_view_count": null,
            "_view_module": "@jupyter-widgets/controls",
            "_view_module_version": "1.5.0",
            "_view_name": "HTMLView",
            "description": "",
            "description_tooltip": null,
            "layout": "IPY_MODEL_54c4f8f9054b4b1297bc925927530a12",
            "placeholder": "​",
            "style": "IPY_MODEL_969656a91cab446cb3289475498854e6",
            "value": " 11/12 [00:00&lt;00:00, 84.77ba/s]"
          }
        },
        "25d88605786a49b2aa8ac2ff897f70ed": {
          "model_module": "@jupyter-widgets/controls",
          "model_module_version": "1.5.0",
          "model_name": "ProgressStyleModel",
          "state": {
            "_model_module": "@jupyter-widgets/controls",
            "_model_module_version": "1.5.0",
            "_model_name": "ProgressStyleModel",
            "_view_count": null,
            "_view_module": "@jupyter-widgets/base",
            "_view_module_version": "1.2.0",
            "_view_name": "StyleView",
            "bar_color": null,
            "description_width": ""
          }
        },
        "26679d6930664b328532572830939822": {
          "model_module": "@jupyter-widgets/base",
          "model_module_version": "1.2.0",
          "model_name": "LayoutModel",
          "state": {
            "_model_module": "@jupyter-widgets/base",
            "_model_module_version": "1.2.0",
            "_model_name": "LayoutModel",
            "_view_count": null,
            "_view_module": "@jupyter-widgets/base",
            "_view_module_version": "1.2.0",
            "_view_name": "LayoutView",
            "align_content": null,
            "align_items": null,
            "align_self": null,
            "border": null,
            "bottom": null,
            "display": null,
            "flex": null,
            "flex_flow": null,
            "grid_area": null,
            "grid_auto_columns": null,
            "grid_auto_flow": null,
            "grid_auto_rows": null,
            "grid_column": null,
            "grid_gap": null,
            "grid_row": null,
            "grid_template_areas": null,
            "grid_template_columns": null,
            "grid_template_rows": null,
            "height": null,
            "justify_content": null,
            "justify_items": null,
            "left": null,
            "margin": null,
            "max_height": null,
            "max_width": null,
            "min_height": null,
            "min_width": null,
            "object_fit": null,
            "object_position": null,
            "order": null,
            "overflow": null,
            "overflow_x": null,
            "overflow_y": null,
            "padding": null,
            "right": null,
            "top": null,
            "visibility": null,
            "width": null
          }
        },
        "267dad16309d4b05b155847cec8ce38d": {
          "model_module": "@jupyter-widgets/controls",
          "model_module_version": "1.5.0",
          "model_name": "DescriptionStyleModel",
          "state": {
            "_model_module": "@jupyter-widgets/controls",
            "_model_module_version": "1.5.0",
            "_model_name": "DescriptionStyleModel",
            "_view_count": null,
            "_view_module": "@jupyter-widgets/base",
            "_view_module_version": "1.2.0",
            "_view_name": "StyleView",
            "description_width": ""
          }
        },
        "27620b19418a4e63b043191fe9279600": {
          "model_module": "@jupyter-widgets/controls",
          "model_module_version": "1.5.0",
          "model_name": "DescriptionStyleModel",
          "state": {
            "_model_module": "@jupyter-widgets/controls",
            "_model_module_version": "1.5.0",
            "_model_name": "DescriptionStyleModel",
            "_view_count": null,
            "_view_module": "@jupyter-widgets/base",
            "_view_module_version": "1.2.0",
            "_view_name": "StyleView",
            "description_width": ""
          }
        },
        "27ad74f0a8674c96bd3068c880fb43d5": {
          "model_module": "@jupyter-widgets/controls",
          "model_module_version": "1.5.0",
          "model_name": "HBoxModel",
          "state": {
            "_dom_classes": [],
            "_model_module": "@jupyter-widgets/controls",
            "_model_module_version": "1.5.0",
            "_model_name": "HBoxModel",
            "_view_count": null,
            "_view_module": "@jupyter-widgets/controls",
            "_view_module_version": "1.5.0",
            "_view_name": "HBoxView",
            "box_style": "",
            "children": [
              "IPY_MODEL_3cd8b5685e6e4aa68b521c225613c85a",
              "IPY_MODEL_6df166b30de746a3b5f0644262c8dc86",
              "IPY_MODEL_004e39e077b44057b34cec6a7e693b9c"
            ],
            "layout": "IPY_MODEL_d4a46687e71a497bbe363242b82132f3"
          }
        },
        "2804821c21554832a0cae32c1338830f": {
          "model_module": "@jupyter-widgets/base",
          "model_module_version": "1.2.0",
          "model_name": "LayoutModel",
          "state": {
            "_model_module": "@jupyter-widgets/base",
            "_model_module_version": "1.2.0",
            "_model_name": "LayoutModel",
            "_view_count": null,
            "_view_module": "@jupyter-widgets/base",
            "_view_module_version": "1.2.0",
            "_view_name": "LayoutView",
            "align_content": null,
            "align_items": null,
            "align_self": null,
            "border": null,
            "bottom": null,
            "display": null,
            "flex": null,
            "flex_flow": null,
            "grid_area": null,
            "grid_auto_columns": null,
            "grid_auto_flow": null,
            "grid_auto_rows": null,
            "grid_column": null,
            "grid_gap": null,
            "grid_row": null,
            "grid_template_areas": null,
            "grid_template_columns": null,
            "grid_template_rows": null,
            "height": null,
            "justify_content": null,
            "justify_items": null,
            "left": null,
            "margin": null,
            "max_height": null,
            "max_width": null,
            "min_height": null,
            "min_width": null,
            "object_fit": null,
            "object_position": null,
            "order": null,
            "overflow": null,
            "overflow_x": null,
            "overflow_y": null,
            "padding": null,
            "right": null,
            "top": null,
            "visibility": null,
            "width": null
          }
        },
        "2fd7303a8abe447dac7c37bf1fa96024": {
          "model_module": "@jupyter-widgets/controls",
          "model_module_version": "1.5.0",
          "model_name": "HTMLModel",
          "state": {
            "_dom_classes": [],
            "_model_module": "@jupyter-widgets/controls",
            "_model_module_version": "1.5.0",
            "_model_name": "HTMLModel",
            "_view_count": null,
            "_view_module": "@jupyter-widgets/controls",
            "_view_module_version": "1.5.0",
            "_view_name": "HTMLView",
            "description": "",
            "description_tooltip": null,
            "layout": "IPY_MODEL_593d5359dbd44d7ca79e03752e60779c",
            "placeholder": "​",
            "style": "IPY_MODEL_63e616c5cdda4d509b6625c9431c0a3f",
            "value": "Stringifying the column:  88%"
          }
        },
        "35296e54297242efb672394dbfafc7d4": {
          "model_module": "@jupyter-widgets/controls",
          "model_module_version": "1.5.0",
          "model_name": "HBoxModel",
          "state": {
            "_dom_classes": [],
            "_model_module": "@jupyter-widgets/controls",
            "_model_module_version": "1.5.0",
            "_model_name": "HBoxModel",
            "_view_count": null,
            "_view_module": "@jupyter-widgets/controls",
            "_view_module_version": "1.5.0",
            "_view_name": "HBoxView",
            "box_style": "",
            "children": [
              "IPY_MODEL_de102c7c2762467a946167ab046cde5d",
              "IPY_MODEL_fb7bb4ffb3d54d96be05bf2280bbd899",
              "IPY_MODEL_164762d0ce924ade9aa8ee3985356ce3"
            ],
            "layout": "IPY_MODEL_8bc5fa252e894025b72c2a6851173847"
          }
        },
        "399bef1e016b4887976fd1e3b03278d4": {
          "model_module": "@jupyter-widgets/base",
          "model_module_version": "1.2.0",
          "model_name": "LayoutModel",
          "state": {
            "_model_module": "@jupyter-widgets/base",
            "_model_module_version": "1.2.0",
            "_model_name": "LayoutModel",
            "_view_count": null,
            "_view_module": "@jupyter-widgets/base",
            "_view_module_version": "1.2.0",
            "_view_name": "LayoutView",
            "align_content": null,
            "align_items": null,
            "align_self": null,
            "border": null,
            "bottom": null,
            "display": null,
            "flex": null,
            "flex_flow": null,
            "grid_area": null,
            "grid_auto_columns": null,
            "grid_auto_flow": null,
            "grid_auto_rows": null,
            "grid_column": null,
            "grid_gap": null,
            "grid_row": null,
            "grid_template_areas": null,
            "grid_template_columns": null,
            "grid_template_rows": null,
            "height": null,
            "justify_content": null,
            "justify_items": null,
            "left": null,
            "margin": null,
            "max_height": null,
            "max_width": null,
            "min_height": null,
            "min_width": null,
            "object_fit": null,
            "object_position": null,
            "order": null,
            "overflow": null,
            "overflow_x": null,
            "overflow_y": null,
            "padding": null,
            "right": null,
            "top": null,
            "visibility": null,
            "width": null
          }
        },
        "39f3871b37b545e6a88f25bc09017e11": {
          "model_module": "@jupyter-widgets/controls",
          "model_module_version": "1.5.0",
          "model_name": "HTMLModel",
          "state": {
            "_dom_classes": [],
            "_model_module": "@jupyter-widgets/controls",
            "_model_module_version": "1.5.0",
            "_model_name": "HTMLModel",
            "_view_count": null,
            "_view_module": "@jupyter-widgets/controls",
            "_view_module_version": "1.5.0",
            "_view_name": "HTMLView",
            "description": "",
            "description_tooltip": null,
            "layout": "IPY_MODEL_2804821c21554832a0cae32c1338830f",
            "placeholder": "​",
            "style": "IPY_MODEL_eea1ec2a27a64515b387a00395e545a1",
            "value": "Casting to class labels:  92%"
          }
        },
        "3a48bff37395432ba9bb0ef420ce9f3e": {
          "model_module": "@jupyter-widgets/base",
          "model_module_version": "1.2.0",
          "model_name": "LayoutModel",
          "state": {
            "_model_module": "@jupyter-widgets/base",
            "_model_module_version": "1.2.0",
            "_model_name": "LayoutModel",
            "_view_count": null,
            "_view_module": "@jupyter-widgets/base",
            "_view_module_version": "1.2.0",
            "_view_name": "LayoutView",
            "align_content": null,
            "align_items": null,
            "align_self": null,
            "border": null,
            "bottom": null,
            "display": null,
            "flex": null,
            "flex_flow": null,
            "grid_area": null,
            "grid_auto_columns": null,
            "grid_auto_flow": null,
            "grid_auto_rows": null,
            "grid_column": null,
            "grid_gap": null,
            "grid_row": null,
            "grid_template_areas": null,
            "grid_template_columns": null,
            "grid_template_rows": null,
            "height": null,
            "justify_content": null,
            "justify_items": null,
            "left": null,
            "margin": null,
            "max_height": null,
            "max_width": null,
            "min_height": null,
            "min_width": null,
            "object_fit": null,
            "object_position": null,
            "order": null,
            "overflow": null,
            "overflow_x": null,
            "overflow_y": null,
            "padding": null,
            "right": null,
            "top": null,
            "visibility": null,
            "width": null
          }
        },
        "3cb7def7a35d4b7e8a1ae0a68ecb9825": {
          "model_module": "@jupyter-widgets/base",
          "model_module_version": "1.2.0",
          "model_name": "LayoutModel",
          "state": {
            "_model_module": "@jupyter-widgets/base",
            "_model_module_version": "1.2.0",
            "_model_name": "LayoutModel",
            "_view_count": null,
            "_view_module": "@jupyter-widgets/base",
            "_view_module_version": "1.2.0",
            "_view_name": "LayoutView",
            "align_content": null,
            "align_items": null,
            "align_self": null,
            "border": null,
            "bottom": null,
            "display": null,
            "flex": null,
            "flex_flow": null,
            "grid_area": null,
            "grid_auto_columns": null,
            "grid_auto_flow": null,
            "grid_auto_rows": null,
            "grid_column": null,
            "grid_gap": null,
            "grid_row": null,
            "grid_template_areas": null,
            "grid_template_columns": null,
            "grid_template_rows": null,
            "height": null,
            "justify_content": null,
            "justify_items": null,
            "left": null,
            "margin": null,
            "max_height": null,
            "max_width": null,
            "min_height": null,
            "min_width": null,
            "object_fit": null,
            "object_position": null,
            "order": null,
            "overflow": null,
            "overflow_x": null,
            "overflow_y": null,
            "padding": null,
            "right": null,
            "top": null,
            "visibility": null,
            "width": "20px"
          }
        },
        "3cd8b5685e6e4aa68b521c225613c85a": {
          "model_module": "@jupyter-widgets/controls",
          "model_module_version": "1.5.0",
          "model_name": "HTMLModel",
          "state": {
            "_dom_classes": [],
            "_model_module": "@jupyter-widgets/controls",
            "_model_module_version": "1.5.0",
            "_model_name": "HTMLModel",
            "_view_count": null,
            "_view_module": "@jupyter-widgets/controls",
            "_view_module_version": "1.5.0",
            "_view_name": "HTMLView",
            "description": "",
            "description_tooltip": null,
            "layout": "IPY_MODEL_399bef1e016b4887976fd1e3b03278d4",
            "placeholder": "​",
            "style": "IPY_MODEL_ceec4b7f80be489e90d67e39786605c5",
            "value": " 88%"
          }
        },
        "41af04881aba4c79a988adbaaf3ddecd": {
          "model_module": "@jupyter-widgets/controls",
          "model_module_version": "1.5.0",
          "model_name": "HTMLModel",
          "state": {
            "_dom_classes": [],
            "_model_module": "@jupyter-widgets/controls",
            "_model_module_version": "1.5.0",
            "_model_name": "HTMLModel",
            "_view_count": null,
            "_view_module": "@jupyter-widgets/controls",
            "_view_module_version": "1.5.0",
            "_view_name": "HTMLView",
            "description": "",
            "description_tooltip": null,
            "layout": "IPY_MODEL_57c6c20c003a4b9da3f76d697d7fe65d",
            "placeholder": "​",
            "style": "IPY_MODEL_7261fe2dac524d0dbad1c29812946135",
            "value": "Casting the dataset:  50%"
          }
        },
        "41bd23ed82b34ea8a5f59069285be5f5": {
          "model_module": "@jupyter-widgets/controls",
          "model_module_version": "1.5.0",
          "model_name": "ProgressStyleModel",
          "state": {
            "_model_module": "@jupyter-widgets/controls",
            "_model_module_version": "1.5.0",
            "_model_name": "ProgressStyleModel",
            "_view_count": null,
            "_view_module": "@jupyter-widgets/base",
            "_view_module_version": "1.2.0",
            "_view_name": "StyleView",
            "bar_color": null,
            "description_width": ""
          }
        },
        "431158a65cfb4d98858b0d7eb43d9ca9": {
          "model_module": "@jupyter-widgets/controls",
          "model_module_version": "1.5.0",
          "model_name": "DescriptionStyleModel",
          "state": {
            "_model_module": "@jupyter-widgets/controls",
            "_model_module_version": "1.5.0",
            "_model_name": "DescriptionStyleModel",
            "_view_count": null,
            "_view_module": "@jupyter-widgets/base",
            "_view_module_version": "1.2.0",
            "_view_name": "StyleView",
            "description_width": ""
          }
        },
        "4c209e4d0447415bbf3102ec3d6df341": {
          "model_module": "@jupyter-widgets/controls",
          "model_module_version": "1.5.0",
          "model_name": "FloatProgressModel",
          "state": {
            "_dom_classes": [],
            "_model_module": "@jupyter-widgets/controls",
            "_model_module_version": "1.5.0",
            "_model_name": "FloatProgressModel",
            "_view_count": null,
            "_view_module": "@jupyter-widgets/controls",
            "_view_module_version": "1.5.0",
            "_view_name": "ProgressView",
            "bar_style": "danger",
            "description": "",
            "description_tooltip": null,
            "layout": "IPY_MODEL_9334df1e1b8043d09688788cdb359ad4",
            "max": 12,
            "min": 0,
            "orientation": "horizontal",
            "style": "IPY_MODEL_61b49ca8e3a14e64add3cc89d33eb0ee",
            "value": 11
          }
        },
        "4caea73f722d42d8b48984b87ab91316": {
          "model_module": "@jupyter-widgets/controls",
          "model_module_version": "1.5.0",
          "model_name": "DescriptionStyleModel",
          "state": {
            "_model_module": "@jupyter-widgets/controls",
            "_model_module_version": "1.5.0",
            "_model_name": "DescriptionStyleModel",
            "_view_count": null,
            "_view_module": "@jupyter-widgets/base",
            "_view_module_version": "1.2.0",
            "_view_name": "StyleView",
            "description_width": ""
          }
        },
        "50adc9d49b46452ea5d865958c6eb0fe": {
          "model_module": "@jupyter-widgets/base",
          "model_module_version": "1.2.0",
          "model_name": "LayoutModel",
          "state": {
            "_model_module": "@jupyter-widgets/base",
            "_model_module_version": "1.2.0",
            "_model_name": "LayoutModel",
            "_view_count": null,
            "_view_module": "@jupyter-widgets/base",
            "_view_module_version": "1.2.0",
            "_view_name": "LayoutView",
            "align_content": null,
            "align_items": null,
            "align_self": null,
            "border": null,
            "bottom": null,
            "display": null,
            "flex": null,
            "flex_flow": null,
            "grid_area": null,
            "grid_auto_columns": null,
            "grid_auto_flow": null,
            "grid_auto_rows": null,
            "grid_column": null,
            "grid_gap": null,
            "grid_row": null,
            "grid_template_areas": null,
            "grid_template_columns": null,
            "grid_template_rows": null,
            "height": null,
            "justify_content": null,
            "justify_items": null,
            "left": null,
            "margin": null,
            "max_height": null,
            "max_width": null,
            "min_height": null,
            "min_width": null,
            "object_fit": null,
            "object_position": null,
            "order": null,
            "overflow": null,
            "overflow_x": null,
            "overflow_y": null,
            "padding": null,
            "right": null,
            "top": null,
            "visibility": null,
            "width": null
          }
        },
        "52b7e32d537f4bcaac005847e37c16cd": {
          "model_module": "@jupyter-widgets/controls",
          "model_module_version": "1.5.0",
          "model_name": "DescriptionStyleModel",
          "state": {
            "_model_module": "@jupyter-widgets/controls",
            "_model_module_version": "1.5.0",
            "_model_name": "DescriptionStyleModel",
            "_view_count": null,
            "_view_module": "@jupyter-widgets/base",
            "_view_module_version": "1.2.0",
            "_view_name": "StyleView",
            "description_width": ""
          }
        },
        "52e3ab97764c4ed98184e2cad388ca22": {
          "model_module": "@jupyter-widgets/base",
          "model_module_version": "1.2.0",
          "model_name": "LayoutModel",
          "state": {
            "_model_module": "@jupyter-widgets/base",
            "_model_module_version": "1.2.0",
            "_model_name": "LayoutModel",
            "_view_count": null,
            "_view_module": "@jupyter-widgets/base",
            "_view_module_version": "1.2.0",
            "_view_name": "LayoutView",
            "align_content": null,
            "align_items": null,
            "align_self": null,
            "border": null,
            "bottom": null,
            "display": null,
            "flex": null,
            "flex_flow": null,
            "grid_area": null,
            "grid_auto_columns": null,
            "grid_auto_flow": null,
            "grid_auto_rows": null,
            "grid_column": null,
            "grid_gap": null,
            "grid_row": null,
            "grid_template_areas": null,
            "grid_template_columns": null,
            "grid_template_rows": null,
            "height": null,
            "justify_content": null,
            "justify_items": null,
            "left": null,
            "margin": null,
            "max_height": null,
            "max_width": null,
            "min_height": null,
            "min_width": null,
            "object_fit": null,
            "object_position": null,
            "order": null,
            "overflow": null,
            "overflow_x": null,
            "overflow_y": null,
            "padding": null,
            "right": null,
            "top": null,
            "visibility": null,
            "width": null
          }
        },
        "545a7f029dc5434fbfdbdd39e9d16eb7": {
          "model_module": "@jupyter-widgets/controls",
          "model_module_version": "1.5.0",
          "model_name": "HTMLModel",
          "state": {
            "_dom_classes": [],
            "_model_module": "@jupyter-widgets/controls",
            "_model_module_version": "1.5.0",
            "_model_name": "HTMLModel",
            "_view_count": null,
            "_view_module": "@jupyter-widgets/controls",
            "_view_module_version": "1.5.0",
            "_view_name": "HTMLView",
            "description": "",
            "description_tooltip": null,
            "layout": "IPY_MODEL_3a48bff37395432ba9bb0ef420ce9f3e",
            "placeholder": "​",
            "style": "IPY_MODEL_431158a65cfb4d98858b0d7eb43d9ca9",
            "value": " 363M/363M [00:12&lt;00:00, 31.3MB/s]"
          }
        },
        "54c4f8f9054b4b1297bc925927530a12": {
          "model_module": "@jupyter-widgets/base",
          "model_module_version": "1.2.0",
          "model_name": "LayoutModel",
          "state": {
            "_model_module": "@jupyter-widgets/base",
            "_model_module_version": "1.2.0",
            "_model_name": "LayoutModel",
            "_view_count": null,
            "_view_module": "@jupyter-widgets/base",
            "_view_module_version": "1.2.0",
            "_view_name": "LayoutView",
            "align_content": null,
            "align_items": null,
            "align_self": null,
            "border": null,
            "bottom": null,
            "display": null,
            "flex": null,
            "flex_flow": null,
            "grid_area": null,
            "grid_auto_columns": null,
            "grid_auto_flow": null,
            "grid_auto_rows": null,
            "grid_column": null,
            "grid_gap": null,
            "grid_row": null,
            "grid_template_areas": null,
            "grid_template_columns": null,
            "grid_template_rows": null,
            "height": null,
            "justify_content": null,
            "justify_items": null,
            "left": null,
            "margin": null,
            "max_height": null,
            "max_width": null,
            "min_height": null,
            "min_width": null,
            "object_fit": null,
            "object_position": null,
            "order": null,
            "overflow": null,
            "overflow_x": null,
            "overflow_y": null,
            "padding": null,
            "right": null,
            "top": null,
            "visibility": null,
            "width": null
          }
        },
        "559e8a84f4ff4696ba4d9cffc5de1639": {
          "model_module": "@jupyter-widgets/controls",
          "model_module_version": "1.5.0",
          "model_name": "HBoxModel",
          "state": {
            "_dom_classes": [],
            "_model_module": "@jupyter-widgets/controls",
            "_model_module_version": "1.5.0",
            "_model_name": "HBoxModel",
            "_view_count": null,
            "_view_module": "@jupyter-widgets/controls",
            "_view_module_version": "1.5.0",
            "_view_name": "HBoxView",
            "box_style": "",
            "children": [
              "IPY_MODEL_9c71a8f43f9a4384964dd998464ab2fc",
              "IPY_MODEL_d6675a2db7d840a096daf445155deb85",
              "IPY_MODEL_b607066f2b8b4ebbb54f02ff8f9fc6e9"
            ],
            "layout": "IPY_MODEL_9ac6408cf07248bb8e31479e639ef70c"
          }
        },
        "579fd17934e842cfb5d829def3729843": {
          "model_module": "@jupyter-widgets/controls",
          "model_module_version": "1.5.0",
          "model_name": "ProgressStyleModel",
          "state": {
            "_model_module": "@jupyter-widgets/controls",
            "_model_module_version": "1.5.0",
            "_model_name": "ProgressStyleModel",
            "_view_count": null,
            "_view_module": "@jupyter-widgets/base",
            "_view_module_version": "1.2.0",
            "_view_name": "StyleView",
            "bar_color": null,
            "description_width": ""
          }
        },
        "57c6c20c003a4b9da3f76d697d7fe65d": {
          "model_module": "@jupyter-widgets/base",
          "model_module_version": "1.2.0",
          "model_name": "LayoutModel",
          "state": {
            "_model_module": "@jupyter-widgets/base",
            "_model_module_version": "1.2.0",
            "_model_name": "LayoutModel",
            "_view_count": null,
            "_view_module": "@jupyter-widgets/base",
            "_view_module_version": "1.2.0",
            "_view_name": "LayoutView",
            "align_content": null,
            "align_items": null,
            "align_self": null,
            "border": null,
            "bottom": null,
            "display": null,
            "flex": null,
            "flex_flow": null,
            "grid_area": null,
            "grid_auto_columns": null,
            "grid_auto_flow": null,
            "grid_auto_rows": null,
            "grid_column": null,
            "grid_gap": null,
            "grid_row": null,
            "grid_template_areas": null,
            "grid_template_columns": null,
            "grid_template_rows": null,
            "height": null,
            "justify_content": null,
            "justify_items": null,
            "left": null,
            "margin": null,
            "max_height": null,
            "max_width": null,
            "min_height": null,
            "min_width": null,
            "object_fit": null,
            "object_position": null,
            "order": null,
            "overflow": null,
            "overflow_x": null,
            "overflow_y": null,
            "padding": null,
            "right": null,
            "top": null,
            "visibility": null,
            "width": null
          }
        },
        "57cd82ff33bc47798b2e8f311455072a": {
          "model_module": "@jupyter-widgets/base",
          "model_module_version": "1.2.0",
          "model_name": "LayoutModel",
          "state": {
            "_model_module": "@jupyter-widgets/base",
            "_model_module_version": "1.2.0",
            "_model_name": "LayoutModel",
            "_view_count": null,
            "_view_module": "@jupyter-widgets/base",
            "_view_module_version": "1.2.0",
            "_view_name": "LayoutView",
            "align_content": null,
            "align_items": null,
            "align_self": null,
            "border": null,
            "bottom": null,
            "display": null,
            "flex": null,
            "flex_flow": null,
            "grid_area": null,
            "grid_auto_columns": null,
            "grid_auto_flow": null,
            "grid_auto_rows": null,
            "grid_column": null,
            "grid_gap": null,
            "grid_row": null,
            "grid_template_areas": null,
            "grid_template_columns": null,
            "grid_template_rows": null,
            "height": null,
            "justify_content": null,
            "justify_items": null,
            "left": null,
            "margin": null,
            "max_height": null,
            "max_width": null,
            "min_height": null,
            "min_width": null,
            "object_fit": null,
            "object_position": null,
            "order": null,
            "overflow": null,
            "overflow_x": null,
            "overflow_y": null,
            "padding": null,
            "right": null,
            "top": null,
            "visibility": null,
            "width": null
          }
        },
        "580a0f4bde5c43dd8143127744a27c42": {
          "model_module": "@jupyter-widgets/base",
          "model_module_version": "1.2.0",
          "model_name": "LayoutModel",
          "state": {
            "_model_module": "@jupyter-widgets/base",
            "_model_module_version": "1.2.0",
            "_model_name": "LayoutModel",
            "_view_count": null,
            "_view_module": "@jupyter-widgets/base",
            "_view_module_version": "1.2.0",
            "_view_name": "LayoutView",
            "align_content": null,
            "align_items": null,
            "align_self": null,
            "border": null,
            "bottom": null,
            "display": null,
            "flex": null,
            "flex_flow": null,
            "grid_area": null,
            "grid_auto_columns": null,
            "grid_auto_flow": null,
            "grid_auto_rows": null,
            "grid_column": null,
            "grid_gap": null,
            "grid_row": null,
            "grid_template_areas": null,
            "grid_template_columns": null,
            "grid_template_rows": null,
            "height": null,
            "justify_content": null,
            "justify_items": null,
            "left": null,
            "margin": null,
            "max_height": null,
            "max_width": null,
            "min_height": null,
            "min_width": null,
            "object_fit": null,
            "object_position": null,
            "order": null,
            "overflow": null,
            "overflow_x": null,
            "overflow_y": null,
            "padding": null,
            "right": null,
            "top": null,
            "visibility": null,
            "width": null
          }
        },
        "586b7c40d0824dd59decbfef6ec09f84": {
          "model_module": "@jupyter-widgets/controls",
          "model_module_version": "1.5.0",
          "model_name": "FloatProgressModel",
          "state": {
            "_dom_classes": [],
            "_model_module": "@jupyter-widgets/controls",
            "_model_module_version": "1.5.0",
            "_model_name": "FloatProgressModel",
            "_view_count": null,
            "_view_module": "@jupyter-widgets/controls",
            "_view_module_version": "1.5.0",
            "_view_name": "ProgressView",
            "bar_style": "danger",
            "description": "",
            "description_tooltip": null,
            "layout": "IPY_MODEL_75abd76f0dc347158fa06287c3374f17",
            "max": 11,
            "min": 0,
            "orientation": "horizontal",
            "style": "IPY_MODEL_ce2bc08fec7c454c902acd82c7ac9399",
            "value": 10
          }
        },
        "593d5359dbd44d7ca79e03752e60779c": {
          "model_module": "@jupyter-widgets/base",
          "model_module_version": "1.2.0",
          "model_name": "LayoutModel",
          "state": {
            "_model_module": "@jupyter-widgets/base",
            "_model_module_version": "1.2.0",
            "_model_name": "LayoutModel",
            "_view_count": null,
            "_view_module": "@jupyter-widgets/base",
            "_view_module_version": "1.2.0",
            "_view_name": "LayoutView",
            "align_content": null,
            "align_items": null,
            "align_self": null,
            "border": null,
            "bottom": null,
            "display": null,
            "flex": null,
            "flex_flow": null,
            "grid_area": null,
            "grid_auto_columns": null,
            "grid_auto_flow": null,
            "grid_auto_rows": null,
            "grid_column": null,
            "grid_gap": null,
            "grid_row": null,
            "grid_template_areas": null,
            "grid_template_columns": null,
            "grid_template_rows": null,
            "height": null,
            "justify_content": null,
            "justify_items": null,
            "left": null,
            "margin": null,
            "max_height": null,
            "max_width": null,
            "min_height": null,
            "min_width": null,
            "object_fit": null,
            "object_position": null,
            "order": null,
            "overflow": null,
            "overflow_x": null,
            "overflow_y": null,
            "padding": null,
            "right": null,
            "top": null,
            "visibility": null,
            "width": null
          }
        },
        "5cf37b06c8b648668c71ac07bf5fc95e": {
          "model_module": "@jupyter-widgets/controls",
          "model_module_version": "1.5.0",
          "model_name": "DescriptionStyleModel",
          "state": {
            "_model_module": "@jupyter-widgets/controls",
            "_model_module_version": "1.5.0",
            "_model_name": "DescriptionStyleModel",
            "_view_count": null,
            "_view_module": "@jupyter-widgets/base",
            "_view_module_version": "1.2.0",
            "_view_name": "StyleView",
            "description_width": ""
          }
        },
        "5de7e538488f4122b993c8f58d99d90e": {
          "model_module": "@jupyter-widgets/base",
          "model_module_version": "1.2.0",
          "model_name": "LayoutModel",
          "state": {
            "_model_module": "@jupyter-widgets/base",
            "_model_module_version": "1.2.0",
            "_model_name": "LayoutModel",
            "_view_count": null,
            "_view_module": "@jupyter-widgets/base",
            "_view_module_version": "1.2.0",
            "_view_name": "LayoutView",
            "align_content": null,
            "align_items": null,
            "align_self": null,
            "border": null,
            "bottom": null,
            "display": null,
            "flex": null,
            "flex_flow": null,
            "grid_area": null,
            "grid_auto_columns": null,
            "grid_auto_flow": null,
            "grid_auto_rows": null,
            "grid_column": null,
            "grid_gap": null,
            "grid_row": null,
            "grid_template_areas": null,
            "grid_template_columns": null,
            "grid_template_rows": null,
            "height": null,
            "justify_content": null,
            "justify_items": null,
            "left": null,
            "margin": null,
            "max_height": null,
            "max_width": null,
            "min_height": null,
            "min_width": null,
            "object_fit": null,
            "object_position": null,
            "order": null,
            "overflow": null,
            "overflow_x": null,
            "overflow_y": null,
            "padding": null,
            "right": null,
            "top": null,
            "visibility": null,
            "width": null
          }
        },
        "5ebb24770ab44abdaa7135a97f252036": {
          "model_module": "@jupyter-widgets/controls",
          "model_module_version": "1.5.0",
          "model_name": "HBoxModel",
          "state": {
            "_dom_classes": [],
            "_model_module": "@jupyter-widgets/controls",
            "_model_module_version": "1.5.0",
            "_model_name": "HBoxModel",
            "_view_count": null,
            "_view_module": "@jupyter-widgets/controls",
            "_view_module_version": "1.5.0",
            "_view_name": "HBoxView",
            "box_style": "",
            "children": [
              "IPY_MODEL_ecd8bc24d95c4769bdd33deb7cd7b1c0",
              "IPY_MODEL_b10e3e7261374f05ab3fbac35da1555b",
              "IPY_MODEL_a55e5e5b435d4491a702d9d6bf0c8912"
            ],
            "layout": "IPY_MODEL_c82fee80d24f4b4b9cda72b38701618c"
          }
        },
        "60bd4593507543db96d1631f074e533a": {
          "model_module": "@jupyter-widgets/base",
          "model_module_version": "1.2.0",
          "model_name": "LayoutModel",
          "state": {
            "_model_module": "@jupyter-widgets/base",
            "_model_module_version": "1.2.0",
            "_model_name": "LayoutModel",
            "_view_count": null,
            "_view_module": "@jupyter-widgets/base",
            "_view_module_version": "1.2.0",
            "_view_name": "LayoutView",
            "align_content": null,
            "align_items": null,
            "align_self": null,
            "border": null,
            "bottom": null,
            "display": null,
            "flex": null,
            "flex_flow": null,
            "grid_area": null,
            "grid_auto_columns": null,
            "grid_auto_flow": null,
            "grid_auto_rows": null,
            "grid_column": null,
            "grid_gap": null,
            "grid_row": null,
            "grid_template_areas": null,
            "grid_template_columns": null,
            "grid_template_rows": null,
            "height": null,
            "justify_content": null,
            "justify_items": null,
            "left": null,
            "margin": null,
            "max_height": null,
            "max_width": null,
            "min_height": null,
            "min_width": null,
            "object_fit": null,
            "object_position": null,
            "order": null,
            "overflow": null,
            "overflow_x": null,
            "overflow_y": null,
            "padding": null,
            "right": null,
            "top": null,
            "visibility": null,
            "width": null
          }
        },
        "61a5767afdbb4b2fb0da25ae784c5310": {
          "model_module": "@jupyter-widgets/controls",
          "model_module_version": "1.5.0",
          "model_name": "DescriptionStyleModel",
          "state": {
            "_model_module": "@jupyter-widgets/controls",
            "_model_module_version": "1.5.0",
            "_model_name": "DescriptionStyleModel",
            "_view_count": null,
            "_view_module": "@jupyter-widgets/base",
            "_view_module_version": "1.2.0",
            "_view_name": "StyleView",
            "description_width": ""
          }
        },
        "61b49ca8e3a14e64add3cc89d33eb0ee": {
          "model_module": "@jupyter-widgets/controls",
          "model_module_version": "1.5.0",
          "model_name": "ProgressStyleModel",
          "state": {
            "_model_module": "@jupyter-widgets/controls",
            "_model_module_version": "1.5.0",
            "_model_name": "ProgressStyleModel",
            "_view_count": null,
            "_view_module": "@jupyter-widgets/base",
            "_view_module_version": "1.2.0",
            "_view_name": "StyleView",
            "bar_color": null,
            "description_width": ""
          }
        },
        "62d521d150d640a3961f8070fff92cc6": {
          "model_module": "@jupyter-widgets/controls",
          "model_module_version": "1.5.0",
          "model_name": "FloatProgressModel",
          "state": {
            "_dom_classes": [],
            "_model_module": "@jupyter-widgets/controls",
            "_model_module_version": "1.5.0",
            "_model_name": "FloatProgressModel",
            "_view_count": null,
            "_view_module": "@jupyter-widgets/controls",
            "_view_module_version": "1.5.0",
            "_view_name": "ProgressView",
            "bar_style": "success",
            "description": "",
            "description_tooltip": null,
            "layout": "IPY_MODEL_7743501703c34eb7a3002255e8b5a269",
            "max": 363423424,
            "min": 0,
            "orientation": "horizontal",
            "style": "IPY_MODEL_fa8039637b7640569de9e65289149390",
            "value": 363423424
          }
        },
        "63d780aa45994807885d86f5cede29c3": {
          "model_module": "@jupyter-widgets/controls",
          "model_module_version": "1.5.0",
          "model_name": "HBoxModel",
          "state": {
            "_dom_classes": [],
            "_model_module": "@jupyter-widgets/controls",
            "_model_module_version": "1.5.0",
            "_model_name": "HBoxModel",
            "_view_count": null,
            "_view_module": "@jupyter-widgets/controls",
            "_view_module_version": "1.5.0",
            "_view_name": "HBoxView",
            "box_style": "",
            "children": [
              "IPY_MODEL_41af04881aba4c79a988adbaaf3ddecd",
              "IPY_MODEL_152fdbd1f56049c6abefbd21495e1971",
              "IPY_MODEL_8c8b7aa5a43948c5a65dea47cfb0eb9a"
            ],
            "layout": "IPY_MODEL_57cd82ff33bc47798b2e8f311455072a"
          }
        },
        "63e616c5cdda4d509b6625c9431c0a3f": {
          "model_module": "@jupyter-widgets/controls",
          "model_module_version": "1.5.0",
          "model_name": "DescriptionStyleModel",
          "state": {
            "_model_module": "@jupyter-widgets/controls",
            "_model_module_version": "1.5.0",
            "_model_name": "DescriptionStyleModel",
            "_view_count": null,
            "_view_module": "@jupyter-widgets/base",
            "_view_module_version": "1.2.0",
            "_view_name": "StyleView",
            "description_width": ""
          }
        },
        "656869f332ff4879a814643d02de640b": {
          "model_module": "@jupyter-widgets/base",
          "model_module_version": "1.2.0",
          "model_name": "LayoutModel",
          "state": {
            "_model_module": "@jupyter-widgets/base",
            "_model_module_version": "1.2.0",
            "_model_name": "LayoutModel",
            "_view_count": null,
            "_view_module": "@jupyter-widgets/base",
            "_view_module_version": "1.2.0",
            "_view_name": "LayoutView",
            "align_content": null,
            "align_items": null,
            "align_self": null,
            "border": null,
            "bottom": null,
            "display": null,
            "flex": null,
            "flex_flow": null,
            "grid_area": null,
            "grid_auto_columns": null,
            "grid_auto_flow": null,
            "grid_auto_rows": null,
            "grid_column": null,
            "grid_gap": null,
            "grid_row": null,
            "grid_template_areas": null,
            "grid_template_columns": null,
            "grid_template_rows": null,
            "height": null,
            "justify_content": null,
            "justify_items": null,
            "left": null,
            "margin": null,
            "max_height": null,
            "max_width": null,
            "min_height": null,
            "min_width": null,
            "object_fit": null,
            "object_position": null,
            "order": null,
            "overflow": null,
            "overflow_x": null,
            "overflow_y": null,
            "padding": null,
            "right": null,
            "top": null,
            "visibility": null,
            "width": null
          }
        },
        "6590cd22cd094f979faaddf023a37d5e": {
          "model_module": "@jupyter-widgets/base",
          "model_module_version": "1.2.0",
          "model_name": "LayoutModel",
          "state": {
            "_model_module": "@jupyter-widgets/base",
            "_model_module_version": "1.2.0",
            "_model_name": "LayoutModel",
            "_view_count": null,
            "_view_module": "@jupyter-widgets/base",
            "_view_module_version": "1.2.0",
            "_view_name": "LayoutView",
            "align_content": null,
            "align_items": null,
            "align_self": null,
            "border": null,
            "bottom": null,
            "display": null,
            "flex": null,
            "flex_flow": null,
            "grid_area": null,
            "grid_auto_columns": null,
            "grid_auto_flow": null,
            "grid_auto_rows": null,
            "grid_column": null,
            "grid_gap": null,
            "grid_row": null,
            "grid_template_areas": null,
            "grid_template_columns": null,
            "grid_template_rows": null,
            "height": null,
            "justify_content": null,
            "justify_items": null,
            "left": null,
            "margin": null,
            "max_height": null,
            "max_width": null,
            "min_height": null,
            "min_width": null,
            "object_fit": null,
            "object_position": null,
            "order": null,
            "overflow": null,
            "overflow_x": null,
            "overflow_y": null,
            "padding": null,
            "right": null,
            "top": null,
            "visibility": null,
            "width": null
          }
        },
        "6a00bb99b6844e2a95b036c47b35b10e": {
          "model_module": "@jupyter-widgets/base",
          "model_module_version": "1.2.0",
          "model_name": "LayoutModel",
          "state": {
            "_model_module": "@jupyter-widgets/base",
            "_model_module_version": "1.2.0",
            "_model_name": "LayoutModel",
            "_view_count": null,
            "_view_module": "@jupyter-widgets/base",
            "_view_module_version": "1.2.0",
            "_view_name": "LayoutView",
            "align_content": null,
            "align_items": null,
            "align_self": null,
            "border": null,
            "bottom": null,
            "display": null,
            "flex": null,
            "flex_flow": null,
            "grid_area": null,
            "grid_auto_columns": null,
            "grid_auto_flow": null,
            "grid_auto_rows": null,
            "grid_column": null,
            "grid_gap": null,
            "grid_row": null,
            "grid_template_areas": null,
            "grid_template_columns": null,
            "grid_template_rows": null,
            "height": null,
            "justify_content": null,
            "justify_items": null,
            "left": null,
            "margin": null,
            "max_height": null,
            "max_width": null,
            "min_height": null,
            "min_width": null,
            "object_fit": null,
            "object_position": null,
            "order": null,
            "overflow": null,
            "overflow_x": null,
            "overflow_y": null,
            "padding": null,
            "right": null,
            "top": null,
            "visibility": null,
            "width": null
          }
        },
        "6df03e439792411aa807810640a53a3c": {
          "model_module": "@jupyter-widgets/base",
          "model_module_version": "1.2.0",
          "model_name": "LayoutModel",
          "state": {
            "_model_module": "@jupyter-widgets/base",
            "_model_module_version": "1.2.0",
            "_model_name": "LayoutModel",
            "_view_count": null,
            "_view_module": "@jupyter-widgets/base",
            "_view_module_version": "1.2.0",
            "_view_name": "LayoutView",
            "align_content": null,
            "align_items": null,
            "align_self": null,
            "border": null,
            "bottom": null,
            "display": null,
            "flex": null,
            "flex_flow": null,
            "grid_area": null,
            "grid_auto_columns": null,
            "grid_auto_flow": null,
            "grid_auto_rows": null,
            "grid_column": null,
            "grid_gap": null,
            "grid_row": null,
            "grid_template_areas": null,
            "grid_template_columns": null,
            "grid_template_rows": null,
            "height": null,
            "justify_content": null,
            "justify_items": null,
            "left": null,
            "margin": null,
            "max_height": null,
            "max_width": null,
            "min_height": null,
            "min_width": null,
            "object_fit": null,
            "object_position": null,
            "order": null,
            "overflow": null,
            "overflow_x": null,
            "overflow_y": null,
            "padding": null,
            "right": null,
            "top": null,
            "visibility": null,
            "width": null
          }
        },
        "6df166b30de746a3b5f0644262c8dc86": {
          "model_module": "@jupyter-widgets/controls",
          "model_module_version": "1.5.0",
          "model_name": "FloatProgressModel",
          "state": {
            "_dom_classes": [],
            "_model_module": "@jupyter-widgets/controls",
            "_model_module_version": "1.5.0",
            "_model_name": "FloatProgressModel",
            "_view_count": null,
            "_view_module": "@jupyter-widgets/controls",
            "_view_module_version": "1.5.0",
            "_view_name": "ProgressView",
            "bar_style": "danger",
            "description": "",
            "description_tooltip": null,
            "layout": "IPY_MODEL_fea87187ec9b478889f940897e51f41f",
            "max": 8,
            "min": 0,
            "orientation": "horizontal",
            "style": "IPY_MODEL_41bd23ed82b34ea8a5f59069285be5f5",
            "value": 7
          }
        },
        "71afedf6d8804ed1b4c70f4865177fb0": {
          "model_module": "@jupyter-widgets/base",
          "model_module_version": "1.2.0",
          "model_name": "LayoutModel",
          "state": {
            "_model_module": "@jupyter-widgets/base",
            "_model_module_version": "1.2.0",
            "_model_name": "LayoutModel",
            "_view_count": null,
            "_view_module": "@jupyter-widgets/base",
            "_view_module_version": "1.2.0",
            "_view_name": "LayoutView",
            "align_content": null,
            "align_items": null,
            "align_self": null,
            "border": null,
            "bottom": null,
            "display": null,
            "flex": null,
            "flex_flow": null,
            "grid_area": null,
            "grid_auto_columns": null,
            "grid_auto_flow": null,
            "grid_auto_rows": null,
            "grid_column": null,
            "grid_gap": null,
            "grid_row": null,
            "grid_template_areas": null,
            "grid_template_columns": null,
            "grid_template_rows": null,
            "height": null,
            "justify_content": null,
            "justify_items": null,
            "left": null,
            "margin": null,
            "max_height": null,
            "max_width": null,
            "min_height": null,
            "min_width": null,
            "object_fit": null,
            "object_position": null,
            "order": null,
            "overflow": null,
            "overflow_x": null,
            "overflow_y": null,
            "padding": null,
            "right": null,
            "top": null,
            "visibility": null,
            "width": null
          }
        },
        "7261fe2dac524d0dbad1c29812946135": {
          "model_module": "@jupyter-widgets/controls",
          "model_module_version": "1.5.0",
          "model_name": "DescriptionStyleModel",
          "state": {
            "_model_module": "@jupyter-widgets/controls",
            "_model_module_version": "1.5.0",
            "_model_name": "DescriptionStyleModel",
            "_view_count": null,
            "_view_module": "@jupyter-widgets/base",
            "_view_module_version": "1.2.0",
            "_view_name": "StyleView",
            "description_width": ""
          }
        },
        "72afd588903647ff9ad926e5f91dafb9": {
          "model_module": "@jupyter-widgets/controls",
          "model_module_version": "1.5.0",
          "model_name": "DescriptionStyleModel",
          "state": {
            "_model_module": "@jupyter-widgets/controls",
            "_model_module_version": "1.5.0",
            "_model_name": "DescriptionStyleModel",
            "_view_count": null,
            "_view_module": "@jupyter-widgets/base",
            "_view_module_version": "1.2.0",
            "_view_name": "StyleView",
            "description_width": ""
          }
        },
        "732d48a7c6394da6a24e76671a3f1eca": {
          "model_module": "@jupyter-widgets/controls",
          "model_module_version": "1.5.0",
          "model_name": "HTMLModel",
          "state": {
            "_dom_classes": [],
            "_model_module": "@jupyter-widgets/controls",
            "_model_module_version": "1.5.0",
            "_model_name": "HTMLModel",
            "_view_count": null,
            "_view_module": "@jupyter-widgets/controls",
            "_view_module_version": "1.5.0",
            "_view_name": "HTMLView",
            "description": "",
            "description_tooltip": null,
            "layout": "IPY_MODEL_cadc2cdf7054483381d563b80cf3e1ac",
            "placeholder": "​",
            "style": "IPY_MODEL_7827c95df8e04a92a9bc6f887df5d037",
            "value": " 10/11 [00:20&lt;00:02,  2.11s/ba]"
          }
        },
        "74da21dac8ca495baf6b110b2d8fbf40": {
          "model_module": "@jupyter-widgets/base",
          "model_module_version": "1.2.0",
          "model_name": "LayoutModel",
          "state": {
            "_model_module": "@jupyter-widgets/base",
            "_model_module_version": "1.2.0",
            "_model_name": "LayoutModel",
            "_view_count": null,
            "_view_module": "@jupyter-widgets/base",
            "_view_module_version": "1.2.0",
            "_view_name": "LayoutView",
            "align_content": null,
            "align_items": null,
            "align_self": null,
            "border": null,
            "bottom": null,
            "display": null,
            "flex": null,
            "flex_flow": null,
            "grid_area": null,
            "grid_auto_columns": null,
            "grid_auto_flow": null,
            "grid_auto_rows": null,
            "grid_column": null,
            "grid_gap": null,
            "grid_row": null,
            "grid_template_areas": null,
            "grid_template_columns": null,
            "grid_template_rows": null,
            "height": null,
            "justify_content": null,
            "justify_items": null,
            "left": null,
            "margin": null,
            "max_height": null,
            "max_width": null,
            "min_height": null,
            "min_width": null,
            "object_fit": null,
            "object_position": null,
            "order": null,
            "overflow": null,
            "overflow_x": null,
            "overflow_y": null,
            "padding": null,
            "right": null,
            "top": null,
            "visibility": null,
            "width": null
          }
        },
        "75abd76f0dc347158fa06287c3374f17": {
          "model_module": "@jupyter-widgets/base",
          "model_module_version": "1.2.0",
          "model_name": "LayoutModel",
          "state": {
            "_model_module": "@jupyter-widgets/base",
            "_model_module_version": "1.2.0",
            "_model_name": "LayoutModel",
            "_view_count": null,
            "_view_module": "@jupyter-widgets/base",
            "_view_module_version": "1.2.0",
            "_view_name": "LayoutView",
            "align_content": null,
            "align_items": null,
            "align_self": null,
            "border": null,
            "bottom": null,
            "display": null,
            "flex": null,
            "flex_flow": null,
            "grid_area": null,
            "grid_auto_columns": null,
            "grid_auto_flow": null,
            "grid_auto_rows": null,
            "grid_column": null,
            "grid_gap": null,
            "grid_row": null,
            "grid_template_areas": null,
            "grid_template_columns": null,
            "grid_template_rows": null,
            "height": null,
            "justify_content": null,
            "justify_items": null,
            "left": null,
            "margin": null,
            "max_height": null,
            "max_width": null,
            "min_height": null,
            "min_width": null,
            "object_fit": null,
            "object_position": null,
            "order": null,
            "overflow": null,
            "overflow_x": null,
            "overflow_y": null,
            "padding": null,
            "right": null,
            "top": null,
            "visibility": null,
            "width": null
          }
        },
        "7743501703c34eb7a3002255e8b5a269": {
          "model_module": "@jupyter-widgets/base",
          "model_module_version": "1.2.0",
          "model_name": "LayoutModel",
          "state": {
            "_model_module": "@jupyter-widgets/base",
            "_model_module_version": "1.2.0",
            "_model_name": "LayoutModel",
            "_view_count": null,
            "_view_module": "@jupyter-widgets/base",
            "_view_module_version": "1.2.0",
            "_view_name": "LayoutView",
            "align_content": null,
            "align_items": null,
            "align_self": null,
            "border": null,
            "bottom": null,
            "display": null,
            "flex": null,
            "flex_flow": null,
            "grid_area": null,
            "grid_auto_columns": null,
            "grid_auto_flow": null,
            "grid_auto_rows": null,
            "grid_column": null,
            "grid_gap": null,
            "grid_row": null,
            "grid_template_areas": null,
            "grid_template_columns": null,
            "grid_template_rows": null,
            "height": null,
            "justify_content": null,
            "justify_items": null,
            "left": null,
            "margin": null,
            "max_height": null,
            "max_width": null,
            "min_height": null,
            "min_width": null,
            "object_fit": null,
            "object_position": null,
            "order": null,
            "overflow": null,
            "overflow_x": null,
            "overflow_y": null,
            "padding": null,
            "right": null,
            "top": null,
            "visibility": null,
            "width": null
          }
        },
        "7827c95df8e04a92a9bc6f887df5d037": {
          "model_module": "@jupyter-widgets/controls",
          "model_module_version": "1.5.0",
          "model_name": "DescriptionStyleModel",
          "state": {
            "_model_module": "@jupyter-widgets/controls",
            "_model_module_version": "1.5.0",
            "_model_name": "DescriptionStyleModel",
            "_view_count": null,
            "_view_module": "@jupyter-widgets/base",
            "_view_module_version": "1.2.0",
            "_view_name": "StyleView",
            "description_width": ""
          }
        },
        "7962f4972bf746319c74fb74d9fdd888": {
          "model_module": "@jupyter-widgets/controls",
          "model_module_version": "1.5.0",
          "model_name": "ProgressStyleModel",
          "state": {
            "_model_module": "@jupyter-widgets/controls",
            "_model_module_version": "1.5.0",
            "_model_name": "ProgressStyleModel",
            "_view_count": null,
            "_view_module": "@jupyter-widgets/base",
            "_view_module_version": "1.2.0",
            "_view_name": "StyleView",
            "bar_color": null,
            "description_width": ""
          }
        },
        "7bfde8f26446409bb093bce1381c0731": {
          "model_module": "@jupyter-widgets/controls",
          "model_module_version": "1.5.0",
          "model_name": "DescriptionStyleModel",
          "state": {
            "_model_module": "@jupyter-widgets/controls",
            "_model_module_version": "1.5.0",
            "_model_name": "DescriptionStyleModel",
            "_view_count": null,
            "_view_module": "@jupyter-widgets/base",
            "_view_module_version": "1.2.0",
            "_view_name": "StyleView",
            "description_width": ""
          }
        },
        "7d203017862a44bcbd5588b60db59880": {
          "model_module": "@jupyter-widgets/base",
          "model_module_version": "1.2.0",
          "model_name": "LayoutModel",
          "state": {
            "_model_module": "@jupyter-widgets/base",
            "_model_module_version": "1.2.0",
            "_model_name": "LayoutModel",
            "_view_count": null,
            "_view_module": "@jupyter-widgets/base",
            "_view_module_version": "1.2.0",
            "_view_name": "LayoutView",
            "align_content": null,
            "align_items": null,
            "align_self": null,
            "border": null,
            "bottom": null,
            "display": null,
            "flex": null,
            "flex_flow": null,
            "grid_area": null,
            "grid_auto_columns": null,
            "grid_auto_flow": null,
            "grid_auto_rows": null,
            "grid_column": null,
            "grid_gap": null,
            "grid_row": null,
            "grid_template_areas": null,
            "grid_template_columns": null,
            "grid_template_rows": null,
            "height": null,
            "justify_content": null,
            "justify_items": null,
            "left": null,
            "margin": null,
            "max_height": null,
            "max_width": null,
            "min_height": null,
            "min_width": null,
            "object_fit": null,
            "object_position": null,
            "order": null,
            "overflow": null,
            "overflow_x": null,
            "overflow_y": null,
            "padding": null,
            "right": null,
            "top": null,
            "visibility": null,
            "width": null
          }
        },
        "7ee08530fbc1459c8eab3e31dcedb316": {
          "model_module": "@jupyter-widgets/controls",
          "model_module_version": "1.5.0",
          "model_name": "FloatProgressModel",
          "state": {
            "_dom_classes": [],
            "_model_module": "@jupyter-widgets/controls",
            "_model_module_version": "1.5.0",
            "_model_name": "FloatProgressModel",
            "_view_count": null,
            "_view_module": "@jupyter-widgets/controls",
            "_view_module_version": "1.5.0",
            "_view_name": "ProgressView",
            "bar_style": "danger",
            "description": "",
            "description_tooltip": null,
            "layout": "IPY_MODEL_580a0f4bde5c43dd8143127744a27c42",
            "max": 8,
            "min": 0,
            "orientation": "horizontal",
            "style": "IPY_MODEL_579fd17934e842cfb5d829def3729843",
            "value": 7
          }
        },
        "7fd72d9369814d4c87de2ea7b47f144c": {
          "model_module": "@jupyter-widgets/controls",
          "model_module_version": "1.5.0",
          "model_name": "HTMLModel",
          "state": {
            "_dom_classes": [],
            "_model_module": "@jupyter-widgets/controls",
            "_model_module_version": "1.5.0",
            "_model_name": "HTMLModel",
            "_view_count": null,
            "_view_module": "@jupyter-widgets/controls",
            "_view_module_version": "1.5.0",
            "_view_name": "HTMLView",
            "description": "",
            "description_tooltip": null,
            "layout": "IPY_MODEL_ce6f446d03f14efebf3b9a09a4a63476",
            "placeholder": "​",
            "style": "IPY_MODEL_1e0b173772a641ccad09daae9d75276e",
            "value": "Casting to class labels:  88%"
          }
        },
        "898f1efe2ad94193bdc7a5e9e1618faf": {
          "model_module": "@jupyter-widgets/controls",
          "model_module_version": "1.5.0",
          "model_name": "HBoxModel",
          "state": {
            "_dom_classes": [],
            "_model_module": "@jupyter-widgets/controls",
            "_model_module_version": "1.5.0",
            "_model_name": "HBoxModel",
            "_view_count": null,
            "_view_module": "@jupyter-widgets/controls",
            "_view_module_version": "1.5.0",
            "_view_name": "HBoxView",
            "box_style": "",
            "children": [
              "IPY_MODEL_d34b2fcd18c64eed99f80a1ee3f5928e",
              "IPY_MODEL_f981e83031374b4993ee335797c0e183",
              "IPY_MODEL_af24c072274a476ba3c033bcce92b6e8"
            ],
            "layout": "IPY_MODEL_6a00bb99b6844e2a95b036c47b35b10e"
          }
        },
        "8bc5fa252e894025b72c2a6851173847": {
          "model_module": "@jupyter-widgets/base",
          "model_module_version": "1.2.0",
          "model_name": "LayoutModel",
          "state": {
            "_model_module": "@jupyter-widgets/base",
            "_model_module_version": "1.2.0",
            "_model_name": "LayoutModel",
            "_view_count": null,
            "_view_module": "@jupyter-widgets/base",
            "_view_module_version": "1.2.0",
            "_view_name": "LayoutView",
            "align_content": null,
            "align_items": null,
            "align_self": null,
            "border": null,
            "bottom": null,
            "display": null,
            "flex": null,
            "flex_flow": null,
            "grid_area": null,
            "grid_auto_columns": null,
            "grid_auto_flow": null,
            "grid_auto_rows": null,
            "grid_column": null,
            "grid_gap": null,
            "grid_row": null,
            "grid_template_areas": null,
            "grid_template_columns": null,
            "grid_template_rows": null,
            "height": null,
            "justify_content": null,
            "justify_items": null,
            "left": null,
            "margin": null,
            "max_height": null,
            "max_width": null,
            "min_height": null,
            "min_width": null,
            "object_fit": null,
            "object_position": null,
            "order": null,
            "overflow": null,
            "overflow_x": null,
            "overflow_y": null,
            "padding": null,
            "right": null,
            "top": null,
            "visibility": null,
            "width": null
          }
        },
        "8c8b7aa5a43948c5a65dea47cfb0eb9a": {
          "model_module": "@jupyter-widgets/controls",
          "model_module_version": "1.5.0",
          "model_name": "HTMLModel",
          "state": {
            "_dom_classes": [],
            "_model_module": "@jupyter-widgets/controls",
            "_model_module_version": "1.5.0",
            "_model_name": "HTMLModel",
            "_view_count": null,
            "_view_module": "@jupyter-widgets/controls",
            "_view_module_version": "1.5.0",
            "_view_name": "HTMLView",
            "description": "",
            "description_tooltip": null,
            "layout": "IPY_MODEL_5de7e538488f4122b993c8f58d99d90e",
            "placeholder": "​",
            "style": "IPY_MODEL_4caea73f722d42d8b48984b87ab91316",
            "value": " 1/2 [00:00&lt;00:00,  9.49ba/s]"
          }
        },
        "9334df1e1b8043d09688788cdb359ad4": {
          "model_module": "@jupyter-widgets/base",
          "model_module_version": "1.2.0",
          "model_name": "LayoutModel",
          "state": {
            "_model_module": "@jupyter-widgets/base",
            "_model_module_version": "1.2.0",
            "_model_name": "LayoutModel",
            "_view_count": null,
            "_view_module": "@jupyter-widgets/base",
            "_view_module_version": "1.2.0",
            "_view_name": "LayoutView",
            "align_content": null,
            "align_items": null,
            "align_self": null,
            "border": null,
            "bottom": null,
            "display": null,
            "flex": null,
            "flex_flow": null,
            "grid_area": null,
            "grid_auto_columns": null,
            "grid_auto_flow": null,
            "grid_auto_rows": null,
            "grid_column": null,
            "grid_gap": null,
            "grid_row": null,
            "grid_template_areas": null,
            "grid_template_columns": null,
            "grid_template_rows": null,
            "height": null,
            "justify_content": null,
            "justify_items": null,
            "left": null,
            "margin": null,
            "max_height": null,
            "max_width": null,
            "min_height": null,
            "min_width": null,
            "object_fit": null,
            "object_position": null,
            "order": null,
            "overflow": null,
            "overflow_x": null,
            "overflow_y": null,
            "padding": null,
            "right": null,
            "top": null,
            "visibility": null,
            "width": null
          }
        },
        "969656a91cab446cb3289475498854e6": {
          "model_module": "@jupyter-widgets/controls",
          "model_module_version": "1.5.0",
          "model_name": "DescriptionStyleModel",
          "state": {
            "_model_module": "@jupyter-widgets/controls",
            "_model_module_version": "1.5.0",
            "_model_name": "DescriptionStyleModel",
            "_view_count": null,
            "_view_module": "@jupyter-widgets/base",
            "_view_module_version": "1.2.0",
            "_view_name": "StyleView",
            "description_width": ""
          }
        },
        "97d3feb545054616a182916168d281cb": {
          "model_module": "@jupyter-widgets/controls",
          "model_module_version": "1.5.0",
          "model_name": "HTMLModel",
          "state": {
            "_dom_classes": [],
            "_model_module": "@jupyter-widgets/controls",
            "_model_module_version": "1.5.0",
            "_model_name": "HTMLModel",
            "_view_count": null,
            "_view_module": "@jupyter-widgets/controls",
            "_view_module_version": "1.5.0",
            "_view_name": "HTMLView",
            "description": "",
            "description_tooltip": null,
            "layout": "IPY_MODEL_a6d4e44aeada453ea0777b8334fd4fda",
            "placeholder": "​",
            "style": "IPY_MODEL_cae9b3a956a14586a92a5bf843bcb770",
            "value": " 7/8 [00:00&lt;00:00, 57.43ba/s]"
          }
        },
        "9ac6408cf07248bb8e31479e639ef70c": {
          "model_module": "@jupyter-widgets/base",
          "model_module_version": "1.2.0",
          "model_name": "LayoutModel",
          "state": {
            "_model_module": "@jupyter-widgets/base",
            "_model_module_version": "1.2.0",
            "_model_name": "LayoutModel",
            "_view_count": null,
            "_view_module": "@jupyter-widgets/base",
            "_view_module_version": "1.2.0",
            "_view_name": "LayoutView",
            "align_content": null,
            "align_items": null,
            "align_self": null,
            "border": null,
            "bottom": null,
            "display": null,
            "flex": null,
            "flex_flow": null,
            "grid_area": null,
            "grid_auto_columns": null,
            "grid_auto_flow": null,
            "grid_auto_rows": null,
            "grid_column": null,
            "grid_gap": null,
            "grid_row": null,
            "grid_template_areas": null,
            "grid_template_columns": null,
            "grid_template_rows": null,
            "height": null,
            "justify_content": null,
            "justify_items": null,
            "left": null,
            "margin": null,
            "max_height": null,
            "max_width": null,
            "min_height": null,
            "min_width": null,
            "object_fit": null,
            "object_position": null,
            "order": null,
            "overflow": null,
            "overflow_x": null,
            "overflow_y": null,
            "padding": null,
            "right": null,
            "top": null,
            "visibility": null,
            "width": null
          }
        },
        "9c71a8f43f9a4384964dd998464ab2fc": {
          "model_module": "@jupyter-widgets/controls",
          "model_module_version": "1.5.0",
          "model_name": "HTMLModel",
          "state": {
            "_dom_classes": [],
            "_model_module": "@jupyter-widgets/controls",
            "_model_module_version": "1.5.0",
            "_model_name": "HTMLModel",
            "_view_count": null,
            "_view_module": "@jupyter-widgets/controls",
            "_view_module_version": "1.5.0",
            "_view_name": "HTMLView",
            "description": "",
            "description_tooltip": null,
            "layout": "IPY_MODEL_f836eaa47dba4547ace913f57ecdf068",
            "placeholder": "​",
            "style": "IPY_MODEL_cc29642d973f467fbfd1db551c72bbee",
            "value": "Stringifying the column:  92%"
          }
        },
        "a09a429ae7fe4483ae0af4c9e06896b9": {
          "model_module": "@jupyter-widgets/controls",
          "model_module_version": "1.5.0",
          "model_name": "HTMLModel",
          "state": {
            "_dom_classes": [],
            "_model_module": "@jupyter-widgets/controls",
            "_model_module_version": "1.5.0",
            "_model_name": "HTMLModel",
            "_view_count": null,
            "_view_module": "@jupyter-widgets/controls",
            "_view_module_version": "1.5.0",
            "_view_name": "HTMLView",
            "description": "",
            "description_tooltip": null,
            "layout": "IPY_MODEL_71afedf6d8804ed1b4c70f4865177fb0",
            "placeholder": "​",
            "style": "IPY_MODEL_5cf37b06c8b648668c71ac07bf5fc95e",
            "value": " 7/8 [00:00&lt;00:00, 66.97ba/s]"
          }
        },
        "a3318fd7b9f84de3b80292419d164af2": {
          "model_module": "@jupyter-widgets/base",
          "model_module_version": "1.2.0",
          "model_name": "LayoutModel",
          "state": {
            "_model_module": "@jupyter-widgets/base",
            "_model_module_version": "1.2.0",
            "_model_name": "LayoutModel",
            "_view_count": null,
            "_view_module": "@jupyter-widgets/base",
            "_view_module_version": "1.2.0",
            "_view_name": "LayoutView",
            "align_content": null,
            "align_items": null,
            "align_self": null,
            "border": null,
            "bottom": null,
            "display": null,
            "flex": null,
            "flex_flow": null,
            "grid_area": null,
            "grid_auto_columns": null,
            "grid_auto_flow": null,
            "grid_auto_rows": null,
            "grid_column": null,
            "grid_gap": null,
            "grid_row": null,
            "grid_template_areas": null,
            "grid_template_columns": null,
            "grid_template_rows": null,
            "height": null,
            "justify_content": null,
            "justify_items": null,
            "left": null,
            "margin": null,
            "max_height": null,
            "max_width": null,
            "min_height": null,
            "min_width": null,
            "object_fit": null,
            "object_position": null,
            "order": null,
            "overflow": null,
            "overflow_x": null,
            "overflow_y": null,
            "padding": null,
            "right": null,
            "top": null,
            "visibility": null,
            "width": null
          }
        },
        "a55e5e5b435d4491a702d9d6bf0c8912": {
          "model_module": "@jupyter-widgets/controls",
          "model_module_version": "1.5.0",
          "model_name": "HTMLModel",
          "state": {
            "_dom_classes": [],
            "_model_module": "@jupyter-widgets/controls",
            "_model_module_version": "1.5.0",
            "_model_name": "HTMLModel",
            "_view_count": null,
            "_view_module": "@jupyter-widgets/controls",
            "_view_module_version": "1.5.0",
            "_view_name": "HTMLView",
            "description": "",
            "description_tooltip": null,
            "layout": "IPY_MODEL_26679d6930664b328532572830939822",
            "placeholder": "​",
            "style": "IPY_MODEL_267dad16309d4b05b155847cec8ce38d",
            "value": " 0/1 [00:00&lt;?, ?ba/s]"
          }
        },
        "a5dceacbcca243809520910e9c18d9c3": {
          "model_module": "@jupyter-widgets/base",
          "model_module_version": "1.2.0",
          "model_name": "LayoutModel",
          "state": {
            "_model_module": "@jupyter-widgets/base",
            "_model_module_version": "1.2.0",
            "_model_name": "LayoutModel",
            "_view_count": null,
            "_view_module": "@jupyter-widgets/base",
            "_view_module_version": "1.2.0",
            "_view_name": "LayoutView",
            "align_content": null,
            "align_items": null,
            "align_self": null,
            "border": null,
            "bottom": null,
            "display": null,
            "flex": null,
            "flex_flow": null,
            "grid_area": null,
            "grid_auto_columns": null,
            "grid_auto_flow": null,
            "grid_auto_rows": null,
            "grid_column": null,
            "grid_gap": null,
            "grid_row": null,
            "grid_template_areas": null,
            "grid_template_columns": null,
            "grid_template_rows": null,
            "height": null,
            "justify_content": null,
            "justify_items": null,
            "left": null,
            "margin": null,
            "max_height": null,
            "max_width": null,
            "min_height": null,
            "min_width": null,
            "object_fit": null,
            "object_position": null,
            "order": null,
            "overflow": null,
            "overflow_x": null,
            "overflow_y": null,
            "padding": null,
            "right": null,
            "top": null,
            "visibility": null,
            "width": null
          }
        },
        "a6d4e44aeada453ea0777b8334fd4fda": {
          "model_module": "@jupyter-widgets/base",
          "model_module_version": "1.2.0",
          "model_name": "LayoutModel",
          "state": {
            "_model_module": "@jupyter-widgets/base",
            "_model_module_version": "1.2.0",
            "_model_name": "LayoutModel",
            "_view_count": null,
            "_view_module": "@jupyter-widgets/base",
            "_view_module_version": "1.2.0",
            "_view_name": "LayoutView",
            "align_content": null,
            "align_items": null,
            "align_self": null,
            "border": null,
            "bottom": null,
            "display": null,
            "flex": null,
            "flex_flow": null,
            "grid_area": null,
            "grid_auto_columns": null,
            "grid_auto_flow": null,
            "grid_auto_rows": null,
            "grid_column": null,
            "grid_gap": null,
            "grid_row": null,
            "grid_template_areas": null,
            "grid_template_columns": null,
            "grid_template_rows": null,
            "height": null,
            "justify_content": null,
            "justify_items": null,
            "left": null,
            "margin": null,
            "max_height": null,
            "max_width": null,
            "min_height": null,
            "min_width": null,
            "object_fit": null,
            "object_position": null,
            "order": null,
            "overflow": null,
            "overflow_x": null,
            "overflow_y": null,
            "padding": null,
            "right": null,
            "top": null,
            "visibility": null,
            "width": null
          }
        },
        "a816140ef1f141a7a70f4b979cad9353": {
          "model_module": "@jupyter-widgets/controls",
          "model_module_version": "1.5.0",
          "model_name": "HTMLModel",
          "state": {
            "_dom_classes": [],
            "_model_module": "@jupyter-widgets/controls",
            "_model_module_version": "1.5.0",
            "_model_name": "HTMLModel",
            "_view_count": null,
            "_view_module": "@jupyter-widgets/controls",
            "_view_module_version": "1.5.0",
            "_view_name": "HTMLView",
            "description": "",
            "description_tooltip": null,
            "layout": "IPY_MODEL_cefb14d67b0e43a2ad1bd262aaaf6c8e",
            "placeholder": "​",
            "style": "IPY_MODEL_72afd588903647ff9ad926e5f91dafb9",
            "value": " 91%"
          }
        },
        "af192af14bc84e7b86734020429d68e6": {
          "model_module": "@jupyter-widgets/controls",
          "model_module_version": "1.5.0",
          "model_name": "HBoxModel",
          "state": {
            "_dom_classes": [],
            "_model_module": "@jupyter-widgets/controls",
            "_model_module_version": "1.5.0",
            "_model_name": "HBoxModel",
            "_view_count": null,
            "_view_module": "@jupyter-widgets/controls",
            "_view_module_version": "1.5.0",
            "_view_name": "HBoxView",
            "box_style": "",
            "children": [
              "IPY_MODEL_7fd72d9369814d4c87de2ea7b47f144c",
              "IPY_MODEL_c947f062601347ab92b63d5e42d80732",
              "IPY_MODEL_97d3feb545054616a182916168d281cb"
            ],
            "layout": "IPY_MODEL_e81593a8c134416e823f530e9fc61b31"
          }
        },
        "af24c072274a476ba3c033bcce92b6e8": {
          "model_module": "@jupyter-widgets/controls",
          "model_module_version": "1.5.0",
          "model_name": "HTMLModel",
          "state": {
            "_dom_classes": [],
            "_model_module": "@jupyter-widgets/controls",
            "_model_module_version": "1.5.0",
            "_model_name": "HTMLModel",
            "_view_count": null,
            "_view_module": "@jupyter-widgets/controls",
            "_view_module_version": "1.5.0",
            "_view_name": "HTMLView",
            "description": "",
            "description_tooltip": null,
            "layout": "IPY_MODEL_7d203017862a44bcbd5588b60db59880",
            "placeholder": "​",
            "style": "IPY_MODEL_7bfde8f26446409bb093bce1381c0731",
            "value": " 0/0 [00:00&lt;?, ?it/s]"
          }
        },
        "b00661f016fe4f7d82cbca9989b53e0a": {
          "model_module": "@jupyter-widgets/controls",
          "model_module_version": "1.5.0",
          "model_name": "ProgressStyleModel",
          "state": {
            "_model_module": "@jupyter-widgets/controls",
            "_model_module_version": "1.5.0",
            "_model_name": "ProgressStyleModel",
            "_view_count": null,
            "_view_module": "@jupyter-widgets/base",
            "_view_module_version": "1.2.0",
            "_view_name": "StyleView",
            "bar_color": null,
            "description_width": ""
          }
        },
        "b10e3e7261374f05ab3fbac35da1555b": {
          "model_module": "@jupyter-widgets/controls",
          "model_module_version": "1.5.0",
          "model_name": "FloatProgressModel",
          "state": {
            "_dom_classes": [],
            "_model_module": "@jupyter-widgets/controls",
            "_model_module_version": "1.5.0",
            "_model_name": "FloatProgressModel",
            "_view_count": null,
            "_view_module": "@jupyter-widgets/controls",
            "_view_module_version": "1.5.0",
            "_view_name": "ProgressView",
            "bar_style": "danger",
            "description": "",
            "description_tooltip": null,
            "layout": "IPY_MODEL_6df03e439792411aa807810640a53a3c",
            "max": 1,
            "min": 0,
            "orientation": "horizontal",
            "style": "IPY_MODEL_7962f4972bf746319c74fb74d9fdd888",
            "value": 0
          }
        },
        "b3f3c26860f840b58138da3e2ad0e8f6": {
          "model_module": "@jupyter-widgets/base",
          "model_module_version": "1.2.0",
          "model_name": "LayoutModel",
          "state": {
            "_model_module": "@jupyter-widgets/base",
            "_model_module_version": "1.2.0",
            "_model_name": "LayoutModel",
            "_view_count": null,
            "_view_module": "@jupyter-widgets/base",
            "_view_module_version": "1.2.0",
            "_view_name": "LayoutView",
            "align_content": null,
            "align_items": null,
            "align_self": null,
            "border": null,
            "bottom": null,
            "display": null,
            "flex": null,
            "flex_flow": null,
            "grid_area": null,
            "grid_auto_columns": null,
            "grid_auto_flow": null,
            "grid_auto_rows": null,
            "grid_column": null,
            "grid_gap": null,
            "grid_row": null,
            "grid_template_areas": null,
            "grid_template_columns": null,
            "grid_template_rows": null,
            "height": null,
            "justify_content": null,
            "justify_items": null,
            "left": null,
            "margin": null,
            "max_height": null,
            "max_width": null,
            "min_height": null,
            "min_width": null,
            "object_fit": null,
            "object_position": null,
            "order": null,
            "overflow": null,
            "overflow_x": null,
            "overflow_y": null,
            "padding": null,
            "right": null,
            "top": null,
            "visibility": null,
            "width": null
          }
        },
        "b607066f2b8b4ebbb54f02ff8f9fc6e9": {
          "model_module": "@jupyter-widgets/controls",
          "model_module_version": "1.5.0",
          "model_name": "HTMLModel",
          "state": {
            "_dom_classes": [],
            "_model_module": "@jupyter-widgets/controls",
            "_model_module_version": "1.5.0",
            "_model_name": "HTMLModel",
            "_view_count": null,
            "_view_module": "@jupyter-widgets/controls",
            "_view_module_version": "1.5.0",
            "_view_name": "HTMLView",
            "description": "",
            "description_tooltip": null,
            "layout": "IPY_MODEL_50adc9d49b46452ea5d865958c6eb0fe",
            "placeholder": "​",
            "style": "IPY_MODEL_c1686c9bb8fb4555a361fb50ade1ba63",
            "value": " 11/12 [00:00&lt;00:00, 57.21ba/s]"
          }
        },
        "b67a6145985f45d7ab309bd482146f91": {
          "model_module": "@jupyter-widgets/controls",
          "model_module_version": "1.5.0",
          "model_name": "HBoxModel",
          "state": {
            "_dom_classes": [],
            "_model_module": "@jupyter-widgets/controls",
            "_model_module_version": "1.5.0",
            "_model_name": "HBoxModel",
            "_view_count": null,
            "_view_module": "@jupyter-widgets/controls",
            "_view_module_version": "1.5.0",
            "_view_name": "HBoxView",
            "box_style": "",
            "children": [
              "IPY_MODEL_d29c144246064474838338ad36b77dfc",
              "IPY_MODEL_62d521d150d640a3961f8070fff92cc6",
              "IPY_MODEL_545a7f029dc5434fbfdbdd39e9d16eb7"
            ],
            "layout": "IPY_MODEL_b6cb364e82414559a248454e76a469aa"
          }
        },
        "b6cb364e82414559a248454e76a469aa": {
          "model_module": "@jupyter-widgets/base",
          "model_module_version": "1.2.0",
          "model_name": "LayoutModel",
          "state": {
            "_model_module": "@jupyter-widgets/base",
            "_model_module_version": "1.2.0",
            "_model_name": "LayoutModel",
            "_view_count": null,
            "_view_module": "@jupyter-widgets/base",
            "_view_module_version": "1.2.0",
            "_view_name": "LayoutView",
            "align_content": null,
            "align_items": null,
            "align_self": null,
            "border": null,
            "bottom": null,
            "display": null,
            "flex": null,
            "flex_flow": null,
            "grid_area": null,
            "grid_auto_columns": null,
            "grid_auto_flow": null,
            "grid_auto_rows": null,
            "grid_column": null,
            "grid_gap": null,
            "grid_row": null,
            "grid_template_areas": null,
            "grid_template_columns": null,
            "grid_template_rows": null,
            "height": null,
            "justify_content": null,
            "justify_items": null,
            "left": null,
            "margin": null,
            "max_height": null,
            "max_width": null,
            "min_height": null,
            "min_width": null,
            "object_fit": null,
            "object_position": null,
            "order": null,
            "overflow": null,
            "overflow_x": null,
            "overflow_y": null,
            "padding": null,
            "right": null,
            "top": null,
            "visibility": null,
            "width": null
          }
        },
        "bed66f83b3cf4b07ac240ca181d8e450": {
          "model_module": "@jupyter-widgets/base",
          "model_module_version": "1.2.0",
          "model_name": "LayoutModel",
          "state": {
            "_model_module": "@jupyter-widgets/base",
            "_model_module_version": "1.2.0",
            "_model_name": "LayoutModel",
            "_view_count": null,
            "_view_module": "@jupyter-widgets/base",
            "_view_module_version": "1.2.0",
            "_view_name": "LayoutView",
            "align_content": null,
            "align_items": null,
            "align_self": null,
            "border": null,
            "bottom": null,
            "display": null,
            "flex": null,
            "flex_flow": null,
            "grid_area": null,
            "grid_auto_columns": null,
            "grid_auto_flow": null,
            "grid_auto_rows": null,
            "grid_column": null,
            "grid_gap": null,
            "grid_row": null,
            "grid_template_areas": null,
            "grid_template_columns": null,
            "grid_template_rows": null,
            "height": null,
            "justify_content": null,
            "justify_items": null,
            "left": null,
            "margin": null,
            "max_height": null,
            "max_width": null,
            "min_height": null,
            "min_width": null,
            "object_fit": null,
            "object_position": null,
            "order": null,
            "overflow": null,
            "overflow_x": null,
            "overflow_y": null,
            "padding": null,
            "right": null,
            "top": null,
            "visibility": null,
            "width": null
          }
        },
        "bee420573109476bbabbcb827b48b0e0": {
          "model_module": "@jupyter-widgets/controls",
          "model_module_version": "1.5.0",
          "model_name": "DescriptionStyleModel",
          "state": {
            "_model_module": "@jupyter-widgets/controls",
            "_model_module_version": "1.5.0",
            "_model_name": "DescriptionStyleModel",
            "_view_count": null,
            "_view_module": "@jupyter-widgets/base",
            "_view_module_version": "1.2.0",
            "_view_name": "StyleView",
            "description_width": ""
          }
        },
        "c1686c9bb8fb4555a361fb50ade1ba63": {
          "model_module": "@jupyter-widgets/controls",
          "model_module_version": "1.5.0",
          "model_name": "DescriptionStyleModel",
          "state": {
            "_model_module": "@jupyter-widgets/controls",
            "_model_module_version": "1.5.0",
            "_model_name": "DescriptionStyleModel",
            "_view_count": null,
            "_view_module": "@jupyter-widgets/base",
            "_view_module_version": "1.2.0",
            "_view_name": "StyleView",
            "description_width": ""
          }
        },
        "c399e38357824dfcab93bea70105dc23": {
          "model_module": "@jupyter-widgets/controls",
          "model_module_version": "1.5.0",
          "model_name": "ProgressStyleModel",
          "state": {
            "_model_module": "@jupyter-widgets/controls",
            "_model_module_version": "1.5.0",
            "_model_name": "ProgressStyleModel",
            "_view_count": null,
            "_view_module": "@jupyter-widgets/base",
            "_view_module_version": "1.2.0",
            "_view_name": "StyleView",
            "bar_color": null,
            "description_width": ""
          }
        },
        "c3c94bccacda4aa6a8fce467699fdf10": {
          "model_module": "@jupyter-widgets/base",
          "model_module_version": "1.2.0",
          "model_name": "LayoutModel",
          "state": {
            "_model_module": "@jupyter-widgets/base",
            "_model_module_version": "1.2.0",
            "_model_name": "LayoutModel",
            "_view_count": null,
            "_view_module": "@jupyter-widgets/base",
            "_view_module_version": "1.2.0",
            "_view_name": "LayoutView",
            "align_content": null,
            "align_items": null,
            "align_self": null,
            "border": null,
            "bottom": null,
            "display": null,
            "flex": null,
            "flex_flow": null,
            "grid_area": null,
            "grid_auto_columns": null,
            "grid_auto_flow": null,
            "grid_auto_rows": null,
            "grid_column": null,
            "grid_gap": null,
            "grid_row": null,
            "grid_template_areas": null,
            "grid_template_columns": null,
            "grid_template_rows": null,
            "height": null,
            "justify_content": null,
            "justify_items": null,
            "left": null,
            "margin": null,
            "max_height": null,
            "max_width": null,
            "min_height": null,
            "min_width": null,
            "object_fit": null,
            "object_position": null,
            "order": null,
            "overflow": null,
            "overflow_x": null,
            "overflow_y": null,
            "padding": null,
            "right": null,
            "top": null,
            "visibility": null,
            "width": null
          }
        },
        "c82fee80d24f4b4b9cda72b38701618c": {
          "model_module": "@jupyter-widgets/base",
          "model_module_version": "1.2.0",
          "model_name": "LayoutModel",
          "state": {
            "_model_module": "@jupyter-widgets/base",
            "_model_module_version": "1.2.0",
            "_model_name": "LayoutModel",
            "_view_count": null,
            "_view_module": "@jupyter-widgets/base",
            "_view_module_version": "1.2.0",
            "_view_name": "LayoutView",
            "align_content": null,
            "align_items": null,
            "align_self": null,
            "border": null,
            "bottom": null,
            "display": null,
            "flex": null,
            "flex_flow": null,
            "grid_area": null,
            "grid_auto_columns": null,
            "grid_auto_flow": null,
            "grid_auto_rows": null,
            "grid_column": null,
            "grid_gap": null,
            "grid_row": null,
            "grid_template_areas": null,
            "grid_template_columns": null,
            "grid_template_rows": null,
            "height": null,
            "justify_content": null,
            "justify_items": null,
            "left": null,
            "margin": null,
            "max_height": null,
            "max_width": null,
            "min_height": null,
            "min_width": null,
            "object_fit": null,
            "object_position": null,
            "order": null,
            "overflow": null,
            "overflow_x": null,
            "overflow_y": null,
            "padding": null,
            "right": null,
            "top": null,
            "visibility": null,
            "width": null
          }
        },
        "c947f062601347ab92b63d5e42d80732": {
          "model_module": "@jupyter-widgets/controls",
          "model_module_version": "1.5.0",
          "model_name": "FloatProgressModel",
          "state": {
            "_dom_classes": [],
            "_model_module": "@jupyter-widgets/controls",
            "_model_module_version": "1.5.0",
            "_model_name": "FloatProgressModel",
            "_view_count": null,
            "_view_module": "@jupyter-widgets/controls",
            "_view_module_version": "1.5.0",
            "_view_name": "ProgressView",
            "bar_style": "danger",
            "description": "",
            "description_tooltip": null,
            "layout": "IPY_MODEL_52e3ab97764c4ed98184e2cad388ca22",
            "max": 8,
            "min": 0,
            "orientation": "horizontal",
            "style": "IPY_MODEL_dbdca39db4394395bdb820e006abd50c",
            "value": 7
          }
        },
        "cadc2cdf7054483381d563b80cf3e1ac": {
          "model_module": "@jupyter-widgets/base",
          "model_module_version": "1.2.0",
          "model_name": "LayoutModel",
          "state": {
            "_model_module": "@jupyter-widgets/base",
            "_model_module_version": "1.2.0",
            "_model_name": "LayoutModel",
            "_view_count": null,
            "_view_module": "@jupyter-widgets/base",
            "_view_module_version": "1.2.0",
            "_view_name": "LayoutView",
            "align_content": null,
            "align_items": null,
            "align_self": null,
            "border": null,
            "bottom": null,
            "display": null,
            "flex": null,
            "flex_flow": null,
            "grid_area": null,
            "grid_auto_columns": null,
            "grid_auto_flow": null,
            "grid_auto_rows": null,
            "grid_column": null,
            "grid_gap": null,
            "grid_row": null,
            "grid_template_areas": null,
            "grid_template_columns": null,
            "grid_template_rows": null,
            "height": null,
            "justify_content": null,
            "justify_items": null,
            "left": null,
            "margin": null,
            "max_height": null,
            "max_width": null,
            "min_height": null,
            "min_width": null,
            "object_fit": null,
            "object_position": null,
            "order": null,
            "overflow": null,
            "overflow_x": null,
            "overflow_y": null,
            "padding": null,
            "right": null,
            "top": null,
            "visibility": null,
            "width": null
          }
        },
        "cae9b3a956a14586a92a5bf843bcb770": {
          "model_module": "@jupyter-widgets/controls",
          "model_module_version": "1.5.0",
          "model_name": "DescriptionStyleModel",
          "state": {
            "_model_module": "@jupyter-widgets/controls",
            "_model_module_version": "1.5.0",
            "_model_name": "DescriptionStyleModel",
            "_view_count": null,
            "_view_module": "@jupyter-widgets/base",
            "_view_module_version": "1.2.0",
            "_view_name": "StyleView",
            "description_width": ""
          }
        },
        "cc29642d973f467fbfd1db551c72bbee": {
          "model_module": "@jupyter-widgets/controls",
          "model_module_version": "1.5.0",
          "model_name": "DescriptionStyleModel",
          "state": {
            "_model_module": "@jupyter-widgets/controls",
            "_model_module_version": "1.5.0",
            "_model_name": "DescriptionStyleModel",
            "_view_count": null,
            "_view_module": "@jupyter-widgets/base",
            "_view_module_version": "1.2.0",
            "_view_name": "StyleView",
            "description_width": ""
          }
        },
        "ce2bc08fec7c454c902acd82c7ac9399": {
          "model_module": "@jupyter-widgets/controls",
          "model_module_version": "1.5.0",
          "model_name": "ProgressStyleModel",
          "state": {
            "_model_module": "@jupyter-widgets/controls",
            "_model_module_version": "1.5.0",
            "_model_name": "ProgressStyleModel",
            "_view_count": null,
            "_view_module": "@jupyter-widgets/base",
            "_view_module_version": "1.2.0",
            "_view_name": "StyleView",
            "bar_color": null,
            "description_width": ""
          }
        },
        "ce6f446d03f14efebf3b9a09a4a63476": {
          "model_module": "@jupyter-widgets/base",
          "model_module_version": "1.2.0",
          "model_name": "LayoutModel",
          "state": {
            "_model_module": "@jupyter-widgets/base",
            "_model_module_version": "1.2.0",
            "_model_name": "LayoutModel",
            "_view_count": null,
            "_view_module": "@jupyter-widgets/base",
            "_view_module_version": "1.2.0",
            "_view_name": "LayoutView",
            "align_content": null,
            "align_items": null,
            "align_self": null,
            "border": null,
            "bottom": null,
            "display": null,
            "flex": null,
            "flex_flow": null,
            "grid_area": null,
            "grid_auto_columns": null,
            "grid_auto_flow": null,
            "grid_auto_rows": null,
            "grid_column": null,
            "grid_gap": null,
            "grid_row": null,
            "grid_template_areas": null,
            "grid_template_columns": null,
            "grid_template_rows": null,
            "height": null,
            "justify_content": null,
            "justify_items": null,
            "left": null,
            "margin": null,
            "max_height": null,
            "max_width": null,
            "min_height": null,
            "min_width": null,
            "object_fit": null,
            "object_position": null,
            "order": null,
            "overflow": null,
            "overflow_x": null,
            "overflow_y": null,
            "padding": null,
            "right": null,
            "top": null,
            "visibility": null,
            "width": null
          }
        },
        "ceec4b7f80be489e90d67e39786605c5": {
          "model_module": "@jupyter-widgets/controls",
          "model_module_version": "1.5.0",
          "model_name": "DescriptionStyleModel",
          "state": {
            "_model_module": "@jupyter-widgets/controls",
            "_model_module_version": "1.5.0",
            "_model_name": "DescriptionStyleModel",
            "_view_count": null,
            "_view_module": "@jupyter-widgets/base",
            "_view_module_version": "1.2.0",
            "_view_name": "StyleView",
            "description_width": ""
          }
        },
        "cefb14d67b0e43a2ad1bd262aaaf6c8e": {
          "model_module": "@jupyter-widgets/base",
          "model_module_version": "1.2.0",
          "model_name": "LayoutModel",
          "state": {
            "_model_module": "@jupyter-widgets/base",
            "_model_module_version": "1.2.0",
            "_model_name": "LayoutModel",
            "_view_count": null,
            "_view_module": "@jupyter-widgets/base",
            "_view_module_version": "1.2.0",
            "_view_name": "LayoutView",
            "align_content": null,
            "align_items": null,
            "align_self": null,
            "border": null,
            "bottom": null,
            "display": null,
            "flex": null,
            "flex_flow": null,
            "grid_area": null,
            "grid_auto_columns": null,
            "grid_auto_flow": null,
            "grid_auto_rows": null,
            "grid_column": null,
            "grid_gap": null,
            "grid_row": null,
            "grid_template_areas": null,
            "grid_template_columns": null,
            "grid_template_rows": null,
            "height": null,
            "justify_content": null,
            "justify_items": null,
            "left": null,
            "margin": null,
            "max_height": null,
            "max_width": null,
            "min_height": null,
            "min_width": null,
            "object_fit": null,
            "object_position": null,
            "order": null,
            "overflow": null,
            "overflow_x": null,
            "overflow_y": null,
            "padding": null,
            "right": null,
            "top": null,
            "visibility": null,
            "width": null
          }
        },
        "d0514d110f644f18b219d7025fe8a4e2": {
          "model_module": "@jupyter-widgets/base",
          "model_module_version": "1.2.0",
          "model_name": "LayoutModel",
          "state": {
            "_model_module": "@jupyter-widgets/base",
            "_model_module_version": "1.2.0",
            "_model_name": "LayoutModel",
            "_view_count": null,
            "_view_module": "@jupyter-widgets/base",
            "_view_module_version": "1.2.0",
            "_view_name": "LayoutView",
            "align_content": null,
            "align_items": null,
            "align_self": null,
            "border": null,
            "bottom": null,
            "display": null,
            "flex": null,
            "flex_flow": null,
            "grid_area": null,
            "grid_auto_columns": null,
            "grid_auto_flow": null,
            "grid_auto_rows": null,
            "grid_column": null,
            "grid_gap": null,
            "grid_row": null,
            "grid_template_areas": null,
            "grid_template_columns": null,
            "grid_template_rows": null,
            "height": null,
            "justify_content": null,
            "justify_items": null,
            "left": null,
            "margin": null,
            "max_height": null,
            "max_width": null,
            "min_height": null,
            "min_width": null,
            "object_fit": null,
            "object_position": null,
            "order": null,
            "overflow": null,
            "overflow_x": null,
            "overflow_y": null,
            "padding": null,
            "right": null,
            "top": null,
            "visibility": null,
            "width": null
          }
        },
        "d29c144246064474838338ad36b77dfc": {
          "model_module": "@jupyter-widgets/controls",
          "model_module_version": "1.5.0",
          "model_name": "HTMLModel",
          "state": {
            "_dom_classes": [],
            "_model_module": "@jupyter-widgets/controls",
            "_model_module_version": "1.5.0",
            "_model_name": "HTMLModel",
            "_view_count": null,
            "_view_module": "@jupyter-widgets/controls",
            "_view_module_version": "1.5.0",
            "_view_name": "HTMLView",
            "description": "",
            "description_tooltip": null,
            "layout": "IPY_MODEL_f1d3e625e48e4863b185d24902699d4e",
            "placeholder": "​",
            "style": "IPY_MODEL_61a5767afdbb4b2fb0da25ae784c5310",
            "value": "Downloading: 100%"
          }
        },
        "d2cbbac0771e49e4a2fe3b09bdb946b0": {
          "model_module": "@jupyter-widgets/controls",
          "model_module_version": "1.5.0",
          "model_name": "DescriptionStyleModel",
          "state": {
            "_model_module": "@jupyter-widgets/controls",
            "_model_module_version": "1.5.0",
            "_model_name": "DescriptionStyleModel",
            "_view_count": null,
            "_view_module": "@jupyter-widgets/base",
            "_view_module_version": "1.2.0",
            "_view_name": "StyleView",
            "description_width": ""
          }
        },
        "d34b2fcd18c64eed99f80a1ee3f5928e": {
          "model_module": "@jupyter-widgets/controls",
          "model_module_version": "1.5.0",
          "model_name": "HTMLModel",
          "state": {
            "_dom_classes": [],
            "_model_module": "@jupyter-widgets/controls",
            "_model_module_version": "1.5.0",
            "_model_name": "HTMLModel",
            "_view_count": null,
            "_view_module": "@jupyter-widgets/controls",
            "_view_module_version": "1.5.0",
            "_view_name": "HTMLView",
            "description": "",
            "description_tooltip": null,
            "layout": "IPY_MODEL_c3c94bccacda4aa6a8fce467699fdf10",
            "placeholder": "​",
            "style": "IPY_MODEL_52b7e32d537f4bcaac005847e37c16cd",
            "value": ""
          }
        },
        "d49b8bafd2ad4660853ee023c78f5236": {
          "model_module": "@jupyter-widgets/controls",
          "model_module_version": "1.5.0",
          "model_name": "ProgressStyleModel",
          "state": {
            "_model_module": "@jupyter-widgets/controls",
            "_model_module_version": "1.5.0",
            "_model_name": "ProgressStyleModel",
            "_view_count": null,
            "_view_module": "@jupyter-widgets/base",
            "_view_module_version": "1.2.0",
            "_view_name": "StyleView",
            "bar_color": null,
            "description_width": ""
          }
        },
        "d4a46687e71a497bbe363242b82132f3": {
          "model_module": "@jupyter-widgets/base",
          "model_module_version": "1.2.0",
          "model_name": "LayoutModel",
          "state": {
            "_model_module": "@jupyter-widgets/base",
            "_model_module_version": "1.2.0",
            "_model_name": "LayoutModel",
            "_view_count": null,
            "_view_module": "@jupyter-widgets/base",
            "_view_module_version": "1.2.0",
            "_view_name": "LayoutView",
            "align_content": null,
            "align_items": null,
            "align_self": null,
            "border": null,
            "bottom": null,
            "display": null,
            "flex": null,
            "flex_flow": null,
            "grid_area": null,
            "grid_auto_columns": null,
            "grid_auto_flow": null,
            "grid_auto_rows": null,
            "grid_column": null,
            "grid_gap": null,
            "grid_row": null,
            "grid_template_areas": null,
            "grid_template_columns": null,
            "grid_template_rows": null,
            "height": null,
            "justify_content": null,
            "justify_items": null,
            "left": null,
            "margin": null,
            "max_height": null,
            "max_width": null,
            "min_height": null,
            "min_width": null,
            "object_fit": null,
            "object_position": null,
            "order": null,
            "overflow": null,
            "overflow_x": null,
            "overflow_y": null,
            "padding": null,
            "right": null,
            "top": null,
            "visibility": null,
            "width": null
          }
        },
        "d6675a2db7d840a096daf445155deb85": {
          "model_module": "@jupyter-widgets/controls",
          "model_module_version": "1.5.0",
          "model_name": "FloatProgressModel",
          "state": {
            "_dom_classes": [],
            "_model_module": "@jupyter-widgets/controls",
            "_model_module_version": "1.5.0",
            "_model_name": "FloatProgressModel",
            "_view_count": null,
            "_view_module": "@jupyter-widgets/controls",
            "_view_module_version": "1.5.0",
            "_view_name": "ProgressView",
            "bar_style": "danger",
            "description": "",
            "description_tooltip": null,
            "layout": "IPY_MODEL_60bd4593507543db96d1631f074e533a",
            "max": 12,
            "min": 0,
            "orientation": "horizontal",
            "style": "IPY_MODEL_c399e38357824dfcab93bea70105dc23",
            "value": 11
          }
        },
        "d77dcf52bd7347bfb0ee810c7a1e0445": {
          "model_module": "@jupyter-widgets/controls",
          "model_module_version": "1.5.0",
          "model_name": "HBoxModel",
          "state": {
            "_dom_classes": [],
            "_model_module": "@jupyter-widgets/controls",
            "_model_module_version": "1.5.0",
            "_model_name": "HBoxModel",
            "_view_count": null,
            "_view_module": "@jupyter-widgets/controls",
            "_view_module_version": "1.5.0",
            "_view_name": "HBoxView",
            "box_style": "",
            "children": [
              "IPY_MODEL_39f3871b37b545e6a88f25bc09017e11",
              "IPY_MODEL_4c209e4d0447415bbf3102ec3d6df341",
              "IPY_MODEL_1ffedb69cb5c48d98c315cd3cc052d5b"
            ],
            "layout": "IPY_MODEL_6590cd22cd094f979faaddf023a37d5e"
          }
        },
        "db65a5e36dc04958adfedb5b201c50a2": {
          "model_module": "@jupyter-widgets/controls",
          "model_module_version": "1.5.0",
          "model_name": "DescriptionStyleModel",
          "state": {
            "_model_module": "@jupyter-widgets/controls",
            "_model_module_version": "1.5.0",
            "_model_name": "DescriptionStyleModel",
            "_view_count": null,
            "_view_module": "@jupyter-widgets/base",
            "_view_module_version": "1.2.0",
            "_view_name": "StyleView",
            "description_width": ""
          }
        },
        "dbdca39db4394395bdb820e006abd50c": {
          "model_module": "@jupyter-widgets/controls",
          "model_module_version": "1.5.0",
          "model_name": "ProgressStyleModel",
          "state": {
            "_model_module": "@jupyter-widgets/controls",
            "_model_module_version": "1.5.0",
            "_model_name": "ProgressStyleModel",
            "_view_count": null,
            "_view_module": "@jupyter-widgets/base",
            "_view_module_version": "1.2.0",
            "_view_name": "StyleView",
            "bar_color": null,
            "description_width": ""
          }
        },
        "de102c7c2762467a946167ab046cde5d": {
          "model_module": "@jupyter-widgets/controls",
          "model_module_version": "1.5.0",
          "model_name": "HTMLModel",
          "state": {
            "_dom_classes": [],
            "_model_module": "@jupyter-widgets/controls",
            "_model_module_version": "1.5.0",
            "_model_name": "HTMLModel",
            "_view_count": null,
            "_view_module": "@jupyter-widgets/controls",
            "_view_module_version": "1.5.0",
            "_view_name": "HTMLView",
            "description": "",
            "description_tooltip": null,
            "layout": "IPY_MODEL_a5dceacbcca243809520910e9c18d9c3",
            "placeholder": "​",
            "style": "IPY_MODEL_db65a5e36dc04958adfedb5b201c50a2",
            "value": " 50%"
          }
        },
        "e81593a8c134416e823f530e9fc61b31": {
          "model_module": "@jupyter-widgets/base",
          "model_module_version": "1.2.0",
          "model_name": "LayoutModel",
          "state": {
            "_model_module": "@jupyter-widgets/base",
            "_model_module_version": "1.2.0",
            "_model_name": "LayoutModel",
            "_view_count": null,
            "_view_module": "@jupyter-widgets/base",
            "_view_module_version": "1.2.0",
            "_view_name": "LayoutView",
            "align_content": null,
            "align_items": null,
            "align_self": null,
            "border": null,
            "bottom": null,
            "display": null,
            "flex": null,
            "flex_flow": null,
            "grid_area": null,
            "grid_auto_columns": null,
            "grid_auto_flow": null,
            "grid_auto_rows": null,
            "grid_column": null,
            "grid_gap": null,
            "grid_row": null,
            "grid_template_areas": null,
            "grid_template_columns": null,
            "grid_template_rows": null,
            "height": null,
            "justify_content": null,
            "justify_items": null,
            "left": null,
            "margin": null,
            "max_height": null,
            "max_width": null,
            "min_height": null,
            "min_width": null,
            "object_fit": null,
            "object_position": null,
            "order": null,
            "overflow": null,
            "overflow_x": null,
            "overflow_y": null,
            "padding": null,
            "right": null,
            "top": null,
            "visibility": null,
            "width": null
          }
        },
        "ecd8bc24d95c4769bdd33deb7cd7b1c0": {
          "model_module": "@jupyter-widgets/controls",
          "model_module_version": "1.5.0",
          "model_name": "HTMLModel",
          "state": {
            "_dom_classes": [],
            "_model_module": "@jupyter-widgets/controls",
            "_model_module_version": "1.5.0",
            "_model_name": "HTMLModel",
            "_view_count": null,
            "_view_module": "@jupyter-widgets/controls",
            "_view_module_version": "1.5.0",
            "_view_name": "HTMLView",
            "description": "",
            "description_tooltip": null,
            "layout": "IPY_MODEL_b3f3c26860f840b58138da3e2ad0e8f6",
            "placeholder": "​",
            "style": "IPY_MODEL_d2cbbac0771e49e4a2fe3b09bdb946b0",
            "value": "Casting the dataset:   0%"
          }
        },
        "ed2baf6a482943e1b15422b71f8804cb": {
          "model_module": "@jupyter-widgets/controls",
          "model_module_version": "1.5.0",
          "model_name": "HBoxModel",
          "state": {
            "_dom_classes": [],
            "_model_module": "@jupyter-widgets/controls",
            "_model_module_version": "1.5.0",
            "_model_name": "HBoxModel",
            "_view_count": null,
            "_view_module": "@jupyter-widgets/controls",
            "_view_module_version": "1.5.0",
            "_view_name": "HBoxView",
            "box_style": "",
            "children": [
              "IPY_MODEL_2fd7303a8abe447dac7c37bf1fa96024",
              "IPY_MODEL_7ee08530fbc1459c8eab3e31dcedb316",
              "IPY_MODEL_a09a429ae7fe4483ae0af4c9e06896b9"
            ],
            "layout": "IPY_MODEL_a3318fd7b9f84de3b80292419d164af2"
          }
        },
        "eea1ec2a27a64515b387a00395e545a1": {
          "model_module": "@jupyter-widgets/controls",
          "model_module_version": "1.5.0",
          "model_name": "DescriptionStyleModel",
          "state": {
            "_model_module": "@jupyter-widgets/controls",
            "_model_module_version": "1.5.0",
            "_model_name": "DescriptionStyleModel",
            "_view_count": null,
            "_view_module": "@jupyter-widgets/base",
            "_view_module_version": "1.2.0",
            "_view_name": "StyleView",
            "description_width": ""
          }
        },
        "eec528a42e3543609a2d73bdb1171ff5": {
          "model_module": "@jupyter-widgets/base",
          "model_module_version": "1.2.0",
          "model_name": "LayoutModel",
          "state": {
            "_model_module": "@jupyter-widgets/base",
            "_model_module_version": "1.2.0",
            "_model_name": "LayoutModel",
            "_view_count": null,
            "_view_module": "@jupyter-widgets/base",
            "_view_module_version": "1.2.0",
            "_view_name": "LayoutView",
            "align_content": null,
            "align_items": null,
            "align_self": null,
            "border": null,
            "bottom": null,
            "display": null,
            "flex": null,
            "flex_flow": null,
            "grid_area": null,
            "grid_auto_columns": null,
            "grid_auto_flow": null,
            "grid_auto_rows": null,
            "grid_column": null,
            "grid_gap": null,
            "grid_row": null,
            "grid_template_areas": null,
            "grid_template_columns": null,
            "grid_template_rows": null,
            "height": null,
            "justify_content": null,
            "justify_items": null,
            "left": null,
            "margin": null,
            "max_height": null,
            "max_width": null,
            "min_height": null,
            "min_width": null,
            "object_fit": null,
            "object_position": null,
            "order": null,
            "overflow": null,
            "overflow_x": null,
            "overflow_y": null,
            "padding": null,
            "right": null,
            "top": null,
            "visibility": null,
            "width": null
          }
        },
        "f1d3e625e48e4863b185d24902699d4e": {
          "model_module": "@jupyter-widgets/base",
          "model_module_version": "1.2.0",
          "model_name": "LayoutModel",
          "state": {
            "_model_module": "@jupyter-widgets/base",
            "_model_module_version": "1.2.0",
            "_model_name": "LayoutModel",
            "_view_count": null,
            "_view_module": "@jupyter-widgets/base",
            "_view_module_version": "1.2.0",
            "_view_name": "LayoutView",
            "align_content": null,
            "align_items": null,
            "align_self": null,
            "border": null,
            "bottom": null,
            "display": null,
            "flex": null,
            "flex_flow": null,
            "grid_area": null,
            "grid_auto_columns": null,
            "grid_auto_flow": null,
            "grid_auto_rows": null,
            "grid_column": null,
            "grid_gap": null,
            "grid_row": null,
            "grid_template_areas": null,
            "grid_template_columns": null,
            "grid_template_rows": null,
            "height": null,
            "justify_content": null,
            "justify_items": null,
            "left": null,
            "margin": null,
            "max_height": null,
            "max_width": null,
            "min_height": null,
            "min_width": null,
            "object_fit": null,
            "object_position": null,
            "order": null,
            "overflow": null,
            "overflow_x": null,
            "overflow_y": null,
            "padding": null,
            "right": null,
            "top": null,
            "visibility": null,
            "width": null
          }
        },
        "f836eaa47dba4547ace913f57ecdf068": {
          "model_module": "@jupyter-widgets/base",
          "model_module_version": "1.2.0",
          "model_name": "LayoutModel",
          "state": {
            "_model_module": "@jupyter-widgets/base",
            "_model_module_version": "1.2.0",
            "_model_name": "LayoutModel",
            "_view_count": null,
            "_view_module": "@jupyter-widgets/base",
            "_view_module_version": "1.2.0",
            "_view_name": "LayoutView",
            "align_content": null,
            "align_items": null,
            "align_self": null,
            "border": null,
            "bottom": null,
            "display": null,
            "flex": null,
            "flex_flow": null,
            "grid_area": null,
            "grid_auto_columns": null,
            "grid_auto_flow": null,
            "grid_auto_rows": null,
            "grid_column": null,
            "grid_gap": null,
            "grid_row": null,
            "grid_template_areas": null,
            "grid_template_columns": null,
            "grid_template_rows": null,
            "height": null,
            "justify_content": null,
            "justify_items": null,
            "left": null,
            "margin": null,
            "max_height": null,
            "max_width": null,
            "min_height": null,
            "min_width": null,
            "object_fit": null,
            "object_position": null,
            "order": null,
            "overflow": null,
            "overflow_x": null,
            "overflow_y": null,
            "padding": null,
            "right": null,
            "top": null,
            "visibility": null,
            "width": null
          }
        },
        "f981e83031374b4993ee335797c0e183": {
          "model_module": "@jupyter-widgets/controls",
          "model_module_version": "1.5.0",
          "model_name": "FloatProgressModel",
          "state": {
            "_dom_classes": [],
            "_model_module": "@jupyter-widgets/controls",
            "_model_module_version": "1.5.0",
            "_model_name": "FloatProgressModel",
            "_view_count": null,
            "_view_module": "@jupyter-widgets/controls",
            "_view_module_version": "1.5.0",
            "_view_name": "ProgressView",
            "bar_style": "success",
            "description": "",
            "description_tooltip": null,
            "layout": "IPY_MODEL_3cb7def7a35d4b7e8a1ae0a68ecb9825",
            "max": 1,
            "min": 0,
            "orientation": "horizontal",
            "style": "IPY_MODEL_25d88605786a49b2aa8ac2ff897f70ed",
            "value": 0
          }
        },
        "fa8039637b7640569de9e65289149390": {
          "model_module": "@jupyter-widgets/controls",
          "model_module_version": "1.5.0",
          "model_name": "ProgressStyleModel",
          "state": {
            "_model_module": "@jupyter-widgets/controls",
            "_model_module_version": "1.5.0",
            "_model_name": "ProgressStyleModel",
            "_view_count": null,
            "_view_module": "@jupyter-widgets/base",
            "_view_module_version": "1.2.0",
            "_view_name": "StyleView",
            "bar_color": null,
            "description_width": ""
          }
        },
        "fb7bb4ffb3d54d96be05bf2280bbd899": {
          "model_module": "@jupyter-widgets/controls",
          "model_module_version": "1.5.0",
          "model_name": "FloatProgressModel",
          "state": {
            "_dom_classes": [],
            "_model_module": "@jupyter-widgets/controls",
            "_model_module_version": "1.5.0",
            "_model_name": "FloatProgressModel",
            "_view_count": null,
            "_view_module": "@jupyter-widgets/controls",
            "_view_module_version": "1.5.0",
            "_view_name": "ProgressView",
            "bar_style": "danger",
            "description": "",
            "description_tooltip": null,
            "layout": "IPY_MODEL_bed66f83b3cf4b07ac240ca181d8e450",
            "max": 2,
            "min": 0,
            "orientation": "horizontal",
            "style": "IPY_MODEL_b00661f016fe4f7d82cbca9989b53e0a",
            "value": 1
          }
        },
        "fea87187ec9b478889f940897e51f41f": {
          "model_module": "@jupyter-widgets/base",
          "model_module_version": "1.2.0",
          "model_name": "LayoutModel",
          "state": {
            "_model_module": "@jupyter-widgets/base",
            "_model_module_version": "1.2.0",
            "_model_name": "LayoutModel",
            "_view_count": null,
            "_view_module": "@jupyter-widgets/base",
            "_view_module_version": "1.2.0",
            "_view_name": "LayoutView",
            "align_content": null,
            "align_items": null,
            "align_self": null,
            "border": null,
            "bottom": null,
            "display": null,
            "flex": null,
            "flex_flow": null,
            "grid_area": null,
            "grid_auto_columns": null,
            "grid_auto_flow": null,
            "grid_auto_rows": null,
            "grid_column": null,
            "grid_gap": null,
            "grid_row": null,
            "grid_template_areas": null,
            "grid_template_columns": null,
            "grid_template_rows": null,
            "height": null,
            "justify_content": null,
            "justify_items": null,
            "left": null,
            "margin": null,
            "max_height": null,
            "max_width": null,
            "min_height": null,
            "min_width": null,
            "object_fit": null,
            "object_position": null,
            "order": null,
            "overflow": null,
            "overflow_x": null,
            "overflow_y": null,
            "padding": null,
            "right": null,
            "top": null,
            "visibility": null,
            "width": null
          }
        }
      }
    }
  },
  "nbformat": 4,
  "nbformat_minor": 5
}
