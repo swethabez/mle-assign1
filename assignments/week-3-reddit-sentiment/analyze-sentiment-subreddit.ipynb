{
 "cells": [
  {
   "cell_type": "markdown",
   "metadata": {},
   "source": [
    "<p align = \"center\" draggable=”false” ><img src=\"https://user-images.githubusercontent.com/37101144/161836199-fdb0219d-0361-4988-bf26-48b0fad160a3.png\" \n",
    "     width=\"200px\"\n",
    "     height=\"auto\"/>\n",
    "</p>"
   ]
  },
  {
   "cell_type": "markdown",
   "metadata": {},
   "source": [
    "# <h1 align=\"center\" id=\"heading\">Sentiment Analysis of Reddit Data using Reddit API</h1>"
   ]
  },
  {
   "cell_type": "markdown",
   "metadata": {},
   "source": [
    "In this live coding session, we leverage the Python Reddit API Wrapper (`PRAW`) to retrieve data from subreddits on [Reddit](https://www.reddit.com), and perform sentiment analysis using [`pipelines`](https://huggingface.co/docs/transformers/main_classes/pipelines) from [HuggingFace ( 🤗 the GitHub of Machine Learning )](https://techcrunch.com/2022/05/09/hugging-face-reaches-2-billion-valuation-to-build-the-github-of-machine-learning/), powered by [transformer](https://arxiv.org/pdf/1706.03762.pdf)."
   ]
  },
  {
   "cell_type": "markdown",
   "metadata": {},
   "source": [
    "## Objectives"
   ]
  },
  {
   "cell_type": "markdown",
   "metadata": {},
   "source": [
    "At the end of the session, you will "
   ]
  },
  {
   "cell_type": "markdown",
   "metadata": {},
   "source": [
    "- know how to work with APIs\n",
    "- feel more comfortable navigating thru documentation, even inspecting the source code\n",
    "- understand what a `pipeline` object is in HuggingFace\n",
    "- perform sentiment analysis using `pipeline`\n",
    "- run a python script in command line and get the results"
   ]
  },
  {
   "cell_type": "markdown",
   "metadata": {
    "heading_collapsed": true
   },
   "source": [
    "## How to Submit"
   ]
  },
  {
   "cell_type": "markdown",
   "metadata": {},
   "source": [
    "- At the end of each task, commit* the work into the repository you created before the assignment\n",
    "- After completing all three tasks, make sure to push the notebook containing all code blocks and output cells to your repository you created before the assignment\n",
    "- Submit the link to the notebook in Canvas"
   ]
  },
  {
   "cell_type": "markdown",
   "metadata": {
    "hidden": true
   },
   "source": [
    "\\***NEVER** commit a notebook displaying errors unless it is instructed otherwise. However, commit often; recall git ABC = **A**lways **B**e **C**ommitting."
   ]
  },
  {
   "cell_type": "markdown",
   "metadata": {},
   "source": [
    "## Tasks"
   ]
  },
  {
   "cell_type": "markdown",
   "metadata": {
    "heading_collapsed": true
   },
   "source": [
    "### Task I: Instantiate a Reddit API Object"
   ]
  },
  {
   "cell_type": "markdown",
   "metadata": {
    "hidden": true
   },
   "source": [
    "The first task is to instantiate a Reddit API object using [PRAW](https://praw.readthedocs.io/en/stable/), through which you will retrieve data. PRAW is a wrapper for [Reddit API](https://www.reddit.com/dev/api) that makes interacting with the Reddit API easier unless you are already an expert of [`requests`](https://docs.python-requests.org/en/latest/)."
   ]
  },
  {
   "cell_type": "markdown",
   "metadata": {
    "hidden": true
   },
   "source": [
    "#### 1. Install packages"
   ]
  },
  {
   "cell_type": "markdown",
   "metadata": {
    "hidden": true
   },
   "source": [
    "Please ensure you've ran all the cells in the `imports.ipynb`, located [here](https://github.com/FourthBrain/MLE-8/blob/main/assignments/week-3-analyze-sentiment-subreddit/imports.ipynb), to make sure you have all the required packages for today's assignment."
   ]
  },
  {
   "cell_type": "markdown",
   "metadata": {
    "hidden": true
   },
   "source": [
    "####  2. Create a new app on Reddit "
   ]
  },
  {
   "cell_type": "markdown",
   "metadata": {
    "hidden": true
   },
   "source": [
    "Create a new app on Reddit and save secret tokens; refer to [post in medium](https://towardsdatascience.com/how-to-use-the-reddit-api-in-python-5e05ddfd1e5c) for more details."
   ]
  },
  {
   "cell_type": "markdown",
   "metadata": {
    "hidden": true
   },
   "source": [
    "- Create a Reddit account if you don't have one, log into your account.\n",
    "- To access the API, we need create an app. Slight updates, on the website, you need to navigate to `preference` > `app`, or click [this link](https://www.reddit.com/prefs/apps) and scroll all the way down. \n",
    "- Click to create a new app, fill in the **name**, choose `script`, fill in  **description** and **redirect uri** ( The redirect URI is where the user is sent after they've granted OAuth access to your application (more info [here](https://github.com/reddit-archive/reddit/wiki/OAuth2)) For our purpose, you can enter some random url, e.g., www.google.com; as shown below.\n",
    "\n",
    "\n",
    "    <img src=\"https://miro.medium.com/max/700/1*lRBvxpIe8J2nZYJ6ucMgHA.png\" width=\"500\"/>\n",
    "- Jot down `client_id` (left upper corner) and `client_secret` \n",
    "\n",
    "    NOTE: CLIENT_ID refers to 'personal use script\" and CLIENT_SECRET to secret.\n",
    "    \n",
    "    <div>\n",
    "    <img src=\"https://miro.medium.com/max/700/1*7cGAKth1PMrEf2sHcQWPoA.png\" width=\"300\"/>\n",
    "    </div>\n",
    "\n",
    "- Create `secrets_reddit.py` in the same directory with this notebook, fill in `client_id` and `secret_id` obtained from the last step. We will need to import those constants in the next step.\n",
    "    ```\n",
    "    REDDIT_API_CLIENT_ID = \"client_id\"\n",
    "    REDDIT_API_CLIENT_SECRET = \"secret_id\"\n",
    "    REDDIT_API_USER_AGENT = \"any string except bot; ex. My User Agent\"\n",
    "    ```\n",
    "- Add `secrets_reddit.py` to your `.gitignore` file if not already done. NEVER push credentials to a repo, private or public. "
   ]
  },
  {
   "cell_type": "markdown",
   "metadata": {
    "hidden": true
   },
   "source": [
    "#### 3. Instantiate a `Reddit` object"
   ]
  },
  {
   "cell_type": "markdown",
   "metadata": {
    "hidden": true
   },
   "source": [
    "Now you are ready to create a read-only `Reddit` instance. Refer to [documentation](https://praw.readthedocs.io/en/stable/code_overview/reddit_instance.html) when necessary."
   ]
  },
  {
   "cell_type": "code",
   "execution_count": 1,
   "metadata": {
    "hidden": true
   },
   "outputs": [],
   "source": [
    "import pandas as pd\n",
    "import praw\n",
    "import secrets_reddit\n",
    "\n",
    "# Create a Reddit object which allows us to interact with the Reddit API\n",
    "reddit = praw.Reddit(\n",
    "    client_id = secrets_reddit.REDDIT_API_CLIENT_ID,\n",
    "    client_secret = secrets_reddit.REDDIT_API_CLIENT_SECRET,\n",
    "    user_agent = secrets_reddit.REDDIT_API_USER_AGENT\n",
    ")"
   ]
  },
  {
   "cell_type": "code",
   "execution_count": 2,
   "metadata": {
    "hidden": true
   },
   "outputs": [
    {
     "name": "stdout",
     "output_type": "stream",
     "text": [
      "<praw.reddit.Reddit object at 0x7fda98944f70>\n"
     ]
    }
   ],
   "source": [
    "print(reddit) "
   ]
  },
  {
   "cell_type": "markdown",
   "metadata": {},
   "source": [
    "<details>\n",
    "<summary>Expected output:</summary>   \n",
    "\n",
    "```<praw.reddit.Reddit object at 0x10f8a0ac0>```\n",
    "</details>"
   ]
  },
  {
   "cell_type": "markdown",
   "metadata": {
    "hidden": true
   },
   "source": [
    "#### 4. Instantiate a `subreddit` object"
   ]
  },
  {
   "cell_type": "code",
   "execution_count": 3,
   "outputs": [],
   "source": [
    "subreddit = reddit.subreddit(\"machinelearning\")"
   ],
   "metadata": {
    "collapsed": false,
    "pycharm": {
     "name": "#%%\n"
    }
   }
  },
  {
   "cell_type": "markdown",
   "metadata": {
    "hidden": true
   },
   "source": [
    "Lastly, create a `subreddit` object for your favorite subreddit and inspect the object. The expected outputs you will see are from `r/machinelearning` unless otherwise specified."
   ]
  },
  {
   "cell_type": "markdown",
   "source": [
    "What is the display name of the subreddit?"
   ],
   "metadata": {
    "collapsed": false
   }
  },
  {
   "cell_type": "code",
   "execution_count": 4,
   "metadata": {
    "hidden": true
   },
   "outputs": [
    {
     "data": {
      "text/plain": "'machinelearning'"
     },
     "execution_count": 4,
     "metadata": {},
     "output_type": "execute_result"
    }
   ],
   "source": [
    "subreddit.display_name"
   ]
  },
  {
   "cell_type": "markdown",
   "metadata": {},
   "source": [
    "<details>\n",
    "<summary>Expected output:</summary>   \n",
    "\n",
    "    machinelearning\n",
    "</details>"
   ]
  },
  {
   "cell_type": "markdown",
   "metadata": {
    "hidden": true
   },
   "source": [
    "How about its title, is it different from the display name?"
   ]
  },
  {
   "cell_type": "code",
   "execution_count": 7,
   "metadata": {
    "hidden": true
   },
   "outputs": [
    {
     "data": {
      "text/plain": "'Machine Learning'"
     },
     "execution_count": 7,
     "metadata": {},
     "output_type": "execute_result"
    }
   ],
   "source": [
    "subreddit.title"
   ]
  },
  {
   "cell_type": "markdown",
   "metadata": {},
   "source": [
    "<details>\n",
    "<summary>Expected output:</summary>   \n",
    "\n",
    "    Machine Learning\n",
    "</details>"
   ]
  },
  {
   "cell_type": "markdown",
   "metadata": {
    "hidden": true
   },
   "source": [
    "Print out the description of the subreddit:"
   ]
  },
  {
   "cell_type": "code",
   "execution_count": 20,
   "metadata": {
    "hidden": true,
    "scrolled": false
   },
   "outputs": [
    {
     "name": "stdout",
     "output_type": "stream",
     "text": [
      "**[Rules For Posts](https://www.reddit.com/r/MachineLearning/about/rules/)**\n",
      "--------\n",
      "+[Research](https://www.reddit.com/r/MachineLearning/search?sort=new&restrict_sr=on&q=flair%3AResearch)\n",
      "--------\n",
      "+[Discussion](https://www.reddit.com/r/MachineLearning/search?sort=new&restrict_sr=on&q=flair%3ADiscussion)\n",
      "--------\n",
      "+[Project](https://www.reddit.com/r/MachineLearning/search?sort=new&restrict_sr=on&q=flair%3AProject)\n",
      "--------\n",
      "+[News](https://www.reddit.com/r/MachineLearning/search?sort=new&restrict_sr=on&q=flair%3ANews)\n",
      "--------\n",
      "***[@slashML on Twitter](https://twitter.com/slashML)***\n",
      "--------\n",
      "***[Chat with us on Slack](https://join.slack.com/t/rml-talk/shared_invite/enQtNjkyMzI3NjA2NTY2LWY0ZmRjZjNhYjI5NzYwM2Y0YzZhZWNiODQ3ZGFjYmI2NTU3YjE1ZDU5MzM2ZTQ4ZGJmOTFmNWVkMzFiMzVhYjg)***\n",
      "--------\n",
      "**Beginners:**\n",
      "--------\n",
      "Please have a look at [our FAQ and Link-Collection](http://www.reddit.com/r/MachineLearning/wiki/index)\n",
      "\n",
      "[Metacademy](http://www.metacademy.org) is a great resource which compiles lesson plans on popular machine learning topics.\n",
      "\n",
      "For Beginner questions please try /r/LearnMachineLearning , /r/MLQuestions or http://stackoverflow.com/\n",
      "\n",
      "For career related questions, visit /r/cscareerquestions/\n",
      "\n",
      "--------\n",
      "\n",
      "[Advanced Courses (2016)](https://www.reddit.com/r/MachineLearning/comments/51qhc8/phdlevel_courses?st=isz2lqdk&sh=56c58cd6)\n",
      "\n",
      "[Advanced Courses (2020)](https://www.reddit.com/r/MachineLearning/comments/fdw0ax/d_advanced_courses_update/)\n",
      "\n",
      "--------\n",
      "**AMAs:**\n",
      "\n",
      "[Pluribus Poker AI Team 7/19/2019](https://www.reddit.com/r/MachineLearning/comments/ceece3/ama_we_are_noam_brown_and_tuomas_sandholm/)\n",
      "\n",
      "[DeepMind AlphaStar team (1/24//2019)](https://www.reddit.com/r/MachineLearning/comments/ajgzoc/we_are_oriol_vinyals_and_david_silver_from/)\n",
      "\n",
      "[Libratus Poker AI Team (12/18/2017)]\n",
      "(https://www.reddit.com/r/MachineLearning/comments/7jn12v/ama_we_are_noam_brown_and_professor_tuomas/)\n",
      "\n",
      "[DeepMind AlphaGo Team (10/19/2017)](https://www.reddit.com/r/MachineLearning/comments/76xjb5/ama_we_are_david_silver_and_julian_schrittwieser/)\n",
      "\n",
      "[Google Brain Team (9/17/2017)](https://www.reddit.com/r/MachineLearning/comments/6z51xb/we_are_the_google_brain_team_wed_love_to_answer/)\n",
      "\n",
      "[Google Brain Team (8/11/2016)]\n",
      "(https://www.reddit.com/r/MachineLearning/comments/4w6tsv/ama_we_are_the_google_brain_team_wed_love_to/)\n",
      "\n",
      "[The MalariaSpot Team (2/6/2016)](https://www.reddit.com/r/MachineLearning/comments/4m7ci1/ama_the_malariaspot_team/)\n",
      "\n",
      "[OpenAI Research Team (1/9/2016)](http://www.reddit.com/r/MachineLearning/comments/404r9m/ama_the_openai_research_team/)\n",
      "\n",
      "[Nando de Freitas (12/26/2015)](http://www.reddit.com/r/MachineLearning/comments/3y4zai/ama_nando_de_freitas/)\n",
      "\n",
      "[Andrew Ng and Adam Coates (4/15/2015)](http://www.reddit.com/r/MachineLearning/comments/32ihpe/ama_andrew_ng_and_adam_coates/)\n",
      "\n",
      "[Jürgen Schmidhuber (3/4/2015)](http://www.reddit.com/r/MachineLearning/comments/2xcyrl/i_am_j%C3%BCrgen_schmidhuber_ama/)\n",
      "\n",
      "[Geoffrey Hinton (11/10/2014)]\n",
      "(http://www.reddit.com/r/MachineLearning/comments/2lmo0l/ama_geoffrey_hinton/)\n",
      "\n",
      "[Michael Jordan (9/10/2014)](http://www.reddit.com/r/MachineLearning/comments/2fxi6v/ama_michael_i_jordan/)\n",
      "\n",
      "[Yann LeCun (5/15/2014)](http://www.reddit.com/r/MachineLearning/comments/25lnbt/ama_yann_lecun/)\n",
      "\n",
      "[Yoshua Bengio (2/27/2014)](http://www.reddit.com/r/MachineLearning/comments/1ysry1/ama_yoshua_bengio/)\n",
      "\n",
      "--------\n",
      "Related Subreddit :\n",
      "\n",
      "* [LearnMachineLearning](http://www.reddit.com/r/LearnMachineLearning)\n",
      "\n",
      "* [Statistics](http://www.reddit.com/r/statistics)\n",
      "\n",
      "* [Computer Vision](http://www.reddit.com/r/computervision)\n",
      "\n",
      "* [Compressive Sensing](http://www.reddit.com/r/CompressiveSensing/)\n",
      "\n",
      "* [NLP] (http://www.reddit.com/r/LanguageTechnology)\n",
      "\n",
      "* [ML Questions] (http://www.reddit.com/r/MLQuestions)\n",
      "\n",
      "* /r/MLjobs and /r/BigDataJobs\n",
      "\n",
      "* /r/datacleaning\n",
      "\n",
      "* /r/DataScience\n",
      "\n",
      "* /r/scientificresearch\n",
      "\n",
      "* /r/artificial\n"
     ]
    }
   ],
   "source": [
    "print(subreddit.description)"
   ]
  },
  {
   "cell_type": "markdown",
   "metadata": {},
   "source": [
    "<details>\n",
    "<summary>Expected output:</summary>\n",
    "\n",
    "    **[Rules For Posts](https://www.reddit.com/r/MachineLearning/about/rules/)**\n",
    "    --------\n",
    "    +[Research](https://www.reddit.com/r/MachineLearning/search?sort=new&restrict_sr=on&q=flair%3AResearch)\n",
    "    --------\n",
    "    +[Discussion](https://www.reddit.com/r/MachineLearning/search?sort=new&restrict_sr=on&q=flair%3ADiscussion)\n",
    "    --------\n",
    "    +[Project](https://www.reddit.com/r/MachineLearning/search?sort=new&restrict_sr=on&q=flair%3AProject)\n",
    "    --------\n",
    "    +[News](https://www.reddit.com/r/MachineLearning/search?sort=new&restrict\n",
    "</details>"
   ]
  },
  {
   "cell_type": "markdown",
   "metadata": {
    "heading_collapsed": true
   },
   "source": [
    "### Task II: Parse comments"
   ]
  },
  {
   "cell_type": "markdown",
   "metadata": {
    "heading_collapsed": true,
    "hidden": true
   },
   "source": [
    "#### 1. Top Posts of All Time"
   ]
  },
  {
   "cell_type": "markdown",
   "metadata": {
    "hidden": true
   },
   "source": [
    "Find titles of top 10 posts of **all time** from your favorite subreddit. Refer to [Obtain Submission Instances from a Subreddit Section](https://praw.readthedocs.io/en/stable/getting_started/quick_start.html)) if necessary. Verify if the titles match what you read on Reddit."
   ]
  },
  {
   "cell_type": "code",
   "execution_count": 10,
   "metadata": {
    "hidden": true
   },
   "outputs": [],
   "source": [
    "# try run this line, what do you see? press q once you are done\n",
    "?subreddit.top"
   ]
  },
  {
   "cell_type": "code",
   "execution_count": 18,
   "metadata": {
    "hidden": true
   },
   "outputs": [
    {
     "name": "stdout",
     "output_type": "stream",
     "text": [
      "[Project] From books to presentations in 10s with AR + ML\n",
      "[D] A Demo from 1993 of 32-year-old Yann LeCun showing off the World's first Convolutional Network for Text Recognition\n",
      "[R] First Order Motion Model applied to animate paintings\n",
      "[N] AI can turn old photos into moving Images / Link is given in the comments - You can also turn your old photo like this\n",
      "[D] This AI reveals how much time politicians stare at their phone at work\n",
      "[D] Types of Machine Learning Papers\n",
      "[D] The machine learning community has a toxicity problem\n",
      "I made a robot that punishes me if it detects that if I am procrastinating on my assignments [P]\n",
      "[Project] NEW PYTHON PACKAGE: Sync GAN Art to Music with \"Lucid Sonic Dreams\"! (Link in Comments)\n",
      "[P] Using oil portraits and First Order Model to bring the paintings back to life\n"
     ]
    }
   ],
   "source": [
    "for i in subreddit.top(time_filter=\"all\",limit=10):\n",
    "    print(i.title)"
   ]
  },
  {
   "cell_type": "markdown",
   "metadata": {
    "hidden": true
   },
   "source": [
    "<details> <summary>Expected output:</summary>\n",
    "\n",
    "    [Project] From books to presentations in 10s with AR + ML\n",
    "    [D] A Demo from 1993 of 32-year-old Yann LeCun showing off the World's first Convolutional Network for Text Recognition\n",
    "    [R] First Order Motion Model applied to animate paintings\n",
    "    [N] AI can turn old photos into moving Images / Link is given in the comments - You can also turn your old photo like this\n",
    "    [D] This AI reveals how much time politicians stare at their phone at work\n",
    "    [D] Types of Machine Learning Papers\n",
    "    [D] The machine learning community has a toxicity problem\n",
    "    [Project] NEW PYTHON PACKAGE: Sync GAN Art to Music with \"Lucid Sonic Dreams\"! (Link in Comments)\n",
    "    [P] Using oil portraits and First Order Model to bring the paintings back to life\n",
    "    [D] Convolution Neural Network Visualization - Made with Unity 3D and lots of Code / source - stefsietz (IG)    \n",
    "</details>"
   ]
  },
  {
   "cell_type": "markdown",
   "metadata": {
    "heading_collapsed": true,
    "hidden": true
   },
   "source": [
    "#### 2. Top 10 Posts of This Week"
   ]
  },
  {
   "cell_type": "markdown",
   "metadata": {
    "hidden": true
   },
   "source": [
    "What are the titles of the top 10 posts of **this week** from your favorite subreddit?"
   ]
  },
  {
   "cell_type": "code",
   "execution_count": 19,
   "metadata": {
    "hidden": true
   },
   "outputs": [
    {
     "name": "stdout",
     "output_type": "stream",
     "text": [
      "[P] Building a App for Stable Diffusion: Text to Image generation in Python\n",
      "[R] Sketch2Pose — estimating a 3D character pose from a bitmap sketch\n",
      "[D] StableDiffusion v1.4 is entirely public. What do you think about Stability.ai ?\n",
      "[D] How to Run Stable Diffusion (Locally and in Colab)\n",
      "[D] In 2010, did people expect things like DALLE and AlphaFold to be only 10/13 years away?\n",
      "[D] ML for Good\n",
      "[N] John Carmack raises $20M from various investors to start Keen Technologies, an AGI Company.\n",
      "[D][N]\"Mudge learned that Twitter had never acquired proper legal rights to training material used to build Twitter's key Machine Learning models. The Machine Learning models at issue were some of the core models running the company's most basic products, like which Tweets to show each user.\"\n",
      "[R] Musika! Fast Infinite Waveform Music Generation + Gradio Web Demo\n",
      "[D] Has any non-PhD here published an ML paper?\n"
     ]
    }
   ],
   "source": [
    "for i in subreddit.top(time_filter='week',limit=10):\n",
    "    print(i.title)"
   ]
  },
  {
   "cell_type": "markdown",
   "metadata": {
    "hidden": true
   },
   "source": [
    "<details><summary>Expected output:</summary>\n",
    "\n",
    "    [N] Ian Goodfellow, Apple’s director of machine learning, is leaving the company due to its return to work policy. In a note to staff, he said “I believe strongly that more flexibility would have been the best policy for my team.” He was likely the company’s most cited ML expert.\n",
    "    [R][P] Thin-Plate Spline Motion Model for Image Animation + Gradio Web Demo\n",
    "    [P] I’ve been trying to understand the limits of some of the available machine learning models out there. Built an app that lets you try a mix of CLIP from Open AI + Apple’s version of MobileNet, and more directly on your phone's camera roll.\n",
    "    [R] Meta is releasing a 175B parameter language model\n",
    "    [N] Hugging Face raised $100M at $2B to double down on community, open-source & ethics\n",
    "    [P] T-SNE to view and order your Spotify tracks\n",
    "    [D] : HELP Finding a Book - A book written for Google Engineers about foundational Math to support ML\n",
    "    [R] Scaled up CLIP-like model (~2B) shows 86% Zero-shot on Imagenet\n",
    "    [D] Do you use NLTK or Spacy for text preprocessing?\n",
    "    [D] Democratizing Diffusion Models - LDMs: High-Resolution Image Synthesis with Latent Diffusion Models, a 5-minute paper summary by Casual GAN Papers\n",
    "</details>"
   ]
  },
  {
   "cell_type": "markdown",
   "metadata": {},
   "source": [
    "💽❓ Data Question:\n",
    "\n",
    "Check out what other attributes the `praw.models.Submission` class has in the [docs](https://praw.readthedocs.io/en/stable/code_overview/models/submission.html). \n",
    "\n",
    "1. After having a chance to look through the docs, is there any other information that you might want to extract? How might this additional data help you?\n",
    "\n",
    "Write a sample piece of code below extracting three additional pieces of information from the submission below."
   ]
  },
  {
   "cell_type": "code",
   "execution_count": 22,
   "metadata": {},
   "outputs": [
    {
     "name": "stdout",
     "output_type": "stream",
     "text": [
      "title: [P] Building a App for Stable Diffusion: Text to Image generation in Python\n",
      "distinguished: None\n",
      "num_comments: 31\n",
      "score: 858\n",
      "title: [R] Sketch2Pose — estimating a 3D character pose from a bitmap sketch\n",
      "distinguished: None\n",
      "num_comments: 12\n",
      "score: 588\n",
      "title: [D] StableDiffusion v1.4 is entirely public. What do you think about Stability.ai ?\n",
      "distinguished: None\n",
      "num_comments: 125\n",
      "score: 408\n",
      "title: [D] How to Run Stable Diffusion (Locally and in Colab)\n",
      "distinguished: None\n",
      "num_comments: 48\n",
      "score: 259\n",
      "title: [D] In 2010, did people expect things like DALLE and AlphaFold to be only 10/13 years away?\n",
      "distinguished: None\n",
      "num_comments: 91\n",
      "score: 219\n",
      "title: [D] ML for Good\n",
      "distinguished: None\n",
      "num_comments: 47\n",
      "score: 212\n",
      "title: [N] John Carmack raises $20M from various investors to start Keen Technologies, an AGI Company.\n",
      "distinguished: None\n",
      "num_comments: 197\n",
      "score: 211\n",
      "title: [D][N]\"Mudge learned that Twitter had never acquired proper legal rights to training material used to build Twitter's key Machine Learning models. The Machine Learning models at issue were some of the core models running the company's most basic products, like which Tweets to show each user.\"\n",
      "distinguished: None\n",
      "num_comments: 69\n",
      "score: 205\n",
      "title: [R] Musika! Fast Infinite Waveform Music Generation + Gradio Web Demo\n",
      "distinguished: None\n",
      "num_comments: 12\n",
      "score: 189\n",
      "title: [D] Has any non-PhD here published an ML paper?\n",
      "distinguished: None\n",
      "num_comments: 82\n",
      "score: 124\n"
     ]
    }
   ],
   "source": [
    "for i in subreddit.top(time_filter='week',limit=10):\n",
    "    print(\"title:\", i.title)\n",
    "    print(\"distinguished:\", i.distinguished)\n",
    "    print(\"num_comments:\", i.num_comments)\n",
    "    print(\"score:\", i.score)"
   ]
  },
  {
   "cell_type": "markdown",
   "metadata": {},
   "source": [
    "💽❓ Data Question:\n",
    "\n",
    "2. Is there any information available that might be a concern when it comes to Ethical Data?"
   ]
  },
  {
   "cell_type": "markdown",
   "source": [
    "Attribute 'over_18' could contain explicit language or imagery while the larger issue being data is being used to predict stock pucrhase/ selling decisions which the original poster should have a notification of intended usage"
   ],
   "metadata": {
    "collapsed": false,
    "pycharm": {
     "name": "#%% md\n"
    }
   }
  },
  {
   "cell_type": "markdown",
   "metadata": {
    "heading_collapsed": true,
    "hidden": true
   },
   "source": [
    "#### 3. Comment Code"
   ]
  },
  {
   "cell_type": "markdown",
   "metadata": {
    "hidden": true
   },
   "source": [
    "Add comments to the code block below to describe what each line of the code does (Refer to [Obtain Comment Instances Section](https://praw.readthedocs.io/en/stable/getting_started/quick_start.html) when necessary). The code is adapted from [this tutorial](https://praw.readthedocs.io/en/stable/tutorials/comments.html)\n",
    "\n",
    "The purpose is \n",
    "1. to understand what the code is doing \n",
    "2. start to comment your code whenever it is not self-explantory if you have not (others will thank you, YOU will thank you later 😊) \n"
   ]
  },
  {
   "cell_type": "code",
   "execution_count": null,
   "outputs": [],
   "source": [
    "%%time\n",
    "from praw.models import MoreComments\n",
    "\n",
    "# create empty list\n",
    "top_comments = []\n",
    "\n",
    "# parse through the top 10 submissions for our subreddit\n",
    "for submission in subreddit.top(limit=10):\n",
    "    #of the comment forest with body of replies, get the top level comment\n",
    "    for top_level_comment in submission.comments:\n",
    "        #MoreComments objects represent the “load more comments”, and “continue this thread” links encountered, which we ignore as its not \"true\" top level comment\n",
    "        if isinstance(top_level_comment, MoreComments):\n",
    "            continue\n",
    "        #add body of top comment to our custom list defined above\n",
    "        top_comments.append(top_level_comment.body)"
   ],
   "metadata": {
    "collapsed": false,
    "pycharm": {
     "name": "#%%\n"
    }
   }
  },
  {
   "cell_type": "markdown",
   "metadata": {
    "heading_collapsed": true,
    "hidden": true
   },
   "source": [
    "#### 4. Inspect Comments"
   ]
  },
  {
   "cell_type": "markdown",
   "metadata": {
    "hidden": true
   },
   "source": [
    "How many comments did you extract from the last step? Examine a few comments. "
   ]
  },
  {
   "cell_type": "code",
   "execution_count": 35,
   "metadata": {
    "hidden": true
   },
   "outputs": [
    {
     "name": "stdout",
     "output_type": "stream",
     "text": [
      "741\n",
      "['Twitter thread: [https://twitter.com/cyrildiagne/status/1259441154606669824](https://twitter.com/cyrildiagne/status/1259441154606669824)\\n\\nCode: [https://github.com/cyrildiagne/ar-cutpaste/tree/clipboard](https://github.com/cyrildiagne/ar-cutpaste/tree/clipboard)\\n\\nBackground removal is done with U^(2-Net) (Qin et Al, Pattern Recognition 2020): [https://github.com/NathanUA/U-2-Net](https://github.com/NathanUA/U-2-Net)\\n\\n**/!\\\\\\\\ EDIT:** You can now subscribe to a beta program to get early access to the app: [https://arcopypaste.app](https://arcopypaste.app)  !', 'Simple yet very useful. Thank you for sharing the code.', 'The future 🤯']\n"
     ]
    }
   ],
   "source": [
    "print(len(top_comments))\n",
    "print(top_comments[:3])"
   ]
  },
  {
   "cell_type": "code",
   "execution_count": 34,
   "metadata": {
    "hidden": true
   },
   "outputs": [
    {
     "data": {
      "text/plain": "['Why tf is this visually satisfying',\n 'The pearl earring girl looks freakishly realistic',\n 'At first I was reading punches...']"
     },
     "execution_count": 34,
     "metadata": {},
     "output_type": "execute_result"
    }
   ],
   "source": [
    "import random\n",
    "\n",
    "[random.choice(top_comments) for i in range(3)]"
   ]
  },
  {
   "cell_type": "markdown",
   "metadata": {},
   "source": [
    "<details> <summary>Some of the comments from `r/machinelearning` subreddit are:</summary>\n",
    "\n",
    "    ['Awesome visualisation',\n",
    "    'Similar to a stack or connected neurons.',\n",
    "    'Will this Turing pass the Turing Test?']\n",
    "</details>"
   ]
  },
  {
   "cell_type": "markdown",
   "metadata": {},
   "source": [
    "💽❓ Data Question:\n",
    "\n",
    "3. After having a chance to review a few samples of 5 comments from the subreddit, what can you say about the data? \n",
    "\n",
    "HINT: Think about the \"cleanliness\" of the data, the content of the data, think about what you're trying to do - how does this data line up with your goal?"
   ]
  },
  {
   "cell_type": "code",
   "execution_count": 36,
   "outputs": [
    {
     "data": {
      "text/plain": "['Still accurate than tesseract lol 😂',\n 'At the root of these issues ... we\\'ve all noticed an aggressive push for \"social justice\" in the machine learning community. This has been organized by a small number of politically motivated activists who do not represent the community as a whole, outsiders who aren\\'t ML experts themselves. Its impact on the community has been extremely negative. This can be seen in how LeCun was recently silenced on Twitter, or how some people are now claiming [they should get more citations because of their skin color or gender](https://twitter.com/adjiboussodieng/status/1277599545996779521?s=19).',\n \"Mona Lisa's got some funky jowl swinging, there.\",\n \"That is cool. However, procrastinating is a great thing to do. Most of my favorite papers and projects I've worked on come from me getting up from my desk and walking around the department looking for people to have coffee and random discussions so I don't have to work. So while maybe studying is important not to procrastinate, I have never found it detrimental in the long run.\",\n \">Every meeting of the flemish government in Belgium is live streamed on a youtube channel. When a livestream starts the software is searching for phones and tries to identify a distracted politician. This is done with the help of AI and face recognition. The video of the distracted politician are then posted to a Twitter and Instagram account with the politician tagge\\n\\nSo, this tries to identify 'distracted' politicians, but only includes phones and excludes staring at laptops and tablets - for some reason? Is there a reason?\\n\\nAll I see is a system that detects whether some politician is using their phone or not.\\n\\nDisregarding my (negative) biases towards politicians, this honestly says nothing of whether they're distracted or doing productive/non-productive work on their phones/tablets/laptops.\",\n 'You made the robot while procrastinating? XD']"
     },
     "execution_count": 36,
     "metadata": {},
     "output_type": "execute_result"
    }
   ],
   "source": [
    "[random.choice(top_comments) for i in range(6)]"
   ],
   "metadata": {
    "collapsed": false,
    "pycharm": {
     "name": "#%%\n"
    }
   }
  },
  {
   "cell_type": "markdown",
   "metadata": {
    "hidden": true
   },
   "source": [
    "#### 5. Extract Top Level Comment from Subreddit `TSLA`."
   ]
  },
  {
   "cell_type": "markdown",
   "metadata": {
    "hidden": true
   },
   "source": [
    "Write your code to extract top level comments from the top 10 topics of a time period, e.g., year, from subreddit `TSLA` and store them in a list `top_comments_tsla`.  "
   ]
  },
  {
   "cell_type": "code",
   "execution_count": 37,
   "metadata": {
    "hidden": true
   },
   "outputs": [],
   "source": [
    "subreddit_tsla = reddit.subreddit(\"TSLA\")\n",
    "\n",
    "top_comments_tsla = []\n",
    "\n",
    "for submission in subreddit_tsla.top(time_filter=\"year\",limit=10):\n",
    "    for top_level_comment in submission.comments:\n",
    "        if isinstance(top_level_comment, MoreComments):\n",
    "            continue\n",
    "        top_comments_tsla.append(top_level_comment.body)"
   ]
  },
  {
   "cell_type": "code",
   "execution_count": 38,
   "metadata": {
    "hidden": true
   },
   "outputs": [
    {
     "data": {
      "text/plain": "158"
     },
     "execution_count": 38,
     "metadata": {},
     "output_type": "execute_result"
    }
   ],
   "source": [
    "len(top_comments_tsla) # Expected: 174 for r/machinelearning"
   ]
  },
  {
   "cell_type": "code",
   "execution_count": 39,
   "metadata": {
    "hidden": true,
    "scrolled": true
   },
   "outputs": [
    {
     "data": {
      "text/plain": "['820 shares and 4 longterm puts sold for about 100k premium (strike between 600 and 900)\\nbought first share in Dec 2018 and only added until then. hope I can retire in 5 years 😆',\n 'This is a surprise. Interested to hear more details.',\n 'I consolidated my losing options to one new option and made some good money on it so far but not enough to cover the losses. :/ still have my stock though.']"
     },
     "execution_count": 39,
     "metadata": {},
     "output_type": "execute_result"
    }
   ],
   "source": [
    "[random.choice(top_comments_tsla) for i in range(3)]"
   ]
  },
  {
   "cell_type": "markdown",
   "metadata": {},
   "source": [
    "<details>\n",
    "<summary>Some of the comments from `r/TSLA` subreddit:</summary>\n",
    "\n",
    "    ['I bought puts',\n",
    "    '100%',\n",
    "    'Yes. And I’m bag holding 1200 calls for Friday and am close to throwing myself out the window']\n",
    "</details>"
   ]
  },
  {
   "cell_type": "markdown",
   "metadata": {},
   "source": [
    "💽❓ Data Question:\n",
    "\n",
    "4. Now that you've had a chance to review another subreddits comments, do you see any differences in the kinds of comments either subreddit has - and how might this relate to bias?"
   ]
  },
  {
   "cell_type": "markdown",
   "metadata": {
    "heading_collapsed": true
   },
   "source": [
    "There could be selection bias in data - perhaps the content from reddit is primarily from silicon tech industry whose beliefs/ behavior could be independent of broader audience\n",
    "A larger availability bias could also come into play however, perhaps a political headlines could have positive or negative impact on TESLA and capturing those streams would provide comprehensive views"
   ]
  },
  {
   "cell_type": "markdown",
   "source": [
    "### Task III: Sentiment Analysis"
   ],
   "metadata": {
    "collapsed": false
   }
  },
  {
   "cell_type": "markdown",
   "metadata": {
    "hidden": true
   },
   "source": [
    "Let us analyze the sentiment of comments scraped from `r/TSLA` using a pre-trained HuggingFace model to make the inference. Take a [Quick tour](https://huggingface.co/docs/transformers/quicktour). "
   ]
  },
  {
   "cell_type": "markdown",
   "metadata": {
    "hidden": true
   },
   "source": [
    "#### 1. Import `pipeline`"
   ]
  },
  {
   "cell_type": "code",
   "execution_count": 40,
   "metadata": {
    "hidden": true
   },
   "outputs": [],
   "source": [
    "from transformers import pipeline"
   ]
  },
  {
   "cell_type": "markdown",
   "metadata": {
    "hidden": true
   },
   "source": [
    "#### 2. Create a Pipeline to Perform Task \"sentiment-analysis\""
   ]
  },
  {
   "cell_type": "code",
   "execution_count": 42,
   "metadata": {
    "hidden": true
   },
   "outputs": [
    {
     "name": "stderr",
     "output_type": "stream",
     "text": [
      "No model was supplied, defaulted to distilbert-base-uncased-finetuned-sst-2-english and revision af0f99b (https://huggingface.co/distilbert-base-uncased-finetuned-sst-2-english).\n",
      "Using a pipeline without specifying a model name and revision in production is not recommended.\n"
     ]
    }
   ],
   "source": [
    "sentiment_model = pipeline('sentiment-analysis')"
   ]
  },
  {
   "cell_type": "markdown",
   "metadata": {
    "hidden": true
   },
   "source": [
    "#### 3. Get one comment from list `top_comments_tsla` from Task II - 5."
   ]
  },
  {
   "cell_type": "code",
   "execution_count": 45,
   "metadata": {
    "hidden": true
   },
   "outputs": [],
   "source": [
    "comment = random.choice(top_comments_tsla)"
   ]
  },
  {
   "cell_type": "code",
   "execution_count": 46,
   "metadata": {
    "hidden": true
   },
   "outputs": [
    {
     "data": {
      "text/plain": "\"I stayed long.\\n\\nNot because of faith.\\n\\nBecause of Tesla's increasing dominance and profit.\""
     },
     "execution_count": 46,
     "metadata": {},
     "output_type": "execute_result"
    }
   ],
   "source": [
    "comment"
   ]
  },
  {
   "cell_type": "markdown",
   "metadata": {},
   "source": [
    "The example comment is: `'Bury Burry!!!!!'`. Print out what you get. For reproducibility, use the same comment in the next step; consider setting a seed."
   ]
  },
  {
   "cell_type": "markdown",
   "metadata": {
    "hidden": true
   },
   "source": [
    "#### 4. Make Inference!"
   ]
  },
  {
   "cell_type": "code",
   "execution_count": 47,
   "metadata": {
    "hidden": true
   },
   "outputs": [
    {
     "name": "stdout",
     "output_type": "stream",
     "text": [
      "[{'label': 'NEGATIVE', 'score': 0.849597692489624}]\n"
     ]
    }
   ],
   "source": [
    "sentiment = sentiment_model(comment)\n",
    "print(sentiment)"
   ]
  },
  {
   "cell_type": "markdown",
   "metadata": {
    "hidden": true
   },
   "source": [
    "What is the type of the output `sentiment`?"
   ]
  },
  {
   "cell_type": "markdown",
   "metadata": {
    "hidden": true
   },
   "source": [
    "Negative lable with confidence of approx. 85%"
   ]
  },
  {
   "cell_type": "code",
   "execution_count": 53,
   "metadata": {
    "hidden": true,
    "scrolled": true
   },
   "outputs": [
    {
     "name": "stdout",
     "output_type": "stream",
     "text": [
      "The comment: I stayed long.\n",
      "\n",
      "Not because of faith.\n",
      "\n",
      "Because of Tesla's increasing dominance and profit.\n",
      "Predicted Label is NEGATIVE and the score is 0.850\n"
     ]
    }
   ],
   "source": [
    "print(f'The comment: {comment}')\n",
    "print(f'Predicted Label is {sentiment[0][\"label\"]} and the score is {sentiment[0][\"score\"]:.3f}')"
   ]
  },
  {
   "cell_type": "markdown",
   "metadata": {},
   "source": [
    "For the example comment, the output is:\n",
    "\n",
    "    The comment: Bury Burry!!!!!\n",
    "    Predicted Label is NEGATIVE and the score is 0.989"
   ]
  },
  {
   "cell_type": "markdown",
   "metadata": {},
   "source": [
    "🖥️❓ Model Question:\n",
    "\n",
    "1. What does the score represent?"
   ]
  },
  {
   "cell_type": "markdown",
   "metadata": {},
   "source": [
    "score here is the confidence of the model for the label attributed to the comment"
   ]
  },
  {
   "cell_type": "markdown",
   "source": [
    "### Task IV: Put All Together"
   ],
   "metadata": {
    "collapsed": false
   }
  },
  {
   "cell_type": "markdown",
   "metadata": {},
   "source": [
    "Let's pull all the piece together, create a simple script that does \n",
    "\n",
    "- get the subreddit\n",
    "- get comments from the top posts for given subreddit\n",
    "- run sentiment analysis "
   ]
  },
  {
   "cell_type": "markdown",
   "metadata": {},
   "source": [
    "#### Complete the Script"
   ]
  },
  {
   "cell_type": "markdown",
   "metadata": {},
   "source": [
    "Once you complete the code, running the following block writes the code into a new Python script and saves it as `top_tlsa_comment_sentiment.py` under the same directory with the notebook. "
   ]
  },
  {
   "cell_type": "code",
   "execution_count": 51,
   "metadata": {
    "code_folding": []
   },
   "outputs": [
    {
     "name": "stdout",
     "output_type": "stream",
     "text": [
      "Overwriting top_tlsa_comment_sentiment.py\n"
     ]
    }
   ],
   "source": [
    "%%writefile top_tlsa_comment_sentiment.py\n",
    "\n",
    "import secrets_reddit as sr\n",
    "import random\n",
    "\n",
    "from typing import Dict, List\n",
    "\n",
    "from praw import Reddit\n",
    "from praw.models.reddit.subreddit import Subreddit\n",
    "from praw.models import MoreComments\n",
    "\n",
    "from transformers import pipeline\n",
    "\n",
    "\n",
    "def get_subreddit(display_name:str) -> Subreddit:\n",
    "    \"\"\"Get subreddit object from display name\n",
    "\n",
    "    Args:\n",
    "        display_name (str): [description]\n",
    "\n",
    "    Returns:\n",
    "        Subreddit: [description]\n",
    "    \"\"\"\n",
    "    reddit = Reddit(\n",
    "        client_id=sr.REDDIT_API_CLIENT_ID,\n",
    "        client_secret=sr.REDDIT_API_CLIENT_SECRET,\n",
    "        user_agent=sr.REDDIT_API_USER_AGENT\n",
    "        )\n",
    "    \n",
    "    subreddit = reddit.subreddit(display_name)\n",
    "    return subreddit\n",
    "\n",
    "def get_comments(subreddit:Subreddit, limit:int=3) -> List[str]:\n",
    "    \"\"\" Get comments from subreddit\n",
    "\n",
    "    Args:\n",
    "        subreddit (Subreddit): [description]\n",
    "        limit (int, optional): [description]. Defaults to 3.\n",
    "\n",
    "    Returns:\n",
    "        List[str]: List of comments\n",
    "    \"\"\"\n",
    "    top_comments = []\n",
    "    for submission in subreddit.top(limit=limit):\n",
    "        for top_level_comment in submission.comments:\n",
    "            if isinstance(top_level_comment, MoreComments):\n",
    "                continue\n",
    "            top_comments.append(top_level_comment.body)\n",
    "    return top_comments\n",
    "\n",
    "def run_sentiment_analysis(comment:str) -> Dict:\n",
    "    \"\"\"Run sentiment analysis on comment using default distilbert model\n",
    "    \n",
    "    Args:\n",
    "        comment (str): [description]\n",
    "        \n",
    "    Returns:\n",
    "        str: Sentiment analysis result\n",
    "    \"\"\"\n",
    "    sentiment_model = pipeline('sentiment-analysis')\n",
    "    sentiment = sentiment_model(comment)\n",
    "    return sentiment[0]\n",
    "\n",
    "\n",
    "if __name__ == '__main__':\n",
    "    subreddit = get_subreddit('TSLA')\n",
    "    comments = get_comments(subreddit)\n",
    "    comment = random.choice(comments)\n",
    "    sentiment = run_sentiment_analysis(comment)\n",
    "    \n",
    "    print(f'The comment: {comment}')\n",
    "    print(f'Predicted Label is {sentiment[\"label\"]} and the score is {sentiment[\"score\"]:.3f}')"
   ]
  },
  {
   "cell_type": "markdown",
   "metadata": {},
   "source": [
    "Run the following block to see the output."
   ]
  },
  {
   "cell_type": "code",
   "execution_count": 52,
   "metadata": {},
   "outputs": [
    {
     "name": "stdout",
     "output_type": "stream",
     "text": [
      "huggingface/tokenizers: The current process just got forked, after parallelism has already been used. Disabling parallelism to avoid deadlocks...\n",
      "To disable this warning, you can either:\n",
      "\t- Avoid using `tokenizers` before the fork if possible\n",
      "\t- Explicitly set the environment variable TOKENIZERS_PARALLELISM=(true | false)\n",
      "No model was supplied, defaulted to distilbert-base-uncased-finetuned-sst-2-english and revision af0f99b (https://huggingface.co/distilbert-base-uncased-finetuned-sst-2-english).\r\n",
      "Using a pipeline without specifying a model name and revision in production is not recommended.\r\n",
      "The comment: Lies...why would an R&D person in the company be involved in this? I don’t buy it.\r\n",
      "Predicted Label is NEGATIVE and the score is 1.000\r\n"
     ]
    }
   ],
   "source": [
    "!python top_tlsa_comment_sentiment.py"
   ]
  },
  {
   "cell_type": "markdown",
   "metadata": {},
   "source": [
    "<details><summary> Expected output:</summary>\n",
    "\n",
    "    No model was supplied, defaulted to distilbert-base-uncased-finetuned-sst-2-english (https://huggingface.co/distilbert-base-uncased-finetuned-sst-2-english)\n",
    "    The comment: When is DOGE flying\n",
    "    Predicted Label is POSITIVE and the score is 0.689\n",
    "</details>"
   ]
  },
  {
   "cell_type": "markdown",
   "metadata": {},
   "source": [
    "💽❓ Data Question:\n",
    "\n",
    "5. Is the subreddit active? About how many posts or threads per day? How could you find this information?"
   ]
  },
  {
   "cell_type": "code",
   "metadata": {
    "pycharm": {
     "name": "#%%\n"
    }
   },
   "source": [
    "cntr=0\n",
    "for submission in subreddit.top(time_filter = 'day', limit = None):\n",
    "    for top_level_comment in submission.comments:\n",
    "            if isinstance(top_level_comment, MoreComments):\n",
    "                continue\n",
    "            cntr+=1\n",
    "\n",
    "cntr"
   ],
   "execution_count": 58,
   "outputs": [
    {
     "data": {
      "text/plain": "38"
     },
     "execution_count": 58,
     "metadata": {},
     "output_type": "execute_result"
    }
   ]
  },
  {
   "cell_type": "markdown",
   "source": [
    "today we had 38 posts in our subreddit"
   ],
   "metadata": {
    "collapsed": false
   }
  },
  {
   "cell_type": "markdown",
   "metadata": {},
   "source": [
    "💽❓ Data Question:\n",
    "\n",
    "6. Does there seem to be a large distribution of posters or a smaller concentration of posters who are very active? What kind of impact might this have on the data?"
   ]
  },
  {
   "cell_type": "code",
   "metadata": {
    "pycharm": {
     "name": "#%%\n"
    }
   },
   "source": [
    "from collections import Counter\n",
    "post_auth=[]\n",
    "for submission in subreddit.top(time_filter = 'week', limit = None):\n",
    "    for top_level_comment in submission.comments:\n",
    "        if isinstance(top_level_comment, MoreComments):\n",
    "            continue\n",
    "        post_auth.append(top_level_comment.author)\n",
    "\n",
    "c = Counter( post_auth )\n",
    "print( c.items() )"
   ],
   "execution_count": 59,
   "outputs": [
    {
     "name": "stdout",
     "output_type": "stream",
     "text": [
      "dict_items([(Redditor(name='Illustrious_Row_9971'), 5), (Redditor(name='kkngs'), 2), (Redditor(name='samdutter'), 1), (Redditor(name='hleszek'), 2), (Redditor(name='lugiavn'), 1), (Redditor(name='zerohistory'), 1), (None, 2), (Redditor(name='designed_perfect'), 1), (Redditor(name='bmsan-gh'), 1), (Redditor(name='ai_hero'), 2), (Redditor(name='mr_birrd'), 2), (Redditor(name='sampog'), 1), (Redditor(name='noobiemaster_69'), 2), (Redditor(name='UnderstandingDry1256'), 2), (Redditor(name='Macvanderspek'), 1), (Redditor(name='SpatialComputing'), 1), (Redditor(name='LeDamien19'), 1), (Redditor(name='Cryogenicist'), 1), (Redditor(name='cryptosupercar'), 1), (Redditor(name='DudenessR2'), 1), (Redditor(name='Tintin_Quarentino'), 1), (Redditor(name='tryght'), 1), (Redditor(name='klop2031'), 1), (Redditor(name='toastyoats'), 1), (Redditor(name='mlresearchoor'), 3), (Redditor(name='_HIST'), 1), (Redditor(name='yaosio'), 1), (Redditor(name='dat_cosmo_cat'), 1), (Redditor(name='Bonerjam98'), 2), (Redditor(name='lookatmetype'), 1), (Redditor(name='SirSourPuss'), 1), (Redditor(name='Fuylo88'), 2), (Redditor(name='value_added_bullshit'), 1), (Redditor(name='EmbarrassedHelp'), 1), (Redditor(name='Sirisian'), 1), (Redditor(name='JanneJM'), 1), (Redditor(name='nomadiclizard'), 1), (Redditor(name='WarAndGeese'), 1), (Redditor(name='bounded_rage'), 1), (Redditor(name='Freonr2'), 2), (Redditor(name='vzakharov'), 1), (Redditor(name='Key-Sail'), 1), (Redditor(name='pooppooppoopie'), 1), (Redditor(name='meeseey'), 1), (Redditor(name='cmdr2'), 1), (Redditor(name='asking_for_a_friend0'), 1), (Redditor(name='johnnydaggers'), 1), (Redditor(name='freezelikeastatue'), 1), (Redditor(name='Trakeen'), 1), (Redditor(name='mntruell'), 1), (Redditor(name='oculuscat'), 1), (Redditor(name='altryne'), 1), (Redditor(name='zeldalee'), 1), (Redditor(name='maizeq'), 1), (Redditor(name='altmly'), 2), (Redditor(name='LeN3rd'), 1), (Redditor(name='LetterRip'), 1), (Redditor(name='beezlebub33'), 2), (Redditor(name='Darknessie'), 1), (Redditor(name='Appropriate_Ant_4629'), 1), (Redditor(name='woke-hipster'), 1), (Redditor(name='MCK54'), 1), (Redditor(name='mano-vijnana'), 1), (Redditor(name='Cosmacelf'), 1), (Redditor(name='malenkydroog'), 1), (Redditor(name='zacker150'), 1), (Redditor(name='jhinboy'), 1), (Redditor(name='curiousshortguy'), 2), (Redditor(name='KPTN25'), 1), (Redditor(name='waiki3243'), 1), (Redditor(name='jturp-sc'), 1), (Redditor(name='piman01'), 1), (Redditor(name='Tiny_Arugula_5648'), 1), (Redditor(name='TotallyNotGunnar'), 1), (Redditor(name='mlbbysitter'), 3), (Redditor(name='kdilladilla'), 1), (Redditor(name='thetan_free'), 1), (Redditor(name='Historical_Ad2338'), 1), (Redditor(name='deustrader'), 1), (Redditor(name='Puzzled-Bite-8467'), 2), (Redditor(name='kaskoosek'), 1), (Redditor(name='Cautious-Simple-2778'), 1), (Redditor(name='maxmindev'), 1), (Redditor(name='askja'), 1), (Redditor(name='CashyJohn'), 2), (Redditor(name='Che_Banana'), 1), (Redditor(name='snooshrooms'), 1), (Redditor(name='RobKnight_'), 2), (Redditor(name='CommunismDoesntWork'), 1), (Redditor(name='TJSomething'), 1), (Redditor(name='lhr0909'), 1), (Redditor(name='supernova'), 1), (Redditor(name='Existing-External-73'), 1), (Redditor(name='hiptobecubic'), 1), (Redditor(name='Shevizzle'), 1), (Redditor(name='VinnyVeritas'), 1), (Redditor(name='impossiblefork'), 1), (Redditor(name='Zulban'), 1), (Redditor(name='ReasonablyBadass'), 2), (Redditor(name='SwordOfVarjo'), 1), (Redditor(name='big_black_doge'), 1), (Redditor(name='bartturner'), 1), (Redditor(name='neuronexmachina'), 1), (Redditor(name='thunder_jaxx'), 1), (Redditor(name='nightshadew'), 1), (Redditor(name='Low-Equipment-2621'), 1), (Redditor(name='IntelArtiGen'), 2), (Redditor(name='st8ic'), 1), (Redditor(name='CurrentMaleficent714'), 1), (Redditor(name='midasp'), 1), (Redditor(name='devl82'), 1), (Redditor(name='met0xff'), 1), (Redditor(name='Acrobatic_Law_654'), 1), (Redditor(name='hbgoddard'), 1), (Redditor(name='veqtor'), 1), (Redditor(name='mr-herpas'), 1), (Redditor(name='Hencefield'), 1), (Redditor(name='blahreport'), 1), (Redditor(name='highergraphic'), 1), (Redditor(name='kingberr'), 1), (Redditor(name='tcdoey'), 1), (Redditor(name='DrakenZA'), 1), (Redditor(name='cnapun'), 1), (Redditor(name='pseudosciencepeddler'), 1), (Redditor(name='the_hackelle'), 1), (Redditor(name='maxToTheJ'), 2), (Redditor(name='kobit55'), 1), (Redditor(name='bhargavbuddy'), 1), (Redditor(name='FatLeeAdama2'), 1), (Redditor(name='Swimming-Tear-5022'), 2), (Redditor(name='WrathoftheTwitchKing'), 1), (Redditor(name='DataLearner422'), 1), (Redditor(name='self-taughtDS'), 1), (Redditor(name='rudiXOR'), 1), (Redditor(name='lphomiej'), 1), (Redditor(name='Flaky_Suit_8665'), 1), (Redditor(name='halixness'), 1), (Redditor(name='CarlDanger'), 1), (Redditor(name='austospumanto'), 1), (Redditor(name='Atom_101'), 2), (Redditor(name='trnka'), 2), (Redditor(name='volta_seca'), 1), (Redditor(name='wind_dude'), 1), (Redditor(name='Karyo_Ten'), 1), (Redditor(name='bouncyprojector'), 1), (Redditor(name='GamerMinion'), 1), (Redditor(name='TheOneRavenous'), 1), (Redditor(name='v10FINALFINALpptx'), 1), (Redditor(name='slowpush'), 1), (Redditor(name='wowthepriest'), 1), (Redditor(name='andy_gray_kortical'), 1), (Redditor(name='BiasedVariance'), 1), (Redditor(name='aries_burner_809'), 1), (Redditor(name='Tim3398'), 1), (Redditor(name='cadoi'), 1), (Redditor(name='chechgm'), 1), (Redditor(name='fnbr'), 1), (Redditor(name='bulwynkl'), 1), (Redditor(name='whoisthisasian'), 1), (Redditor(name='SatanicSurfer'), 1), (Redditor(name='TissueReligion'), 1), (Redditor(name='eliminating_coasts'), 1), (Redditor(name='pattrik'), 1), (Redditor(name='sporadic_chocolate'), 1), (Redditor(name='simorgh12'), 1), (Redditor(name='periodscratchcomma'), 1), (Redditor(name='not_just_a_pickle'), 1), (Redditor(name='fasttosmile'), 1), (Redditor(name='KnowledgeInChaos'), 1), (Redditor(name='ZenDragon'), 1), (Redditor(name='threevox'), 2), (Redditor(name='Forsaken-Chart9225'), 1), (Redditor(name='andreadorta'), 1), (Redditor(name='ry8'), 1), (Redditor(name='race2tb'), 1), (Redditor(name='godelski'), 2), (Redditor(name='Ne_zievereir'), 1), (Redditor(name='Bot-69912020'), 1), (Redditor(name='Fapaak'), 1), (Redditor(name='Planatador'), 1), (Redditor(name='pina_koala'), 1), (Redditor(name='amigo213a'), 1), (Redditor(name='bironsecret'), 2), (Redditor(name='pm_me_your_pay_slips'), 1), (Redditor(name='halfanothersdozen'), 1), (Redditor(name='hellrail'), 2), (Redditor(name='ZestyData'), 2), (Redditor(name='ia_cs_1'), 1), (Redditor(name='petseminary'), 1), (Redditor(name='Agreeable_Alarm_4666'), 1), (Redditor(name='Mindfully_Befuddled'), 1), (Redditor(name='glassAlloy'), 1), (Redditor(name='SatoshiNotMe'), 1), (Redditor(name='zimonitrome'), 1), (Redditor(name='dj_ski_mask'), 1), (Redditor(name='adt'), 2), (Redditor(name='mg_1987'), 1), (Redditor(name='mathbbR'), 1), (Redditor(name='blablanonymous'), 1), (Redditor(name='CranberryNo1448'), 1), (Redditor(name='edunuke'), 1), (Redditor(name='Donno_Nemore'), 1), (Redditor(name='xEdwin23x'), 1), (Redditor(name='gdahl'), 1), (Redditor(name='supersmartypants'), 1), (Redditor(name='yaroslavvb'), 1), (Redditor(name='RunOrDieTrying'), 1), (Redditor(name='Jean-Porte'), 1), (Redditor(name='bitemenow999'), 1), (Redditor(name='Inquation'), 1), (Redditor(name='darthmaeu'), 1), (Redditor(name='Appropriate-Border94'), 1), (Redditor(name='drd13'), 1), (Redditor(name='ktpr'), 1), (Redditor(name='thewdhanat'), 1), (Redditor(name='CleanPresentation357'), 1), (Redditor(name='rehrev'), 1), (Redditor(name='TheGreatHomer'), 1), (Redditor(name='serge_cell'), 2), (Redditor(name='EireSeggy'), 2), (Redditor(name='thevillagersid'), 1), (Redditor(name='itsyourboiirow'), 1), (Redditor(name='master-leaf'), 1), (Redditor(name='StarksTwins'), 2), (Redditor(name='yeolj0o'), 1), (Redditor(name='pink_avocadooo'), 1), (Redditor(name='ddehun'), 1), (Redditor(name='__mantissa__'), 1), (Redditor(name='arnaudvl'), 1), (Redditor(name='mister-guy-dude'), 1), (Redditor(name='arceushero'), 1), (Redditor(name='BlackHatSlacker'), 1), (Redditor(name='SmorgasConfigurator'), 1), (Redditor(name='TheUncleBenny'), 1), (Redditor(name='LiveClimbRepeat'), 1), (Redditor(name='youregonnalovemynuts'), 1), (Redditor(name='gunshoes'), 1), (Redditor(name='sigmoid_amidst_relus'), 1), (Redditor(name='splatula'), 1), (Redditor(name='fmai'), 1), (Redditor(name='Melodic-Bluejay1999'), 1), (Redditor(name='Reasonable_Sir_7320'), 1), (Redditor(name='Insighteous'), 1), (Redditor(name='ipsum2'), 1), (Redditor(name='pommedeterresautee'), 1), (Redditor(name='MLtinkerer'), 1), (Redditor(name='velcher'), 2), (Redditor(name='pic_bot'), 1), (Redditor(name='CatalyzeX_code_bot'), 2), (Redditor(name='Pt4875'), 1), (Redditor(name='akardashian'), 1), (Redditor(name='TheRedSphinx'), 1), (Redditor(name='machinelearner77'), 1), (Redditor(name='oosuiw'), 1), (Redditor(name='hotdogpogwog'), 1), (Redditor(name='errohan400'), 1), (Redditor(name='Indianprerogative'), 1), (Redditor(name='depressedanddying'), 1), (Redditor(name='mathcircler'), 2), (Redditor(name='GGSirRob'), 1), (Redditor(name='quanuec'), 1), (Redditor(name='IPvIV'), 1), (Redditor(name='blahblahblahbilibili'), 1), (Redditor(name='Kindly_Mastodon1283'), 1), (Redditor(name='NinjaEbeast'), 1), (Redditor(name='anton164'), 1), (Redditor(name='proasr'), 1), (Redditor(name='itnguyen2015'), 1), (Redditor(name='Brilliant_Excuse9673'), 1), (Redditor(name='aloser'), 2), (Redditor(name='_Arsenie_Boca_'), 5), (Redditor(name='imtriracial'), 1), (Redditor(name='seba07'), 1), (Redditor(name='nikgeo25'), 1), (Redditor(name='z0nar'), 1), (Redditor(name='trutheality'), 1), (Redditor(name='Subject_Box6637'), 1), (Redditor(name='pkscff'), 1), (Redditor(name='Disastrous-War-9675'), 1), (Redditor(name='SuperTankMan8964'), 1), (Redditor(name='pwlib'), 1), (Redditor(name='royalemate357'), 2), (Redditor(name='yozo-marionica'), 1), (Redditor(name='mrpogiface'), 1), (Redditor(name='Electronic-Beyond-22'), 1), (Redditor(name='teetaps'), 1), (Redditor(name='Dylan_TMB'), 1), (Redditor(name='senor_zanjeer'), 1), (Redditor(name='jakemathai'), 1), (Redditor(name='bitSanjay'), 1), (Redditor(name='Singularian2501'), 2), (Redditor(name='BigDataOverflow'), 1), (Redditor(name='CKtalon'), 1), (Redditor(name='BrotherAmazing'), 3), (Redditor(name='Veedrac'), 1), (Redditor(name='mocny-chlapik'), 1), (Redditor(name='madnessandmachines'), 1), (Redditor(name='just__uncreative'), 1), (Redditor(name='not_sane'), 1), (Redditor(name='puppet_pals'), 1), (Redditor(name='koolaidman123'), 1), (Redditor(name='cadegord'), 1), (Redditor(name='darkshenron'), 1), (Redditor(name='syzymon'), 1), (Redditor(name='Far-Mix-5615'), 1), (Redditor(name='logicallyzany'), 1), (Redditor(name='ats678'), 1), (Redditor(name='MeyerLouis'), 1), (Redditor(name='101111010100'), 1), (Redditor(name='pornthrowaway42069l'), 1), (Redditor(name='Dendriform1491'), 1), (Redditor(name='Ingloriousz19'), 1), (Redditor(name='theferalmonkey'), 1), (Redditor(name='keramitas'), 1), (Redditor(name='chaoyu'), 1), (Redditor(name='johnman1016'), 1), (Redditor(name='juhotuho10'), 1), (Redditor(name='Latter_Security9389'), 1), (Redditor(name='Alworldview'), 1), (Redditor(name='SeucheAchat9115'), 1), (Redditor(name='darth_sid_95'), 1), (Redditor(name='redditaccount1426'), 1), (Redditor(name='grid_world'), 1), (Redditor(name='JustOneAvailableName'), 1), (Redditor(name='CranberryMean3990'), 1), (Redditor(name='ResponsibilityNo7189'), 1), (Redditor(name='dasayan05'), 1), (Redditor(name='davelargent'), 1), (Redditor(name='glichez'), 2), (Redditor(name='ganzzahl'), 1), (Redditor(name='detailsAtEleven'), 1), (Redditor(name='suflaj'), 1), (Redditor(name='Melody_MakerUK'), 1), (Redditor(name='delight1982'), 1), (Redditor(name='Ash3nBlue'), 1), (Redditor(name='tornado28'), 1), (Redditor(name='Seresne'), 2), (Redditor(name='Thunderbird120'), 1), (Redditor(name='just_half'), 1), (Redditor(name='ConsciousActive'), 1), (Redditor(name='fuzz_master'), 1), (Redditor(name='gradientrun'), 1), (Redditor(name='remloops'), 1), (Redditor(name='Evilsmirker'), 1), (Redditor(name='vastlik'), 1), (Redditor(name='Raghuvansh_Tahlan'), 1), (Redditor(name='Data-Power'), 1), (Redditor(name='BalimbingStreet'), 1), (Redditor(name='Cancel-Klutzy'), 1), (Redditor(name='dataslacker'), 1), (Redditor(name='Many_Mud'), 1), (Redditor(name='adrienrsn'), 1), (Redditor(name='pm_me_your_ensembles'), 1), (Redditor(name='otsukarekun'), 1), (Redditor(name='Kinferatttu'), 1), (Redditor(name='Throwaway00000000028'), 1), (Redditor(name='chief167'), 1), (Redditor(name='weeeeeewoooooo'), 1), (Redditor(name='Shika93'), 1), (Redditor(name='keninsyd'), 1), (Redditor(name='111llI0__-__0Ill111'), 1), (Redditor(name='idkname999'), 1), (Redditor(name='SkyThyme'), 1), (Redditor(name='cartdoublepole'), 1), (Redditor(name='Sir-Viette'), 1), (Redditor(name='RamblerUsa'), 1), (Redditor(name='harharveryfunny'), 1), (Redditor(name='zyl1024'), 1), (Redditor(name='CountBayes'), 1), (Redditor(name='Xelaxander'), 1), (Redditor(name='ProteanDreamer'), 1), (Redditor(name='danjlwex'), 2), (Redditor(name='rando_techo'), 1), (Redditor(name='medcode'), 1), (Redditor(name='lostmsu'), 1), (Redditor(name='nope_42'), 1), (Redditor(name='brettins'), 1), (Redditor(name='he_who_floats_amogus'), 1), (Redditor(name='Deep-Station-1746'), 1), (Redditor(name='uncertifiablypg'), 1), (Redditor(name='Philiatrist'), 1), (Redditor(name='Delicious-View-8688'), 1), (Redditor(name='UnusualClimberBear'), 1)])\n"
     ]
    }
   ]
  },
  {
   "cell_type": "code",
   "execution_count": 62,
   "outputs": [
    {
     "data": {
      "text/plain": "383"
     },
     "execution_count": 62,
     "metadata": {},
     "output_type": "execute_result"
    }
   ],
   "source": [
    "len(c)"
   ],
   "metadata": {
    "collapsed": false,
    "pycharm": {
     "name": "#%%\n"
    }
   }
  },
  {
   "cell_type": "code",
   "execution_count": 72,
   "outputs": [
    {
     "data": {
      "text/plain": "array([[<AxesSubplot:title={'center':'count'}>]], dtype=object)"
     },
     "execution_count": 72,
     "metadata": {},
     "output_type": "execute_result"
    },
    {
     "data": {
      "text/plain": "<Figure size 640x480 with 1 Axes>",
      "image/png": "[encoded data removed]"
     },
     "metadata": {},
     "output_type": "display_data"
    }
   ],
   "source": [
    "import pandas as pd\n",
    "c_df=pd.DataFrame(c, index=['count']).transpose()\n",
    "c_df.hist('count')\n"
   ],
   "metadata": {
    "collapsed": false,
    "pycharm": {
     "name": "#%%\n"
    }
   }
  },
  {
   "cell_type": "markdown",
   "source": [
    "of the 383 posts over the past week, we have a skewed distribution with a large of posters posting for only time."
   ],
   "metadata": {
    "collapsed": false,
    "pycharm": {
     "name": "#%% md\n"
    }
   }
  }
 ],
 "metadata": {
  "kernelspec": {
   "display_name": "Python 3.9.13 64-bit (windows store)",
   "language": "python",
   "name": "python3"
  },
  "language_info": {
   "codemirror_mode": {
    "name": "ipython",
    "version": 3
   },
   "file_extension": ".py",
   "mimetype": "text/x-python",
   "name": "python",
   "nbconvert_exporter": "python",
   "pygments_lexer": "ipython3",
   "version": "3.9.13"
  },
  "toc": {
   "base_numbering": 1,
   "nav_menu": {},
   "number_sections": true,
   "sideBar": true,
   "skip_h1_title": false,
   "title_cell": "Table of Contents",
   "title_sidebar": "Contents",
   "toc_cell": false,
   "toc_position": {},
   "toc_section_display": true,
   "toc_window_display": true
  },
  "vscode": {
   "interpreter": {
    "hash": "c57794392b841cffd8686d5c4548e4e2ec78521f49300d60954d1380f1b4bd1f"
   }
  }
 },
 "nbformat": 4,
 "nbformat_minor": 2
}